{
 "cells": [
  {
   "cell_type": "code",
   "execution_count": 1,
   "metadata": {},
   "outputs": [],
   "source": [
    "import numpy as np"
   ]
  },
  {
   "cell_type": "code",
   "execution_count": 2,
   "metadata": {
    "colab": {
     "base_uri": "https://localhost:8080/",
     "height": 34
    },
    "executionInfo": {
     "elapsed": 385,
     "status": "ok",
     "timestamp": 1595902913645,
     "user": {
      "displayName": "Luis Fernando Leal Hernandez",
      "photoUrl": "",
      "userId": "08643725771405988586"
     },
     "user_tz": 300
    },
    "id": "NQWMY-_vMqgx",
    "outputId": "16d161c6-373b-4ddb-be4a-60312fcba3c0"
   },
   "outputs": [
    {
     "data": {
      "text/plain": [
       "1"
      ]
     },
     "execution_count": 2,
     "metadata": {},
     "output_type": "execute_result"
    }
   ],
   "source": [
    "def  operacion_or(x1,x2):\n",
    "    parametros = [1,1,0]\n",
    "\n",
    "    return  int(x1*parametros[0]  + x2*parametros[1] + parametros[2] > 0)\n",
    " \n",
    "testx1 = 1\n",
    "testx2 = 1\n",
    " \n",
    "operacion_or(testx1,testx2)"
   ]
  },
  {
   "cell_type": "code",
   "execution_count": 4,
   "metadata": {
    "colab": {
     "base_uri": "https://localhost:8080/",
     "height": 34
    },
    "executionInfo": {
     "elapsed": 421,
     "status": "ok",
     "timestamp": 1595903051381,
     "user": {
      "displayName": "Luis Fernando Leal Hernandez",
      "photoUrl": "",
      "userId": "08643725771405988586"
     },
     "user_tz": 300
    },
    "id": "5D-YWRCHOR-6",
    "outputId": "61f868f7-ab19-48c9-e2e2-9ae71827445b"
   },
   "outputs": [
    {
     "data": {
      "text/plain": [
       "0"
      ]
     },
     "execution_count": 4,
     "metadata": {},
     "output_type": "execute_result"
    }
   ],
   "source": [
    "def operacion_and(x1,x2):\n",
    "    parametros = [1,1,-1]\n",
    "\n",
    "    return  int(x1*parametros[0]  + x2*parametros[1] + parametros[2] > 0)\n",
    " \n",
    "testx1 = 0\n",
    "testx2 = 1\n",
    " \n",
    "operacion_and(testx1,testx2)"
   ]
  },
  {
   "cell_type": "code",
   "execution_count": 12,
   "metadata": {},
   "outputs": [],
   "source": [
    "def operacion_not(x1):\n",
    "    return (x1-1)*-1"
   ]
  },
  {
   "cell_type": "code",
   "execution_count": 13,
   "metadata": {
    "colab": {
     "base_uri": "https://localhost:8080/",
     "height": 34
    },
    "executionInfo": {
     "elapsed": 385,
     "status": "ok",
     "timestamp": 1595903481963,
     "user": {
      "displayName": "Luis Fernando Leal Hernandez",
      "photoUrl": "",
      "userId": "08643725771405988586"
     },
     "user_tz": 300
    },
    "id": "zWn-N5uMO9JR",
    "outputId": "f5706015-fb1b-4441-c098-c5b24d36b6ab"
   },
   "outputs": [
    {
     "data": {
      "text/plain": [
       "1"
      ]
     },
     "execution_count": 13,
     "metadata": {},
     "output_type": "execute_result"
    }
   ],
   "source": [
    "def operacion_xor(x1,x2):\n",
    "    temp1 = operacion_and(x1,x2)\n",
    "    temp2 = operacion_or(x1,x2)\n",
    " \n",
    "    nand_temp = operacion_not(temp1)\n",
    "\n",
    "    temp_3 = operacion_and(nand_temp, temp2)\n",
    "\n",
    "    return temp_3\n",
    " \n",
    "testx1 = 1\n",
    "testx2 = 0\n",
    " \n",
    "operacion_xor(testx1, testx2)"
   ]
  }
 ],
 "metadata": {
  "colab": {
   "name": "XOR_con_perceptrones.ipynb",
   "provenance": []
  },
  "kernelspec": {
   "display_name": "Python 3",
   "language": "python",
   "name": "python3"
  },
  "language_info": {
   "codemirror_mode": {
    "name": "ipython",
    "version": 3
   },
   "file_extension": ".py",
   "mimetype": "text/x-python",
   "name": "python",
   "nbconvert_exporter": "python",
   "pygments_lexer": "ipython3",
   "version": "3.8.5"
  }
 },
 "nbformat": 4,
 "nbformat_minor": 1
}
