{
 "cells": [
  {
   "cell_type": "markdown",
   "metadata": {},
   "source": [
    "## Parte 1: Forward Progation"
   ]
  },
  {
   "cell_type": "markdown",
   "metadata": {
    "id": "-xJPhEzbqWp9"
   },
   "source": [
    "Igorando el sesgo/bias y asumiendo activación sigmoidal implementar la siguiente red neuronal en NumPy\n",
    "\n",
    "https://gadictos.com/neural-network-pt1/\n",
    "<img src=\"https://gadictos.com/wp-content/uploads/2019/05/bp1.png\">"
   ]
  },
  {
   "cell_type": "code",
   "execution_count": 1,
   "metadata": {
    "id": "Q1yAwOc4qPLs"
   },
   "outputs": [],
   "source": [
    "import numpy as np"
   ]
  },
  {
   "cell_type": "code",
   "execution_count": 2,
   "metadata": {
    "colab": {
     "base_uri": "https://localhost:8080/"
    },
    "id": "hir96PwIqZOB",
    "outputId": "e8ec26e5-e7bb-499d-a388-b99121c61bb0"
   },
   "outputs": [
    {
     "data": {
      "text/plain": [
       "array([0.88079708, 0.95257413, 0.98201379])"
      ]
     },
     "execution_count": 2,
     "metadata": {},
     "output_type": "execute_result"
    }
   ],
   "source": [
    "def sigmoid(X):\n",
    "    return 1/(1+np.exp(-X))\n",
    "\n",
    "sigmoid(np.array([2,3,4]))"
   ]
  },
  {
   "cell_type": "code",
   "execution_count": 3,
   "metadata": {
    "id": "O7GP_nCsq1PK"
   },
   "outputs": [],
   "source": [
    "Wc1 = np.array([\n",
    "   [0.9,0.3,0.2],\n",
    "   [0.8,0.5,0.4],\n",
    "   [0.1,0.6,0.7]\n",
    "])"
   ]
  },
  {
   "cell_type": "code",
   "execution_count": 4,
   "metadata": {
    "id": "dvgUY50uruJm"
   },
   "outputs": [],
   "source": [
    "Wc2 = np.array([0.3,0.5,0.9])"
   ]
  },
  {
   "cell_type": "code",
   "execution_count": 5,
   "metadata": {
    "id": "h2gQk06wr-2U"
   },
   "outputs": [],
   "source": [
    "# 4 observaciones, 3 variables\n",
    "X = np.array([\n",
    "      [1,0,1],\n",
    "      [1,2,3],\n",
    "      [4,5,6],\n",
    "      [6,7,8],\n",
    "])"
   ]
  },
  {
   "cell_type": "markdown",
   "metadata": {
    "id": "83lprDqdsXS9"
   },
   "source": [
    "### Forward-propagation(inferencia, prediccion, o estimacion)\n"
   ]
  },
  {
   "cell_type": "code",
   "execution_count": 6,
   "metadata": {
    "id": "6YQQehtksWIh"
   },
   "outputs": [],
   "source": [
    "H = np.matmul(X, Wc1)"
   ]
  },
  {
   "cell_type": "code",
   "execution_count": 7,
   "metadata": {
    "colab": {
     "base_uri": "https://localhost:8080/",
     "height": 34
    },
    "id": "Yk6tcrDVspc5",
    "outputId": "d9fda99e-f53c-4c2a-8a46-3cedb412b518"
   },
   "outputs": [
    {
     "data": {
      "text/plain": [
       "(4, 3)"
      ]
     },
     "execution_count": 7,
     "metadata": {},
     "output_type": "execute_result"
    }
   ],
   "source": [
    "X.shape"
   ]
  },
  {
   "cell_type": "code",
   "execution_count": 8,
   "metadata": {
    "colab": {
     "base_uri": "https://localhost:8080/"
    },
    "id": "N-N_C7E2ssQQ",
    "outputId": "d25f97f2-b316-47ad-8aaf-d93c63c676e5"
   },
   "outputs": [
    {
     "data": {
      "text/plain": [
       "(3, 3)"
      ]
     },
     "execution_count": 8,
     "metadata": {},
     "output_type": "execute_result"
    }
   ],
   "source": [
    "Wc1.shape"
   ]
  },
  {
   "cell_type": "code",
   "execution_count": 9,
   "metadata": {
    "colab": {
     "base_uri": "https://localhost:8080/",
     "height": 34
    },
    "id": "JNLhgYB6styV",
    "outputId": "e4562f99-35bf-4ee9-e6e2-0ef0dbfcbdd1"
   },
   "outputs": [
    {
     "data": {
      "text/plain": [
       "(4, 3)"
      ]
     },
     "execution_count": 9,
     "metadata": {},
     "output_type": "execute_result"
    }
   ],
   "source": [
    "H.shape"
   ]
  },
  {
   "cell_type": "code",
   "execution_count": 10,
   "metadata": {
    "colab": {
     "base_uri": "https://localhost:8080/"
    },
    "id": "hl3ppyjaIVgE",
    "outputId": "e16eb1de-464f-4adb-904d-ff64b1e38c0a"
   },
   "outputs": [
    {
     "data": {
      "text/plain": [
       "array([[ 1. ,  0.9,  0.9],\n",
       "       [ 2.8,  3.1,  3.1],\n",
       "       [ 8.2,  7.3,  7. ],\n",
       "       [11.8, 10.1,  9.6]])"
      ]
     },
     "execution_count": 10,
     "metadata": {},
     "output_type": "execute_result"
    }
   ],
   "source": [
    "H"
   ]
  },
  {
   "cell_type": "code",
   "execution_count": 11,
   "metadata": {
    "id": "K1BwUuoxs1K9"
   },
   "outputs": [],
   "source": [
    "A = sigmoid(H)"
   ]
  },
  {
   "cell_type": "code",
   "execution_count": 12,
   "metadata": {
    "colab": {
     "base_uri": "https://localhost:8080/"
    },
    "id": "-JrD3ICAtLfY",
    "outputId": "478c572d-aa78-4b95-c315-f88a2b11dbab"
   },
   "outputs": [
    {
     "data": {
      "text/plain": [
       "array([[0.73105858, 0.7109495 , 0.7109495 ],\n",
       "       [0.94267582, 0.95689275, 0.95689275],\n",
       "       [0.99972542, 0.99932492, 0.99908895],\n",
       "       [0.9999925 , 0.99995892, 0.99993228]])"
      ]
     },
     "execution_count": 12,
     "metadata": {},
     "output_type": "execute_result"
    }
   ],
   "source": [
    "A"
   ]
  },
  {
   "cell_type": "code",
   "execution_count": 13,
   "metadata": {
    "id": "Rhk8mrKutMYa"
   },
   "outputs": [],
   "source": [
    "y_aprox = sigmoid(np.matmul(\n",
    "    A,Wc2\n",
    "))"
   ]
  },
  {
   "cell_type": "code",
   "execution_count": 14,
   "metadata": {
    "colab": {
     "base_uri": "https://localhost:8080/"
    },
    "id": "RlJksB9Bt2kU",
    "outputId": "b983df36-b4b7-463a-ae17-e0eaa1cd574d"
   },
   "outputs": [
    {
     "data": {
      "text/plain": [
       "array([0.77112013, 0.83513309, 0.84537273, 0.8455238 ])"
      ]
     },
     "execution_count": 14,
     "metadata": {},
     "output_type": "execute_result"
    }
   ],
   "source": [
    "y_aprox"
   ]
  },
  {
   "cell_type": "code",
   "execution_count": 16,
   "metadata": {
    "id": "xi3gkqIyugog"
   },
   "outputs": [],
   "source": [
    "def g(X):\n",
    "    return sigmoid(np.matmul(X,Wc1))"
   ]
  },
  {
   "cell_type": "code",
   "execution_count": 17,
   "metadata": {
    "id": "bXoXpxdUuM44"
   },
   "outputs": [],
   "source": [
    "def f(g):\n",
    "    return sigmoid(np.matmul(g,Wc2))"
   ]
  },
  {
   "cell_type": "code",
   "execution_count": 18,
   "metadata": {
    "id": "D3XYAyaWt4Dq"
   },
   "outputs": [],
   "source": [
    "y_aprox = f(g(X))"
   ]
  },
  {
   "cell_type": "code",
   "execution_count": 19,
   "metadata": {
    "colab": {
     "base_uri": "https://localhost:8080/"
    },
    "id": "VLV6mCnXu0Uq",
    "outputId": "18e1c813-2769-48a1-aac0-381e0f20b55d"
   },
   "outputs": [
    {
     "data": {
      "text/plain": [
       "array([0.77112013, 0.83513309, 0.84537273, 0.8455238 ])"
      ]
     },
     "execution_count": 19,
     "metadata": {},
     "output_type": "execute_result"
    }
   ],
   "source": [
    "y_aprox"
   ]
  },
  {
   "cell_type": "markdown",
   "metadata": {
    "id": "ET5Q69rqTRqN"
   },
   "source": [
    "#### Orientado a objetos"
   ]
  },
  {
   "cell_type": "code",
   "execution_count": 33,
   "metadata": {},
   "outputs": [],
   "source": [
    "# 4 observaciones, 3 variables\n",
    "X = np.array([\n",
    "      [1,0,1],\n",
    "      [1,2,3],\n",
    "      [4,5,6],\n",
    "      [6,7,8],\n",
    "])"
   ]
  },
  {
   "cell_type": "code",
   "execution_count": 36,
   "metadata": {
    "id": "YQoIIfoDu19e"
   },
   "outputs": [],
   "source": [
    "class RedNeuronal:\n",
    "    def __init__(self):\n",
    "        self.Wc1 = np.array([\n",
    "           [0.9,0.3,0.2],\n",
    "           [0.8,0.5,0.4],\n",
    "           [0.1,0.6,0.7]])\n",
    "        self. Wc2  = np.array([0.3,0.5,0.9])\n",
    "        \n",
    "    def sigmoid(self, X):\n",
    "        return 1/(1+np.exp(-X))\n",
    "\n",
    "    def forward_propagation(self, X):\n",
    "        A = self.sigmoid(np.matmul(X, self.Wc1))\n",
    "        y_aprox = self.sigmoid(np.matmul(A, self.Wc2))\n",
    "\n",
    "        return y_aprox"
   ]
  },
  {
   "cell_type": "code",
   "execution_count": 37,
   "metadata": {
    "colab": {
     "base_uri": "https://localhost:8080/",
     "height": 299
    },
    "id": "S9QeAwizUOQ1",
    "outputId": "6b7f5d03-3c46-43db-fdc6-696a34a61ee7"
   },
   "outputs": [
    {
     "data": {
      "text/plain": [
       "array([0.77112013, 0.83513309, 0.84537273, 0.8455238 ])"
      ]
     },
     "execution_count": 37,
     "metadata": {},
     "output_type": "execute_result"
    }
   ],
   "source": [
    "red = RedNeuronal()\n",
    "red.forward_propagation(X) "
   ]
  },
  {
   "cell_type": "markdown",
   "metadata": {
    "id": "zzvKRkK8EQBI"
   },
   "source": [
    "<img src=\"https://i.imgur.com/IDFRq5a.png\">"
   ]
  },
  {
   "cell_type": "markdown",
   "metadata": {
    "id": "mOthS-Y8SxaV"
   },
   "source": [
    "[0.73105858 0.78583498 0.68997448]"
   ]
  },
  {
   "cell_type": "code",
   "execution_count": 22,
   "metadata": {
    "id": "JqwT9ScPUnTc"
   },
   "outputs": [],
   "source": [
    "class RedNeuronal:\n",
    "    def __init__(self):\n",
    "        self.Wc1 = np.array([\n",
    "            [0.8,0.2],\n",
    "            [0.4,0.9],\n",
    "            [0.3,0.5]    \n",
    "        ])\n",
    "\n",
    "        self. Wc2  = np.array([0.3,0.5,0.9])\n",
    "\n",
    "    def forward_propagation(self,X):\n",
    "        A = sigmoid(np.matmul(X,self.Wc1.T)) \n",
    "        y_aprox = sigmoid(np.matmul(A,self.Wc2))\n",
    "        return y_aprox"
   ]
  },
  {
   "cell_type": "code",
   "execution_count": 23,
   "metadata": {
    "id": "ErGGNxXUOmm1"
   },
   "outputs": [],
   "source": [
    "# 4 observaciones, 2 variables\n",
    "X = np.array([\n",
    "      [1,1],\n",
    "      [1,2],\n",
    "      [4,5],\n",
    "      [6,7],\n",
    "])"
   ]
  },
  {
   "cell_type": "code",
   "execution_count": 24,
   "metadata": {
    "colab": {
     "base_uri": "https://localhost:8080/",
     "height": 156
    },
    "id": "EJ8aX9rtP8UL",
    "outputId": "d0e4c0e0-fa51-423c-c153-44005f8c743c"
   },
   "outputs": [
    {
     "name": "stdout",
     "output_type": "stream",
     "text": [
      "(4, 2)\n",
      "(2, 3)\n",
      "[[0.73105858 0.78583498 0.68997448]\n",
      " [0.76852478 0.90024951 0.78583498]\n",
      " [0.98522597 0.99776215 0.97587298]\n",
      " [0.99797468 0.99983344 0.9950332 ]]\n",
      "(4, 3)\n",
      "(4,)\n"
     ]
    }
   ],
   "source": [
    "red = RedNeuronal()\n",
    "y_aprox = red.forward_propagation(X)"
   ]
  },
  {
   "cell_type": "code",
   "execution_count": 25,
   "metadata": {
    "colab": {
     "base_uri": "https://localhost:8080/",
     "height": 34
    },
    "id": "bqvVlr8nQG83",
    "outputId": "40b87d92-0b00-4be3-e62a-92d175c44fa4"
   },
   "outputs": [
    {
     "data": {
      "text/plain": [
       "array([0.77438027, 0.80026216, 0.84194007, 0.84485948])"
      ]
     },
     "execution_count": 25,
     "metadata": {},
     "output_type": "execute_result"
    }
   ],
   "source": [
    "y_aprox"
   ]
  },
  {
   "cell_type": "markdown",
   "metadata": {
    "id": "AWBZdfJRSAvT"
   },
   "source": [
    "<img src=\"ejercicio3.png\">"
   ]
  },
  {
   "cell_type": "code",
   "execution_count": 88,
   "metadata": {},
   "outputs": [],
   "source": [
    "class RedNeuronal:\n",
    "    def __init__(self):\n",
    "        self.Wc1 = np.array([\n",
    "            [5, 7],\n",
    "            [-2, -3],\n",
    "            [-8, 1]    \n",
    "        ])\n",
    "\n",
    "        self.Wc2  = np.array([7, 5, -6])\n",
    "        \n",
    "    def sigmoid(self, X):\n",
    "        return 1/(1+np.exp(-X))\n",
    "\n",
    "    def forward_propagation(self, X):\n",
    "        A = self.sigmoid(np.matmul(X, self.Wc1))\n",
    "        inter = np.ones((A.shape[0], 3))\n",
    "        inter[:, :2] = A\n",
    "        return self.sigmoid(np.matmul(inter, self.Wc2))"
   ]
  },
  {
   "cell_type": "code",
   "execution_count": 89,
   "metadata": {},
   "outputs": [],
   "source": [
    "\n",
    "X = np.array([\n",
    "      [1,1,1],\n",
    "      [1,2,1],\n",
    "      [4,5,1],\n",
    "      [6,7,1],\n",
    "])"
   ]
  },
  {
   "cell_type": "code",
   "execution_count": 90,
   "metadata": {},
   "outputs": [],
   "source": [
    "red = RedNeuronal()\n",
    "y_aprox = red.forward_propagation(X)"
   ]
  },
  {
   "cell_type": "code",
   "execution_count": 91,
   "metadata": {},
   "outputs": [
    {
     "data": {
      "text/plain": [
       "array([0.27158134, 0.16943494, 0.99432264, 0.99752158])"
      ]
     },
     "execution_count": 91,
     "metadata": {},
     "output_type": "execute_result"
    }
   ],
   "source": [
    "y_aprox"
   ]
  },
  {
   "cell_type": "markdown",
   "metadata": {},
   "source": [
    "## Parte 2: Calculo de parametros para las siguientes redes"
   ]
  },
  {
   "cell_type": "markdown",
   "metadata": {},
   "source": [
    "<img src=\"e1.png\">\n",
    "Asumiendo que no tiene bias, unicamente son 3 parametros.\n",
    "\n",
    "<img src=\"e2.png\">\n",
    "\n",
    "Ya que explicitamente menciona el bias, seria 3 parametros.\n",
    "<img src=\"e3.png\">\n",
    "Asumiendo que no tiene bias, son 12 parametros.\n",
    "\n",
    "<img src=\"e4.png\">\n",
    "\n",
    "Ya que explicitamente menciona el bias, serian 9 parametros.\n",
    "<img src=\"e5.png\">\n",
    "\n",
    "Asumiendo que no tiene bias, son 10 parametros.\n",
    "<img src=\"e6.png\">\n",
    "\n",
    "Asumiendo que no tiene bias, son 20 parametros."
   ]
  },
  {
   "cell_type": "code",
   "execution_count": null,
   "metadata": {},
   "outputs": [],
   "source": []
  }
 ],
 "metadata": {
  "colab": {
   "collapsed_sections": [],
   "name": "forward_propagation_numpy.ipynb",
   "provenance": []
  },
  "kernelspec": {
   "display_name": "Python 3",
   "language": "python",
   "name": "python3"
  },
  "language_info": {
   "codemirror_mode": {
    "name": "ipython",
    "version": 3
   },
   "file_extension": ".py",
   "mimetype": "text/x-python",
   "name": "python",
   "nbconvert_exporter": "python",
   "pygments_lexer": "ipython3",
   "version": "3.8.5"
  }
 },
 "nbformat": 4,
 "nbformat_minor": 1
}
