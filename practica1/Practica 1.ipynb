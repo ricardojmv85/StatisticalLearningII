{
 "cells": [
  {
   "cell_type": "code",
   "execution_count": 69,
   "metadata": {},
   "outputs": [],
   "source": [
    "from sklearn.mixture import GaussianMixture\n",
    "\n",
    "import pandas as pd\n",
    "import numpy as np\n",
    "import random\n",
    "\n",
    "import matplotlib.pyplot as plt"
   ]
  },
  {
   "cell_type": "code",
   "execution_count": 2,
   "metadata": {},
   "outputs": [
    {
     "data": {
      "text/html": [
       "<div>\n",
       "<style scoped>\n",
       "    .dataframe tbody tr th:only-of-type {\n",
       "        vertical-align: middle;\n",
       "    }\n",
       "\n",
       "    .dataframe tbody tr th {\n",
       "        vertical-align: top;\n",
       "    }\n",
       "\n",
       "    .dataframe thead th {\n",
       "        text-align: right;\n",
       "    }\n",
       "</style>\n",
       "<table border=\"1\" class=\"dataframe\">\n",
       "  <thead>\n",
       "    <tr style=\"text-align: right;\">\n",
       "      <th></th>\n",
       "      <th>Estatura(metros)</th>\n",
       "      <th>Edad(años)</th>\n",
       "    </tr>\n",
       "  </thead>\n",
       "  <tbody>\n",
       "    <tr>\n",
       "      <th>0</th>\n",
       "      <td>1.77</td>\n",
       "      <td>26</td>\n",
       "    </tr>\n",
       "    <tr>\n",
       "      <th>1</th>\n",
       "      <td>1.74</td>\n",
       "      <td>31</td>\n",
       "    </tr>\n",
       "    <tr>\n",
       "      <th>2</th>\n",
       "      <td>1.72</td>\n",
       "      <td>24</td>\n",
       "    </tr>\n",
       "    <tr>\n",
       "      <th>3</th>\n",
       "      <td>1.78</td>\n",
       "      <td>34</td>\n",
       "    </tr>\n",
       "    <tr>\n",
       "      <th>4</th>\n",
       "      <td>1.65</td>\n",
       "      <td>32</td>\n",
       "    </tr>\n",
       "  </tbody>\n",
       "</table>\n",
       "</div>"
      ],
      "text/plain": [
       "   Estatura(metros)  Edad(años)\n",
       "0              1.77          26\n",
       "1              1.74          31\n",
       "2              1.72          24\n",
       "3              1.78          34\n",
       "4              1.65          32"
      ]
     },
     "execution_count": 2,
     "metadata": {},
     "output_type": "execute_result"
    }
   ],
   "source": [
    "data = pd.read_csv(\"estaturas.csv\")\n",
    "data.head()"
   ]
  },
  {
   "cell_type": "markdown",
   "metadata": {},
   "source": [
    "### Hard Clustering (k-means)"
   ]
  },
  {
   "cell_type": "code",
   "execution_count": 167,
   "metadata": {},
   "outputs": [],
   "source": [
    "class kmeans:\n",
    "    \n",
    "    def error(self, x, labels, centroids):\n",
    "        labels_temp = [centroids[label] for label in labels]\n",
    "        return np.average(np.power(x-labels_temp, 2))\n",
    "    \n",
    "    def predict(self, x):\n",
    "        labels = [-1 for i in x]\n",
    "        for i in range(0, len(x)):\n",
    "            distances = [np.linalg.norm(centroid-x[i]) for centroid in self.centroids]\n",
    "            labels[i] = np.argmin(distances)\n",
    "        return labels\n",
    "      \n",
    "    def train(self, x, k):\n",
    "        indexes = np.random.choice(len(x), size=k, replace=False)\n",
    "        centroids = x[indexes, :]\n",
    "        labels = [-1 for i in x]\n",
    "        for i in range(0, len(x)):\n",
    "            distances = [np.linalg.norm(centroid-x[i]) for centroid in centroids]\n",
    "            labels[i] = np.argmin(distances)\n",
    "\n",
    "        for j in range(0, len(centroids)):\n",
    "            cluster = x[np.where(np.array(labels) == j)]\n",
    "            centroids[j] = np.mean(cluster, axis=0)\n",
    "    \n",
    "        self.centroids = centroids\n",
    "        self.predictions = labels\n",
    "        self.cost = self.error(x, labels, centroids)"
   ]
  },
  {
   "cell_type": "markdown",
   "metadata": {},
   "source": [
    "### Soft Clustering GMM"
   ]
  },
  {
   "cell_type": "code",
   "execution_count": 201,
   "metadata": {},
   "outputs": [],
   "source": [
    "def gmm(x, k):\n",
    "    \n",
    "    def cost(x, labels, centroids):\n",
    "        labels_temp = [centroids[label] for label in labels]\n",
    "        return np.mean(np.power(x-labels_temp, 2))\n",
    "    \n",
    "    gmm2 = GaussianMixture(n_components=k).fit(x)\n",
    "    labels = gmm2.predict(x)\n",
    "    probs = gmm2.predict_proba(x)\n",
    "    costo = cost(x, labels, gmm2.means_)\n",
    "    return gmm2, costo"
   ]
  },
  {
   "cell_type": "markdown",
   "metadata": {},
   "source": [
    "### Experimentos"
   ]
  },
  {
   "cell_type": "code",
   "execution_count": 163,
   "metadata": {},
   "outputs": [],
   "source": [
    "k_values = [2, 3, 4, 5, 6, 7, 8, 9, 10, 11, 12]\n",
    "costs_gmm = []\n",
    "costs_kmeans = []\n",
    "\n",
    "for k in k_values:\n",
    "    temp_km = kmeans()\n",
    "    temp_km.train(np.array(data), k)\n",
    "    costs_kmeans.append([k, temp_km.cost])\n",
    "    \n",
    "    temp_gmm, cost_gmm = gmm(np.array(data), k)\n",
    "    costs_gmm.append([k, cost_gmm])"
   ]
  },
  {
   "cell_type": "code",
   "execution_count": 158,
   "metadata": {},
   "outputs": [
    {
     "data": {
      "image/png": "[encoded data removed]",
      "text/plain": [
       "<Figure size 432x288 with 1 Axes>"
      ]
     },
     "metadata": {
      "needs_background": "light"
     },
     "output_type": "display_data"
    },
    {
     "data": {
      "image/png": "[encoded data removed]",
      "text/plain": [
       "<Figure size 432x288 with 1 Axes>"
      ]
     },
     "metadata": {
      "needs_background": "light"
     },
     "output_type": "display_data"
    }
   ],
   "source": [
    "plt.plot(np.array(costs_kmeans)[:, 0], np.array(costs_kmeans)[:, 1])\n",
    "plt.title(\"KMEANS\")\n",
    "plt.show()\n",
    "\n",
    "plt.plot(np.array(costs_gmm)[:, 0], np.array(costs_gmm)[:, 1])\n",
    "plt.title(\"GMM\")\n",
    "plt.show()"
   ]
  },
  {
   "cell_type": "markdown",
   "metadata": {},
   "source": [
    "El metodo del codo en este caso nos es util para seleccionar el valor de k en el modelo de GMM, en kmeans vemos que no logramos una convergencia"
   ]
  },
  {
   "cell_type": "markdown",
   "metadata": {},
   "source": [
    "### Validacion"
   ]
  },
  {
   "cell_type": "code",
   "execution_count": 161,
   "metadata": {},
   "outputs": [
    {
     "data": {
      "text/html": [
       "<div>\n",
       "<style scoped>\n",
       "    .dataframe tbody tr th:only-of-type {\n",
       "        vertical-align: middle;\n",
       "    }\n",
       "\n",
       "    .dataframe tbody tr th {\n",
       "        vertical-align: top;\n",
       "    }\n",
       "\n",
       "    .dataframe thead th {\n",
       "        text-align: right;\n",
       "    }\n",
       "</style>\n",
       "<table border=\"1\" class=\"dataframe\">\n",
       "  <thead>\n",
       "    <tr style=\"text-align: right;\">\n",
       "      <th></th>\n",
       "      <th>Estatura(metros)</th>\n",
       "      <th>Edad(años)</th>\n",
       "    </tr>\n",
       "  </thead>\n",
       "  <tbody>\n",
       "    <tr>\n",
       "      <th>0</th>\n",
       "      <td>1.82</td>\n",
       "      <td>25</td>\n",
       "    </tr>\n",
       "    <tr>\n",
       "      <th>1</th>\n",
       "      <td>1.80</td>\n",
       "      <td>27</td>\n",
       "    </tr>\n",
       "    <tr>\n",
       "      <th>2</th>\n",
       "      <td>1.60</td>\n",
       "      <td>31</td>\n",
       "    </tr>\n",
       "    <tr>\n",
       "      <th>3</th>\n",
       "      <td>1.60</td>\n",
       "      <td>35</td>\n",
       "    </tr>\n",
       "    <tr>\n",
       "      <th>4</th>\n",
       "      <td>1.82</td>\n",
       "      <td>30</td>\n",
       "    </tr>\n",
       "    <tr>\n",
       "      <th>5</th>\n",
       "      <td>1.76</td>\n",
       "      <td>32</td>\n",
       "    </tr>\n",
       "    <tr>\n",
       "      <th>6</th>\n",
       "      <td>1.79</td>\n",
       "      <td>31</td>\n",
       "    </tr>\n",
       "    <tr>\n",
       "      <th>7</th>\n",
       "      <td>1.61</td>\n",
       "      <td>31</td>\n",
       "    </tr>\n",
       "  </tbody>\n",
       "</table>\n",
       "</div>"
      ],
      "text/plain": [
       "   Estatura(metros)  Edad(años)\n",
       "0              1.82          25\n",
       "1              1.80          27\n",
       "2              1.60          31\n",
       "3              1.60          35\n",
       "4              1.82          30\n",
       "5              1.76          32\n",
       "6              1.79          31\n",
       "7              1.61          31"
      ]
     },
     "execution_count": 161,
     "metadata": {},
     "output_type": "execute_result"
    }
   ],
   "source": [
    "validation = pd.read_csv(\"validacion.csv\")\n",
    "validation"
   ]
  },
  {
   "cell_type": "code",
   "execution_count": 202,
   "metadata": {},
   "outputs": [
    {
     "name": "stdout",
     "output_type": "stream",
     "text": [
      "KMEANS\n",
      "GMM\n"
     ]
    },
    {
     "data": {
      "text/html": [
       "<div>\n",
       "<style scoped>\n",
       "    .dataframe tbody tr th:only-of-type {\n",
       "        vertical-align: middle;\n",
       "    }\n",
       "\n",
       "    .dataframe tbody tr th {\n",
       "        vertical-align: top;\n",
       "    }\n",
       "\n",
       "    .dataframe thead th {\n",
       "        text-align: right;\n",
       "    }\n",
       "</style>\n",
       "<table border=\"1\" class=\"dataframe\">\n",
       "  <thead>\n",
       "    <tr style=\"text-align: right;\">\n",
       "      <th></th>\n",
       "      <th>kmeans</th>\n",
       "      <th>gmm</th>\n",
       "    </tr>\n",
       "  </thead>\n",
       "  <tbody>\n",
       "    <tr>\n",
       "      <th>0</th>\n",
       "      <td>2</td>\n",
       "      <td>1</td>\n",
       "    </tr>\n",
       "    <tr>\n",
       "      <th>1</th>\n",
       "      <td>2</td>\n",
       "      <td>1</td>\n",
       "    </tr>\n",
       "    <tr>\n",
       "      <th>2</th>\n",
       "      <td>1</td>\n",
       "      <td>0</td>\n",
       "    </tr>\n",
       "    <tr>\n",
       "      <th>3</th>\n",
       "      <td>0</td>\n",
       "      <td>2</td>\n",
       "    </tr>\n",
       "    <tr>\n",
       "      <th>4</th>\n",
       "      <td>1</td>\n",
       "      <td>0</td>\n",
       "    </tr>\n",
       "    <tr>\n",
       "      <th>5</th>\n",
       "      <td>0</td>\n",
       "      <td>0</td>\n",
       "    </tr>\n",
       "    <tr>\n",
       "      <th>6</th>\n",
       "      <td>1</td>\n",
       "      <td>0</td>\n",
       "    </tr>\n",
       "    <tr>\n",
       "      <th>7</th>\n",
       "      <td>1</td>\n",
       "      <td>0</td>\n",
       "    </tr>\n",
       "  </tbody>\n",
       "</table>\n",
       "</div>"
      ],
      "text/plain": [
       "   kmeans  gmm\n",
       "0       2    1\n",
       "1       2    1\n",
       "2       1    0\n",
       "3       0    2\n",
       "4       1    0\n",
       "5       0    0\n",
       "6       1    0\n",
       "7       1    0"
      ]
     },
     "execution_count": 202,
     "metadata": {},
     "output_type": "execute_result"
    }
   ],
   "source": [
    "# KMEANS\n",
    "print(\"KMEANS\")\n",
    "val_km = kmeans()\n",
    "val_km.train(np.array(validation), 3)\n",
    "km_predictions = val_km.predictions\n",
    "\n",
    "# GMM\n",
    "print(\"GMM\")\n",
    "gmm, costo = gmm(np.array(validation), 3)\n",
    "gmm_predictions = gmm.predict(np.array(validation))\n",
    "\n",
    "results = pd.DataFrame({'kmeans': km_predictions, 'gmm': gmm_predictions})\n",
    "results"
   ]
  },
  {
   "cell_type": "markdown",
   "metadata": {},
   "source": [
    "### Estimacion Monte Carlo"
   ]
  },
  {
   "cell_type": "code",
   "execution_count": 228,
   "metadata": {},
   "outputs": [
    {
     "name": "stdout",
     "output_type": "stream",
     "text": [
      "0.06134260479577945\n"
     ]
    }
   ],
   "source": [
    "x = np.array(data)\n",
    "\n",
    "gm = GaussianMixture(n_components=2, random_state=0).fit(x)\n",
    "\n",
    "def relation(height, age):\n",
    "    return height/age\n",
    "\n",
    "samp, cluster = gm.sample(1000)\n",
    "samp_relation = relation(samp[:, 0], samp[:, 1])\n",
    "expected_value = np.mean(samp_relation)\n",
    "print(expected_value)"
   ]
  }
 ],
 "metadata": {
  "kernelspec": {
   "display_name": "Python 3",
   "language": "python",
   "name": "python3"
  },
  "language_info": {
   "codemirror_mode": {
    "name": "ipython",
    "version": 3
   },
   "file_extension": ".py",
   "mimetype": "text/x-python",
   "name": "python",
   "nbconvert_exporter": "python",
   "pygments_lexer": "ipython3",
   "version": "3.8.5"
  }
 },
 "nbformat": 4,
 "nbformat_minor": 4
}
