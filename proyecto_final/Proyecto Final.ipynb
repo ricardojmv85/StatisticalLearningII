{
 "cells": [
  {
   "cell_type": "markdown",
   "metadata": {},
   "source": [
    "#### librerias"
   ]
  },
  {
   "cell_type": "code",
   "execution_count": 126,
   "metadata": {},
   "outputs": [],
   "source": [
    "import pandas as pd\n",
    "import numpy as np\n",
    "import tensorflow as tf\n",
    "import matplotlib.pyplot as plt\n",
    "\n",
    "from keras.models import Sequential\n",
    "from keras.layers import Dense, Dropout, BatchNormalization\n",
    "\n",
    "from sklearn.model_selection import train_test_split\n",
    "from sklearn.preprocessing import MinMaxScaler"
   ]
  },
  {
   "cell_type": "markdown",
   "metadata": {},
   "source": [
    "## Parte 1"
   ]
  },
  {
   "cell_type": "markdown",
   "metadata": {},
   "source": [
    "La primera parte del proyecto estara centrada en la prediccion categorica de canciones, se quiere predecir si una cancion con x caracteristicas puede ser de agrado para un agente Y. Esto tratara de imitar el modelo de seleccion de canciones nuevas que plataformas como Spotify, Apple music y demas productos de streaming ofrecen al usuario como nuevas alternativas musicales o descubrimientos musicales.\n",
    "\n",
    "La informacion fue extraida de la API de Spotify para un agente X, con el cual trataremos de hacer un modelo que nos pueda aprender la relacion entre las caracteristicas de una cancion y el gusto musical de nuestro agente X, con el fin de poder en un futuro se pueda seleccionar un grupo de canciones, pasarlar por le modelo para obtener las que le gustarian a nuestro agente X y asi poder compartirle \"nuevas canciones\" que seran de su agrado. \n",
    "\n",
    "El modelo en si es basicamente funcionara como un sistema de recomendacion."
   ]
  },
  {
   "cell_type": "markdown",
   "metadata": {},
   "source": [
    "#### Dataset"
   ]
  },
  {
   "cell_type": "code",
   "execution_count": 17,
   "metadata": {},
   "outputs": [],
   "source": [
    "raw_dataset1 = pd.read_csv(\"parte1/data.csv\", index_col=0)"
   ]
  },
  {
   "cell_type": "markdown",
   "metadata": {},
   "source": [
    "El dataset consiste en un set de canciones reproducidas sobre un agente X, por cada cancion contamos con 15 features que provee spotify y la variable respuesta que indica si la cancion tuvo fue de agrado para el agente o no.\n",
    "\n",
    "**Variables:**\n",
    "* acousticness: valor entre 0 y 1 que indica que tan acustica es una cancion.\n",
    "* danceability: valor entre 0 y 1 que indica que tan indicada es la cancion para bailar, esto es medido a partir del tempo, ritmo, fuerza de los tonos.\n",
    "* duration_ms: Durations de la cancion en milisegundos.\n",
    "* energy: valor entre 0 y 1 que mide la velocidad, lo ruidoso y el alto tono de la cancion.\n",
    "* instrumentalness: valor entre 0 y 1 que mide que tan instrumental es la cancion al verificar la ausencia de sonidos vocales.\n",
    "* key: la llave de la cancion.\n",
    "* liveness: valor entre 0 y 1 que detenta la presencia de audiencia en la cancion.\n",
    "* loudness: valor entre -60 y 0 que mide los decibeles de volumen de la cancion.\n",
    "* mode: entero entre 0 y 1 que indica la modalidad (mayor o menor) de una cancion basado en que tipo de escala es derivada la cancion.\n",
    "* speechiness: valor entre 0 y 1 que detecta la presencia de palabras en la cancion.\n",
    "* tempo: indica el tempo estimado de toda la cancion en tonos por minuto.\n",
    "* time_signature: indica cuantos tonos hay en una barra.\n",
    "* valence: valor entre 0 y 1 para describir la positividad de la cancion.\n",
    "* song_title: nombre de la cancion\n",
    "* artist: nombre del artista de la cancion\n",
    "\n",
    "**Variable Respuesta:**\n",
    "* target: Indica con 1 si tuvo like y 0 si no."
   ]
  },
  {
   "cell_type": "code",
   "execution_count": 18,
   "metadata": {},
   "outputs": [
    {
     "data": {
      "text/html": [
       "<div>\n",
       "<style scoped>\n",
       "    .dataframe tbody tr th:only-of-type {\n",
       "        vertical-align: middle;\n",
       "    }\n",
       "\n",
       "    .dataframe tbody tr th {\n",
       "        vertical-align: top;\n",
       "    }\n",
       "\n",
       "    .dataframe thead th {\n",
       "        text-align: right;\n",
       "    }\n",
       "</style>\n",
       "<table border=\"1\" class=\"dataframe\">\n",
       "  <thead>\n",
       "    <tr style=\"text-align: right;\">\n",
       "      <th></th>\n",
       "      <th>acousticness</th>\n",
       "      <th>danceability</th>\n",
       "      <th>duration_ms</th>\n",
       "      <th>energy</th>\n",
       "      <th>instrumentalness</th>\n",
       "      <th>key</th>\n",
       "      <th>liveness</th>\n",
       "      <th>loudness</th>\n",
       "      <th>mode</th>\n",
       "      <th>speechiness</th>\n",
       "      <th>tempo</th>\n",
       "      <th>time_signature</th>\n",
       "      <th>valence</th>\n",
       "      <th>target</th>\n",
       "      <th>song_title</th>\n",
       "      <th>artist</th>\n",
       "    </tr>\n",
       "  </thead>\n",
       "  <tbody>\n",
       "    <tr>\n",
       "      <th>0</th>\n",
       "      <td>0.0102</td>\n",
       "      <td>0.833</td>\n",
       "      <td>204600</td>\n",
       "      <td>0.434</td>\n",
       "      <td>0.021900</td>\n",
       "      <td>2</td>\n",
       "      <td>0.1650</td>\n",
       "      <td>-8.795</td>\n",
       "      <td>1</td>\n",
       "      <td>0.4310</td>\n",
       "      <td>150.062</td>\n",
       "      <td>4.0</td>\n",
       "      <td>0.286</td>\n",
       "      <td>1</td>\n",
       "      <td>Mask Off</td>\n",
       "      <td>Future</td>\n",
       "    </tr>\n",
       "    <tr>\n",
       "      <th>1</th>\n",
       "      <td>0.1990</td>\n",
       "      <td>0.743</td>\n",
       "      <td>326933</td>\n",
       "      <td>0.359</td>\n",
       "      <td>0.006110</td>\n",
       "      <td>1</td>\n",
       "      <td>0.1370</td>\n",
       "      <td>-10.401</td>\n",
       "      <td>1</td>\n",
       "      <td>0.0794</td>\n",
       "      <td>160.083</td>\n",
       "      <td>4.0</td>\n",
       "      <td>0.588</td>\n",
       "      <td>1</td>\n",
       "      <td>Redbone</td>\n",
       "      <td>Childish Gambino</td>\n",
       "    </tr>\n",
       "    <tr>\n",
       "      <th>2</th>\n",
       "      <td>0.0344</td>\n",
       "      <td>0.838</td>\n",
       "      <td>185707</td>\n",
       "      <td>0.412</td>\n",
       "      <td>0.000234</td>\n",
       "      <td>2</td>\n",
       "      <td>0.1590</td>\n",
       "      <td>-7.148</td>\n",
       "      <td>1</td>\n",
       "      <td>0.2890</td>\n",
       "      <td>75.044</td>\n",
       "      <td>4.0</td>\n",
       "      <td>0.173</td>\n",
       "      <td>1</td>\n",
       "      <td>Xanny Family</td>\n",
       "      <td>Future</td>\n",
       "    </tr>\n",
       "    <tr>\n",
       "      <th>3</th>\n",
       "      <td>0.6040</td>\n",
       "      <td>0.494</td>\n",
       "      <td>199413</td>\n",
       "      <td>0.338</td>\n",
       "      <td>0.510000</td>\n",
       "      <td>5</td>\n",
       "      <td>0.0922</td>\n",
       "      <td>-15.236</td>\n",
       "      <td>1</td>\n",
       "      <td>0.0261</td>\n",
       "      <td>86.468</td>\n",
       "      <td>4.0</td>\n",
       "      <td>0.230</td>\n",
       "      <td>1</td>\n",
       "      <td>Master Of None</td>\n",
       "      <td>Beach House</td>\n",
       "    </tr>\n",
       "    <tr>\n",
       "      <th>4</th>\n",
       "      <td>0.1800</td>\n",
       "      <td>0.678</td>\n",
       "      <td>392893</td>\n",
       "      <td>0.561</td>\n",
       "      <td>0.512000</td>\n",
       "      <td>5</td>\n",
       "      <td>0.4390</td>\n",
       "      <td>-11.648</td>\n",
       "      <td>0</td>\n",
       "      <td>0.0694</td>\n",
       "      <td>174.004</td>\n",
       "      <td>4.0</td>\n",
       "      <td>0.904</td>\n",
       "      <td>1</td>\n",
       "      <td>Parallel Lines</td>\n",
       "      <td>Junior Boys</td>\n",
       "    </tr>\n",
       "  </tbody>\n",
       "</table>\n",
       "</div>"
      ],
      "text/plain": [
       "   acousticness  danceability  duration_ms  energy  instrumentalness  key  \\\n",
       "0        0.0102         0.833       204600   0.434          0.021900    2   \n",
       "1        0.1990         0.743       326933   0.359          0.006110    1   \n",
       "2        0.0344         0.838       185707   0.412          0.000234    2   \n",
       "3        0.6040         0.494       199413   0.338          0.510000    5   \n",
       "4        0.1800         0.678       392893   0.561          0.512000    5   \n",
       "\n",
       "   liveness  loudness  mode  speechiness    tempo  time_signature  valence  \\\n",
       "0    0.1650    -8.795     1       0.4310  150.062             4.0    0.286   \n",
       "1    0.1370   -10.401     1       0.0794  160.083             4.0    0.588   \n",
       "2    0.1590    -7.148     1       0.2890   75.044             4.0    0.173   \n",
       "3    0.0922   -15.236     1       0.0261   86.468             4.0    0.230   \n",
       "4    0.4390   -11.648     0       0.0694  174.004             4.0    0.904   \n",
       "\n",
       "   target      song_title            artist  \n",
       "0       1        Mask Off            Future  \n",
       "1       1         Redbone  Childish Gambino  \n",
       "2       1    Xanny Family            Future  \n",
       "3       1  Master Of None       Beach House  \n",
       "4       1  Parallel Lines       Junior Boys  "
      ]
     },
     "execution_count": 18,
     "metadata": {},
     "output_type": "execute_result"
    }
   ],
   "source": [
    "raw_dataset1.head(5)"
   ]
  },
  {
   "cell_type": "code",
   "execution_count": 19,
   "metadata": {},
   "outputs": [
    {
     "data": {
      "text/plain": [
       "Index(['acousticness', 'danceability', 'duration_ms', 'energy',\n",
       "       'instrumentalness', 'key', 'liveness', 'loudness', 'mode',\n",
       "       'speechiness', 'tempo', 'time_signature', 'valence', 'target',\n",
       "       'song_title', 'artist'],\n",
       "      dtype='object')"
      ]
     },
     "execution_count": 19,
     "metadata": {},
     "output_type": "execute_result"
    }
   ],
   "source": [
    "raw_dataset1.columns"
   ]
  },
  {
   "cell_type": "markdown",
   "metadata": {},
   "source": [
    "Debido a que el dataset contiene variables identificadoras, estas seran eliminadas y ya que es un dataset que se obtuvo a traves del API de spotify las variables categoricas ya han sido convertidas a numericas, siendo estas representadas por numeros enteros. A continuacion se hara el split entre los conjuntos de entrenamiento y de prueba."
   ]
  },
  {
   "cell_type": "code",
   "execution_count": 160,
   "metadata": {},
   "outputs": [
    {
     "data": {
      "text/plain": [
       "((1008, 12), (504, 12), (505, 12), (1008, 1), (504, 1), (505, 1))"
      ]
     },
     "execution_count": 160,
     "metadata": {},
     "output_type": "execute_result"
    }
   ],
   "source": [
    "scaler = MinMaxScaler()\n",
    "x = scaler.fit_transform(raw_dataset1[['acousticness', 'danceability', 'duration_ms', 'energy',\n",
    "       'instrumentalness', 'liveness', 'loudness', 'mode',\n",
    "       'speechiness', 'tempo', 'time_signature', 'valence']])\n",
    "\n",
    "y = raw_dataset1[['target']]\n",
    "\n",
    "x_train, x_temp, y_train, y_temp = train_test_split(x, y, test_size=0.5, random_state=42)\n",
    "x_test, x_validation, y_test, y_validation = train_test_split(x_temp, y_temp, test_size=0.5, random_state=42)\n",
    "x_train.shape, x_test.shape, x_validation.shape, y_train.shape, y_test.shape, y_validation.shape"
   ]
  },
  {
   "cell_type": "markdown",
   "metadata": {},
   "source": [
    "## Experimentacion"
   ]
  },
  {
   "cell_type": "code",
   "execution_count": 161,
   "metadata": {},
   "outputs": [],
   "source": [
    "def train(model, train, test, batch_size, optimizer, loss_fn, epochs, description):\n",
    "    filepath = f'./parte1/experiments/{description}_batch={batch_size}_epochs={epochs}/'\n",
    "    checkpoint_callback = tf.keras.callbacks.ModelCheckpoint(filepath, monitor='val_loss', save_best_only=1, save_weights_only=1, mode='max')\n",
    "    \n",
    "    model.compile(optimizer=optimizer, loss=loss_fn, metrics=['accuracy'])\n",
    "    x_train, y_train = train[0], train[1]\n",
    "    x_test, y_test = test[0], test[1]\n",
    "    \n",
    "    history = model.fit(x_train, \n",
    "                        y_train, \n",
    "                        validation_data=(x_test, y_test), \n",
    "                        batch_size=batch_size, \n",
    "                        epochs=epochs, \n",
    "                        callbacks=[checkpoint_callback],\n",
    "                       verbose=1)\n",
    "    \n",
    "    print(\"Done!\")\n",
    "    return history.history"
   ]
  },
  {
   "cell_type": "markdown",
   "metadata": {},
   "source": [
    "### Arquitectura 1"
   ]
  },
  {
   "cell_type": "code",
   "execution_count": 36,
   "metadata": {},
   "outputs": [
    {
     "name": "stdout",
     "output_type": "stream",
     "text": [
      "Model: \"sequential_6\"\n",
      "_________________________________________________________________\n",
      "Layer (type)                 Output Shape              Param #   \n",
      "=================================================================\n",
      "dense_12 (Dense)             (None, 64)                832       \n",
      "_________________________________________________________________\n",
      "dense_13 (Dense)             (None, 1)                 65        \n",
      "=================================================================\n",
      "Total params: 897\n",
      "Trainable params: 897\n",
      "Non-trainable params: 0\n",
      "_________________________________________________________________\n"
     ]
    }
   ],
   "source": [
    "model1 = Sequential()\n",
    "model1.add(Dense(64, input_dim=12, activation='relu', kernel_initializer='uniform'))\n",
    "model1.add(Dense(1, activation='sigmoid'))\n",
    "model1.summary()"
   ]
  },
  {
   "cell_type": "markdown",
   "metadata": {},
   "source": [
    "### Experimento 1\n",
    "\n",
    "**Hipotesis:** La arquitectura de unicamente una capa oculta con 64 neuronas activadas por la funcion relu proveeran una exactitud superior al 70% tras entrenar durante 50 epochs, con un batch size de 32 observaciones, utilizando el optimizador adam y la funcion de costo binary crossentropy."
   ]
  },
  {
   "cell_type": "code",
   "execution_count": 50,
   "metadata": {},
   "outputs": [
    {
     "name": "stdout",
     "output_type": "stream",
     "text": [
      "Epoch 1/50\n",
      "38/38 [==============================] - 1s 7ms/step - loss: 0.5043 - accuracy: 0.7512 - val_loss: 0.5303 - val_accuracy: 0.7419\n",
      "Epoch 2/50\n",
      "38/38 [==============================] - 0s 2ms/step - loss: 0.5039 - accuracy: 0.7488 - val_loss: 0.5329 - val_accuracy: 0.7295\n",
      "Epoch 3/50\n",
      "38/38 [==============================] - 0s 2ms/step - loss: 0.5036 - accuracy: 0.7496 - val_loss: 0.5263 - val_accuracy: 0.7494\n",
      "Epoch 4/50\n",
      "38/38 [==============================] - 0s 2ms/step - loss: 0.5031 - accuracy: 0.7570 - val_loss: 0.5327 - val_accuracy: 0.7270\n",
      "Epoch 5/50\n",
      "38/38 [==============================] - 0s 2ms/step - loss: 0.5027 - accuracy: 0.7570 - val_loss: 0.5269 - val_accuracy: 0.7469\n",
      "Epoch 6/50\n",
      "38/38 [==============================] - 0s 2ms/step - loss: 0.5021 - accuracy: 0.7479 - val_loss: 0.5320 - val_accuracy: 0.7295\n",
      "Epoch 7/50\n",
      "38/38 [==============================] - 0s 2ms/step - loss: 0.5031 - accuracy: 0.7554 - val_loss: 0.5298 - val_accuracy: 0.7395\n",
      "Epoch 8/50\n",
      "38/38 [==============================] - 0s 2ms/step - loss: 0.5059 - accuracy: 0.7595 - val_loss: 0.5292 - val_accuracy: 0.7543\n",
      "Epoch 9/50\n",
      "38/38 [==============================] - 0s 2ms/step - loss: 0.5064 - accuracy: 0.7537 - val_loss: 0.5363 - val_accuracy: 0.7196\n",
      "Epoch 10/50\n",
      "38/38 [==============================] - 0s 2ms/step - loss: 0.5025 - accuracy: 0.7562 - val_loss: 0.5309 - val_accuracy: 0.7320\n",
      "Epoch 11/50\n",
      "38/38 [==============================] - 0s 2ms/step - loss: 0.5004 - accuracy: 0.7554 - val_loss: 0.5385 - val_accuracy: 0.7221\n",
      "Epoch 12/50\n",
      "38/38 [==============================] - 0s 2ms/step - loss: 0.5013 - accuracy: 0.7521 - val_loss: 0.5251 - val_accuracy: 0.7494\n",
      "Epoch 13/50\n",
      "38/38 [==============================] - 0s 2ms/step - loss: 0.4992 - accuracy: 0.7579 - val_loss: 0.5271 - val_accuracy: 0.7543\n",
      "Epoch 14/50\n",
      "38/38 [==============================] - 0s 2ms/step - loss: 0.5000 - accuracy: 0.7612 - val_loss: 0.5253 - val_accuracy: 0.7494\n",
      "Epoch 15/50\n",
      "38/38 [==============================] - 0s 2ms/step - loss: 0.4988 - accuracy: 0.7570 - val_loss: 0.5243 - val_accuracy: 0.7519\n",
      "Epoch 16/50\n",
      "38/38 [==============================] - 0s 2ms/step - loss: 0.4992 - accuracy: 0.7537 - val_loss: 0.5251 - val_accuracy: 0.7593\n",
      "Epoch 17/50\n",
      "38/38 [==============================] - 0s 2ms/step - loss: 0.5004 - accuracy: 0.7579 - val_loss: 0.5260 - val_accuracy: 0.7494\n",
      "Epoch 18/50\n",
      "38/38 [==============================] - 0s 2ms/step - loss: 0.5004 - accuracy: 0.7570 - val_loss: 0.5239 - val_accuracy: 0.7568\n",
      "Epoch 19/50\n",
      "38/38 [==============================] - 0s 2ms/step - loss: 0.5025 - accuracy: 0.7496 - val_loss: 0.5223 - val_accuracy: 0.7494\n",
      "Epoch 20/50\n",
      "38/38 [==============================] - 0s 2ms/step - loss: 0.5016 - accuracy: 0.7562 - val_loss: 0.5287 - val_accuracy: 0.7345\n",
      "Epoch 21/50\n",
      "38/38 [==============================] - 0s 2ms/step - loss: 0.4991 - accuracy: 0.7579 - val_loss: 0.5257 - val_accuracy: 0.7444\n",
      "Epoch 22/50\n",
      "38/38 [==============================] - 0s 2ms/step - loss: 0.4979 - accuracy: 0.7603 - val_loss: 0.5232 - val_accuracy: 0.7469\n",
      "Epoch 23/50\n",
      "38/38 [==============================] - 0s 2ms/step - loss: 0.4991 - accuracy: 0.7587 - val_loss: 0.5259 - val_accuracy: 0.7419\n",
      "Epoch 24/50\n",
      "38/38 [==============================] - 0s 2ms/step - loss: 0.5004 - accuracy: 0.7521 - val_loss: 0.5232 - val_accuracy: 0.7543\n",
      "Epoch 25/50\n",
      "38/38 [==============================] - 0s 2ms/step - loss: 0.4975 - accuracy: 0.7620 - val_loss: 0.5238 - val_accuracy: 0.7543\n",
      "Epoch 26/50\n",
      "38/38 [==============================] - 0s 2ms/step - loss: 0.4990 - accuracy: 0.7512 - val_loss: 0.5245 - val_accuracy: 0.7444\n",
      "Epoch 27/50\n",
      "38/38 [==============================] - 0s 2ms/step - loss: 0.4979 - accuracy: 0.7545 - val_loss: 0.5381 - val_accuracy: 0.7047\n",
      "Epoch 28/50\n",
      "38/38 [==============================] - 0s 2ms/step - loss: 0.4994 - accuracy: 0.7554 - val_loss: 0.5292 - val_accuracy: 0.7295\n",
      "Epoch 29/50\n",
      "38/38 [==============================] - 0s 2ms/step - loss: 0.4938 - accuracy: 0.7620 - val_loss: 0.5205 - val_accuracy: 0.7543\n",
      "Epoch 30/50\n",
      "38/38 [==============================] - 0s 2ms/step - loss: 0.4974 - accuracy: 0.7521 - val_loss: 0.5225 - val_accuracy: 0.7494\n",
      "Epoch 31/50\n",
      "38/38 [==============================] - 0s 2ms/step - loss: 0.4931 - accuracy: 0.7645 - val_loss: 0.5342 - val_accuracy: 0.7122\n",
      "Epoch 32/50\n",
      "38/38 [==============================] - 0s 2ms/step - loss: 0.4993 - accuracy: 0.7612 - val_loss: 0.5308 - val_accuracy: 0.7221\n",
      "Epoch 33/50\n",
      "38/38 [==============================] - 0s 2ms/step - loss: 0.4946 - accuracy: 0.7595 - val_loss: 0.5285 - val_accuracy: 0.7345\n",
      "Epoch 34/50\n",
      "38/38 [==============================] - 0s 2ms/step - loss: 0.4968 - accuracy: 0.7595 - val_loss: 0.5212 - val_accuracy: 0.7568\n",
      "Epoch 35/50\n",
      "38/38 [==============================] - 0s 2ms/step - loss: 0.4935 - accuracy: 0.7587 - val_loss: 0.5206 - val_accuracy: 0.7593\n",
      "Epoch 36/50\n",
      "38/38 [==============================] - 0s 2ms/step - loss: 0.4942 - accuracy: 0.7678 - val_loss: 0.5219 - val_accuracy: 0.7568\n",
      "Epoch 37/50\n",
      "38/38 [==============================] - 0s 2ms/step - loss: 0.4941 - accuracy: 0.7562 - val_loss: 0.5210 - val_accuracy: 0.7543\n",
      "Epoch 38/50\n",
      "38/38 [==============================] - 0s 2ms/step - loss: 0.4970 - accuracy: 0.7554 - val_loss: 0.5257 - val_accuracy: 0.7667\n",
      "Epoch 39/50\n",
      "38/38 [==============================] - 0s 2ms/step - loss: 0.4947 - accuracy: 0.7554 - val_loss: 0.5197 - val_accuracy: 0.7618\n",
      "Epoch 40/50\n",
      "38/38 [==============================] - 0s 2ms/step - loss: 0.4939 - accuracy: 0.7570 - val_loss: 0.5191 - val_accuracy: 0.7593\n",
      "Epoch 41/50\n",
      "38/38 [==============================] - 0s 2ms/step - loss: 0.4962 - accuracy: 0.7579 - val_loss: 0.5194 - val_accuracy: 0.7568\n",
      "Epoch 42/50\n",
      "38/38 [==============================] - 0s 2ms/step - loss: 0.4928 - accuracy: 0.7628 - val_loss: 0.5189 - val_accuracy: 0.7618\n",
      "Epoch 43/50\n",
      "38/38 [==============================] - 0s 2ms/step - loss: 0.4924 - accuracy: 0.7620 - val_loss: 0.5205 - val_accuracy: 0.7543\n",
      "Epoch 44/50\n",
      "38/38 [==============================] - 0s 2ms/step - loss: 0.4913 - accuracy: 0.7636 - val_loss: 0.5198 - val_accuracy: 0.7519\n",
      "Epoch 45/50\n",
      "38/38 [==============================] - 0s 2ms/step - loss: 0.4918 - accuracy: 0.7587 - val_loss: 0.5175 - val_accuracy: 0.7543\n",
      "Epoch 46/50\n",
      "38/38 [==============================] - 0s 2ms/step - loss: 0.4910 - accuracy: 0.7587 - val_loss: 0.5253 - val_accuracy: 0.7295\n",
      "Epoch 47/50\n",
      "38/38 [==============================] - 0s 2ms/step - loss: 0.4925 - accuracy: 0.7636 - val_loss: 0.5216 - val_accuracy: 0.7444\n",
      "Epoch 48/50\n",
      "38/38 [==============================] - 0s 2ms/step - loss: 0.4923 - accuracy: 0.7587 - val_loss: 0.5250 - val_accuracy: 0.7295\n",
      "Epoch 49/50\n",
      "38/38 [==============================] - 0s 2ms/step - loss: 0.4927 - accuracy: 0.7636 - val_loss: 0.5197 - val_accuracy: 0.7543\n",
      "Epoch 50/50\n",
      "38/38 [==============================] - 0s 2ms/step - loss: 0.4899 - accuracy: 0.7612 - val_loss: 0.5320 - val_accuracy: 0.7171\n",
      "Done!\n"
     ]
    },
    {
     "data": {
      "text/plain": [
       "Text(0, 0.5, 'accuracy')"
      ]
     },
     "execution_count": 50,
     "metadata": {},
     "output_type": "execute_result"
    },
    {
     "data": {
      "image/png": "[encoded data removed]",
      "text/plain": [
       "<Figure size 432x288 with 2 Axes>"
      ]
     },
     "metadata": {
      "needs_background": "light"
     },
     "output_type": "display_data"
    }
   ],
   "source": [
    "hist1 = train(model1, \n",
    "              train=[x_train, y_train], \n",
    "              test=[x_test, y_test], \n",
    "              batch_size=32, \n",
    "              optimizer='adam', \n",
    "              loss_fn='binary_crossentropy', \n",
    "              epochs=50, \n",
    "              description='dense64relu_dense1sigmoid_adam')\n",
    "\n",
    "losses, accs = hist1['val_loss'], hist1['val_accuracy']\n",
    "f, (ax1, ax2) = plt.subplots(2, 1, sharey=False)\n",
    "ax1.plot(np.arange(len(losses)), losses)\n",
    "ax1.set_xlabel('epochs')\n",
    "ax1.set_ylabel('loss')\n",
    "ax2.plot(np.arange(len(accs)), accs)\n",
    "ax2.set_xlabel('epochs')\n",
    "ax2.set_ylabel('accuracy')"
   ]
  },
  {
   "cell_type": "markdown",
   "metadata": {},
   "source": [
    "### Experimento 2\n",
    "\n",
    "**Hipotesis:** La arquitectura de unicamente una capa oculta con 64 neuronas activadas por la funcion relu proveeran una exactitud superior al 70% tras entrenar durante 75 epochs, con un batch size de 64 observaciones, utilizando el optimizador adam y la funcion de costo binary crossentropy."
   ]
  },
  {
   "cell_type": "code",
   "execution_count": 51,
   "metadata": {},
   "outputs": [
    {
     "name": "stdout",
     "output_type": "stream",
     "text": [
      "Epoch 1/75\n",
      "19/19 [==============================] - 1s 10ms/step - loss: 0.4906 - accuracy: 0.7661 - val_loss: 0.5272 - val_accuracy: 0.7270\n",
      "Epoch 2/75\n",
      "19/19 [==============================] - 0s 3ms/step - loss: 0.4920 - accuracy: 0.7603 - val_loss: 0.5168 - val_accuracy: 0.7618\n",
      "Epoch 3/75\n",
      "19/19 [==============================] - 0s 3ms/step - loss: 0.4874 - accuracy: 0.7645 - val_loss: 0.5201 - val_accuracy: 0.7444\n",
      "Epoch 4/75\n",
      "19/19 [==============================] - 0s 2ms/step - loss: 0.4897 - accuracy: 0.7603 - val_loss: 0.5181 - val_accuracy: 0.7643\n",
      "Epoch 5/75\n",
      "19/19 [==============================] - 0s 2ms/step - loss: 0.4877 - accuracy: 0.7719 - val_loss: 0.5215 - val_accuracy: 0.7419\n",
      "Epoch 6/75\n",
      "19/19 [==============================] - 0s 2ms/step - loss: 0.4886 - accuracy: 0.7661 - val_loss: 0.5175 - val_accuracy: 0.7593\n",
      "Epoch 7/75\n",
      "19/19 [==============================] - 0s 2ms/step - loss: 0.4880 - accuracy: 0.7620 - val_loss: 0.5161 - val_accuracy: 0.7618\n",
      "Epoch 8/75\n",
      "19/19 [==============================] - 0s 2ms/step - loss: 0.4880 - accuracy: 0.7645 - val_loss: 0.5171 - val_accuracy: 0.7568\n",
      "Epoch 9/75\n",
      "19/19 [==============================] - 0s 2ms/step - loss: 0.4884 - accuracy: 0.7645 - val_loss: 0.5160 - val_accuracy: 0.7593\n",
      "Epoch 10/75\n",
      "19/19 [==============================] - 0s 3ms/step - loss: 0.4883 - accuracy: 0.7645 - val_loss: 0.5163 - val_accuracy: 0.7568\n",
      "Epoch 11/75\n",
      "19/19 [==============================] - 0s 3ms/step - loss: 0.4876 - accuracy: 0.7669 - val_loss: 0.5279 - val_accuracy: 0.7146\n",
      "Epoch 12/75\n",
      "19/19 [==============================] - 0s 3ms/step - loss: 0.4894 - accuracy: 0.7595 - val_loss: 0.5162 - val_accuracy: 0.7593\n",
      "Epoch 13/75\n",
      "19/19 [==============================] - 0s 3ms/step - loss: 0.4880 - accuracy: 0.7678 - val_loss: 0.5154 - val_accuracy: 0.7593\n",
      "Epoch 14/75\n",
      "19/19 [==============================] - 0s 2ms/step - loss: 0.4850 - accuracy: 0.7678 - val_loss: 0.5278 - val_accuracy: 0.7171\n",
      "Epoch 15/75\n",
      "19/19 [==============================] - 0s 2ms/step - loss: 0.4899 - accuracy: 0.7587 - val_loss: 0.5162 - val_accuracy: 0.7568\n",
      "Epoch 16/75\n",
      "19/19 [==============================] - 0s 2ms/step - loss: 0.4864 - accuracy: 0.7653 - val_loss: 0.5183 - val_accuracy: 0.7494\n",
      "Epoch 17/75\n",
      "19/19 [==============================] - 0s 2ms/step - loss: 0.4873 - accuracy: 0.7711 - val_loss: 0.5168 - val_accuracy: 0.7568\n",
      "Epoch 18/75\n",
      "19/19 [==============================] - 0s 2ms/step - loss: 0.4875 - accuracy: 0.7636 - val_loss: 0.5144 - val_accuracy: 0.7618\n",
      "Epoch 19/75\n",
      "19/19 [==============================] - 0s 2ms/step - loss: 0.4856 - accuracy: 0.7636 - val_loss: 0.5151 - val_accuracy: 0.7543\n",
      "Epoch 20/75\n",
      "19/19 [==============================] - 0s 2ms/step - loss: 0.4853 - accuracy: 0.7661 - val_loss: 0.5172 - val_accuracy: 0.7494\n",
      "Epoch 21/75\n",
      "19/19 [==============================] - 0s 3ms/step - loss: 0.4867 - accuracy: 0.7645 - val_loss: 0.5180 - val_accuracy: 0.7519\n",
      "Epoch 22/75\n",
      "19/19 [==============================] - 0s 3ms/step - loss: 0.4851 - accuracy: 0.7636 - val_loss: 0.5153 - val_accuracy: 0.7568\n",
      "Epoch 23/75\n",
      "19/19 [==============================] - 0s 2ms/step - loss: 0.4847 - accuracy: 0.7686 - val_loss: 0.5148 - val_accuracy: 0.7618\n",
      "Epoch 24/75\n",
      "19/19 [==============================] - 0s 2ms/step - loss: 0.4855 - accuracy: 0.7645 - val_loss: 0.5167 - val_accuracy: 0.7469\n",
      "Epoch 25/75\n",
      "19/19 [==============================] - 0s 2ms/step - loss: 0.4836 - accuracy: 0.7686 - val_loss: 0.5136 - val_accuracy: 0.7643\n",
      "Epoch 26/75\n",
      "19/19 [==============================] - 0s 2ms/step - loss: 0.4884 - accuracy: 0.7620 - val_loss: 0.5141 - val_accuracy: 0.7593\n",
      "Epoch 27/75\n",
      "19/19 [==============================] - 0s 2ms/step - loss: 0.4917 - accuracy: 0.7603 - val_loss: 0.5167 - val_accuracy: 0.7494\n",
      "Epoch 28/75\n",
      "19/19 [==============================] - 0s 2ms/step - loss: 0.4860 - accuracy: 0.7579 - val_loss: 0.5171 - val_accuracy: 0.7469\n",
      "Epoch 29/75\n",
      "19/19 [==============================] - 0s 2ms/step - loss: 0.4854 - accuracy: 0.7612 - val_loss: 0.5138 - val_accuracy: 0.7692\n",
      "Epoch 30/75\n",
      "19/19 [==============================] - 0s 2ms/step - loss: 0.4866 - accuracy: 0.7653 - val_loss: 0.5141 - val_accuracy: 0.7593\n",
      "Epoch 31/75\n",
      "19/19 [==============================] - 0s 3ms/step - loss: 0.4851 - accuracy: 0.7612 - val_loss: 0.5165 - val_accuracy: 0.7543\n",
      "Epoch 32/75\n",
      "19/19 [==============================] - 0s 2ms/step - loss: 0.4834 - accuracy: 0.7686 - val_loss: 0.5146 - val_accuracy: 0.7543\n",
      "Epoch 33/75\n",
      "19/19 [==============================] - 0s 3ms/step - loss: 0.4883 - accuracy: 0.7686 - val_loss: 0.5131 - val_accuracy: 0.7593\n",
      "Epoch 34/75\n",
      "19/19 [==============================] - 0s 2ms/step - loss: 0.4864 - accuracy: 0.7694 - val_loss: 0.5123 - val_accuracy: 0.7667\n",
      "Epoch 35/75\n",
      "19/19 [==============================] - 0s 2ms/step - loss: 0.4853 - accuracy: 0.7719 - val_loss: 0.5161 - val_accuracy: 0.7543\n",
      "Epoch 36/75\n",
      "19/19 [==============================] - 0s 2ms/step - loss: 0.4857 - accuracy: 0.7661 - val_loss: 0.5215 - val_accuracy: 0.7320\n",
      "Epoch 37/75\n",
      "19/19 [==============================] - 0s 2ms/step - loss: 0.4895 - accuracy: 0.7628 - val_loss: 0.5127 - val_accuracy: 0.7593\n",
      "Epoch 38/75\n",
      "19/19 [==============================] - 0s 2ms/step - loss: 0.4840 - accuracy: 0.7628 - val_loss: 0.5124 - val_accuracy: 0.7742\n",
      "Epoch 39/75\n",
      "19/19 [==============================] - 0s 2ms/step - loss: 0.4838 - accuracy: 0.7727 - val_loss: 0.5187 - val_accuracy: 0.7444\n",
      "Epoch 40/75\n",
      "19/19 [==============================] - 0s 2ms/step - loss: 0.4843 - accuracy: 0.7645 - val_loss: 0.5139 - val_accuracy: 0.7593\n",
      "Epoch 41/75\n",
      "19/19 [==============================] - 0s 2ms/step - loss: 0.4828 - accuracy: 0.7686 - val_loss: 0.5123 - val_accuracy: 0.7568\n",
      "Epoch 42/75\n",
      "19/19 [==============================] - 0s 2ms/step - loss: 0.4817 - accuracy: 0.7661 - val_loss: 0.5112 - val_accuracy: 0.7618\n",
      "Epoch 43/75\n",
      "19/19 [==============================] - 0s 2ms/step - loss: 0.4825 - accuracy: 0.7752 - val_loss: 0.5183 - val_accuracy: 0.7444\n",
      "Epoch 44/75\n",
      "19/19 [==============================] - 0s 2ms/step - loss: 0.4821 - accuracy: 0.7719 - val_loss: 0.5109 - val_accuracy: 0.7643\n",
      "Epoch 45/75\n",
      "19/19 [==============================] - 0s 2ms/step - loss: 0.4809 - accuracy: 0.7661 - val_loss: 0.5117 - val_accuracy: 0.7593\n",
      "Epoch 46/75\n",
      "19/19 [==============================] - 0s 2ms/step - loss: 0.4807 - accuracy: 0.7678 - val_loss: 0.5118 - val_accuracy: 0.7494\n",
      "Epoch 47/75\n",
      "19/19 [==============================] - 0s 2ms/step - loss: 0.4813 - accuracy: 0.7653 - val_loss: 0.5163 - val_accuracy: 0.7519\n",
      "Epoch 48/75\n",
      "19/19 [==============================] - 0s 2ms/step - loss: 0.4833 - accuracy: 0.7612 - val_loss: 0.5139 - val_accuracy: 0.7568\n",
      "Epoch 49/75\n",
      "19/19 [==============================] - 0s 2ms/step - loss: 0.4832 - accuracy: 0.7645 - val_loss: 0.5196 - val_accuracy: 0.7320\n",
      "Epoch 50/75\n",
      "19/19 [==============================] - 0s 2ms/step - loss: 0.4802 - accuracy: 0.7620 - val_loss: 0.5117 - val_accuracy: 0.7767\n",
      "Epoch 51/75\n",
      "19/19 [==============================] - 0s 2ms/step - loss: 0.4821 - accuracy: 0.7645 - val_loss: 0.5120 - val_accuracy: 0.7618\n",
      "Epoch 52/75\n",
      "19/19 [==============================] - 0s 2ms/step - loss: 0.4803 - accuracy: 0.7752 - val_loss: 0.5105 - val_accuracy: 0.7767\n",
      "Epoch 53/75\n",
      "19/19 [==============================] - 0s 3ms/step - loss: 0.4798 - accuracy: 0.7711 - val_loss: 0.5146 - val_accuracy: 0.7519\n",
      "Epoch 54/75\n",
      "19/19 [==============================] - 0s 2ms/step - loss: 0.4789 - accuracy: 0.7678 - val_loss: 0.5104 - val_accuracy: 0.7593\n",
      "Epoch 55/75\n",
      "19/19 [==============================] - 0s 3ms/step - loss: 0.4794 - accuracy: 0.7694 - val_loss: 0.5100 - val_accuracy: 0.7593\n",
      "Epoch 56/75\n",
      "19/19 [==============================] - 0s 2ms/step - loss: 0.4798 - accuracy: 0.7686 - val_loss: 0.5120 - val_accuracy: 0.7618\n",
      "Epoch 57/75\n",
      "19/19 [==============================] - 0s 3ms/step - loss: 0.4800 - accuracy: 0.7744 - val_loss: 0.5166 - val_accuracy: 0.7469\n",
      "Epoch 58/75\n",
      "19/19 [==============================] - 0s 2ms/step - loss: 0.4797 - accuracy: 0.7653 - val_loss: 0.5109 - val_accuracy: 0.7717\n",
      "Epoch 59/75\n"
     ]
    },
    {
     "name": "stdout",
     "output_type": "stream",
     "text": [
      "19/19 [==============================] - 0s 2ms/step - loss: 0.4800 - accuracy: 0.7719 - val_loss: 0.5161 - val_accuracy: 0.7444\n",
      "Epoch 60/75\n",
      "19/19 [==============================] - 0s 2ms/step - loss: 0.4806 - accuracy: 0.7702 - val_loss: 0.5118 - val_accuracy: 0.7593\n",
      "Epoch 61/75\n",
      "19/19 [==============================] - 0s 2ms/step - loss: 0.4783 - accuracy: 0.7702 - val_loss: 0.5096 - val_accuracy: 0.7618\n",
      "Epoch 62/75\n",
      "19/19 [==============================] - 0s 2ms/step - loss: 0.4782 - accuracy: 0.7777 - val_loss: 0.5147 - val_accuracy: 0.7469\n",
      "Epoch 63/75\n",
      "19/19 [==============================] - 0s 2ms/step - loss: 0.4783 - accuracy: 0.7669 - val_loss: 0.5091 - val_accuracy: 0.7692\n",
      "Epoch 64/75\n",
      "19/19 [==============================] - 0s 2ms/step - loss: 0.4793 - accuracy: 0.7653 - val_loss: 0.5152 - val_accuracy: 0.7543\n",
      "Epoch 65/75\n",
      "19/19 [==============================] - 0s 2ms/step - loss: 0.4786 - accuracy: 0.7686 - val_loss: 0.5107 - val_accuracy: 0.7643\n",
      "Epoch 66/75\n",
      "19/19 [==============================] - 0s 2ms/step - loss: 0.4787 - accuracy: 0.7727 - val_loss: 0.5094 - val_accuracy: 0.7543\n",
      "Epoch 67/75\n",
      "19/19 [==============================] - 0s 2ms/step - loss: 0.4784 - accuracy: 0.7736 - val_loss: 0.5090 - val_accuracy: 0.7742\n",
      "Epoch 68/75\n",
      "19/19 [==============================] - 0s 2ms/step - loss: 0.4793 - accuracy: 0.7727 - val_loss: 0.5120 - val_accuracy: 0.7593\n",
      "Epoch 69/75\n",
      "19/19 [==============================] - 0s 2ms/step - loss: 0.4777 - accuracy: 0.7769 - val_loss: 0.5092 - val_accuracy: 0.7692\n",
      "Epoch 70/75\n",
      "19/19 [==============================] - 0s 2ms/step - loss: 0.4788 - accuracy: 0.7711 - val_loss: 0.5087 - val_accuracy: 0.7618\n",
      "Epoch 71/75\n",
      "19/19 [==============================] - 0s 2ms/step - loss: 0.4776 - accuracy: 0.7678 - val_loss: 0.5083 - val_accuracy: 0.7767\n",
      "Epoch 72/75\n",
      "19/19 [==============================] - 0s 3ms/step - loss: 0.4777 - accuracy: 0.7785 - val_loss: 0.5174 - val_accuracy: 0.7370\n",
      "Epoch 73/75\n",
      "19/19 [==============================] - 0s 2ms/step - loss: 0.4780 - accuracy: 0.7736 - val_loss: 0.5088 - val_accuracy: 0.7618\n",
      "Epoch 74/75\n",
      "19/19 [==============================] - 0s 2ms/step - loss: 0.4771 - accuracy: 0.7669 - val_loss: 0.5127 - val_accuracy: 0.7543\n",
      "Epoch 75/75\n",
      "19/19 [==============================] - 0s 2ms/step - loss: 0.4763 - accuracy: 0.7752 - val_loss: 0.5084 - val_accuracy: 0.7742\n",
      "Done!\n"
     ]
    },
    {
     "data": {
      "text/plain": [
       "Text(0, 0.5, 'accuracy')"
      ]
     },
     "execution_count": 51,
     "metadata": {},
     "output_type": "execute_result"
    },
    {
     "data": {
      "image/png": "[encoded data removed]",
      "text/plain": [
       "<Figure size 432x288 with 2 Axes>"
      ]
     },
     "metadata": {
      "needs_background": "light"
     },
     "output_type": "display_data"
    }
   ],
   "source": [
    "hist2 = train(model1, \n",
    "              train=[x_train, y_train], \n",
    "              test=[x_test, y_test], \n",
    "              batch_size=64, \n",
    "              optimizer='adam', \n",
    "              loss_fn='binary_crossentropy', \n",
    "              epochs=75, \n",
    "              description='dense64relu_dense1sigmoid_adam')\n",
    "\n",
    "losses, accs = hist2['val_loss'], hist2['val_accuracy']\n",
    "f, (ax1, ax2) = plt.subplots(2, 1, sharey=False)\n",
    "ax1.plot(np.arange(len(losses)), losses)\n",
    "ax1.set_xlabel('epochs')\n",
    "ax1.set_ylabel('loss')\n",
    "ax2.plot(np.arange(len(accs)), accs)\n",
    "ax2.set_xlabel('epochs')\n",
    "ax2.set_ylabel('accuracy')"
   ]
  },
  {
   "cell_type": "markdown",
   "metadata": {},
   "source": [
    "### Experimento 3\n",
    "\n",
    "**Hipotesis:** La arquitectura de unicamente una capa oculta con 64 neuronas activadas por la funcion relu proveeran una exactitud superior al 90% tras entrenar durante 75 epochs, con un batch size de 256 observaciones, utilizando el optimizador adam y la funcion de costo binary crossentropy."
   ]
  },
  {
   "cell_type": "code",
   "execution_count": 52,
   "metadata": {},
   "outputs": [
    {
     "name": "stdout",
     "output_type": "stream",
     "text": [
      "Epoch 1/75\n",
      "5/5 [==============================] - 1s 52ms/step - loss: 0.4805 - accuracy: 0.7678 - val_loss: 0.5117 - val_accuracy: 0.7593\n",
      "Epoch 2/75\n",
      "5/5 [==============================] - 0s 7ms/step - loss: 0.4762 - accuracy: 0.7760 - val_loss: 0.5078 - val_accuracy: 0.7742\n",
      "Epoch 3/75\n",
      "5/5 [==============================] - 0s 7ms/step - loss: 0.4761 - accuracy: 0.7760 - val_loss: 0.5084 - val_accuracy: 0.7643\n",
      "Epoch 4/75\n",
      "5/5 [==============================] - 0s 7ms/step - loss: 0.4745 - accuracy: 0.7736 - val_loss: 0.5106 - val_accuracy: 0.7618\n",
      "Epoch 5/75\n",
      "5/5 [==============================] - 0s 6ms/step - loss: 0.4748 - accuracy: 0.7719 - val_loss: 0.5090 - val_accuracy: 0.7643\n",
      "Epoch 6/75\n",
      "5/5 [==============================] - 0s 7ms/step - loss: 0.4748 - accuracy: 0.7736 - val_loss: 0.5078 - val_accuracy: 0.7618\n",
      "Epoch 7/75\n",
      "5/5 [==============================] - 0s 7ms/step - loss: 0.4743 - accuracy: 0.7736 - val_loss: 0.5089 - val_accuracy: 0.7593\n",
      "Epoch 8/75\n",
      "5/5 [==============================] - 0s 7ms/step - loss: 0.4742 - accuracy: 0.7727 - val_loss: 0.5110 - val_accuracy: 0.7618\n",
      "Epoch 9/75\n",
      "5/5 [==============================] - 0s 7ms/step - loss: 0.4748 - accuracy: 0.7694 - val_loss: 0.5085 - val_accuracy: 0.7593\n",
      "Epoch 10/75\n",
      "5/5 [==============================] - 0s 7ms/step - loss: 0.4741 - accuracy: 0.7711 - val_loss: 0.5085 - val_accuracy: 0.7593\n",
      "Epoch 11/75\n",
      "5/5 [==============================] - 0s 7ms/step - loss: 0.4738 - accuracy: 0.7744 - val_loss: 0.5093 - val_accuracy: 0.7643\n",
      "Epoch 12/75\n",
      "5/5 [==============================] - 0s 10ms/step - loss: 0.4740 - accuracy: 0.7694 - val_loss: 0.5096 - val_accuracy: 0.7667\n",
      "Epoch 13/75\n",
      "5/5 [==============================] - 0s 7ms/step - loss: 0.4739 - accuracy: 0.7702 - val_loss: 0.5086 - val_accuracy: 0.7618\n",
      "Epoch 14/75\n",
      "5/5 [==============================] - 0s 6ms/step - loss: 0.4736 - accuracy: 0.7727 - val_loss: 0.5084 - val_accuracy: 0.7543\n",
      "Epoch 15/75\n",
      "5/5 [==============================] - 0s 7ms/step - loss: 0.4737 - accuracy: 0.7736 - val_loss: 0.5084 - val_accuracy: 0.7568\n",
      "Epoch 16/75\n",
      "5/5 [==============================] - 0s 7ms/step - loss: 0.4734 - accuracy: 0.7719 - val_loss: 0.5095 - val_accuracy: 0.7643\n",
      "Epoch 17/75\n",
      "5/5 [==============================] - 0s 7ms/step - loss: 0.4739 - accuracy: 0.7727 - val_loss: 0.5092 - val_accuracy: 0.7643\n",
      "Epoch 18/75\n",
      "5/5 [==============================] - 0s 6ms/step - loss: 0.4740 - accuracy: 0.7719 - val_loss: 0.5078 - val_accuracy: 0.7593\n",
      "Epoch 19/75\n",
      "5/5 [==============================] - 0s 6ms/step - loss: 0.4733 - accuracy: 0.7727 - val_loss: 0.5090 - val_accuracy: 0.7618\n",
      "Epoch 20/75\n",
      "5/5 [==============================] - 0s 6ms/step - loss: 0.4738 - accuracy: 0.7711 - val_loss: 0.5103 - val_accuracy: 0.7667\n",
      "Epoch 21/75\n",
      "5/5 [==============================] - 0s 6ms/step - loss: 0.4733 - accuracy: 0.7702 - val_loss: 0.5081 - val_accuracy: 0.7618\n",
      "Epoch 22/75\n",
      "5/5 [==============================] - 0s 6ms/step - loss: 0.4736 - accuracy: 0.7752 - val_loss: 0.5083 - val_accuracy: 0.7568\n",
      "Epoch 23/75\n",
      "5/5 [==============================] - 0s 6ms/step - loss: 0.4728 - accuracy: 0.7727 - val_loss: 0.5095 - val_accuracy: 0.7667\n",
      "Epoch 24/75\n",
      "5/5 [==============================] - 0s 7ms/step - loss: 0.4735 - accuracy: 0.7711 - val_loss: 0.5102 - val_accuracy: 0.7667\n",
      "Epoch 25/75\n",
      "5/5 [==============================] - 0s 7ms/step - loss: 0.4728 - accuracy: 0.7702 - val_loss: 0.5079 - val_accuracy: 0.7593\n",
      "Epoch 26/75\n",
      "5/5 [==============================] - 0s 7ms/step - loss: 0.4736 - accuracy: 0.7777 - val_loss: 0.5080 - val_accuracy: 0.7593\n",
      "Epoch 27/75\n",
      "5/5 [==============================] - 0s 7ms/step - loss: 0.4728 - accuracy: 0.7744 - val_loss: 0.5111 - val_accuracy: 0.7519\n",
      "Epoch 28/75\n",
      "5/5 [==============================] - 0s 7ms/step - loss: 0.4733 - accuracy: 0.7719 - val_loss: 0.5086 - val_accuracy: 0.7643\n",
      "Epoch 29/75\n",
      "5/5 [==============================] - 0s 7ms/step - loss: 0.4727 - accuracy: 0.7769 - val_loss: 0.5082 - val_accuracy: 0.7618\n",
      "Epoch 30/75\n",
      "5/5 [==============================] - 0s 7ms/step - loss: 0.4723 - accuracy: 0.7744 - val_loss: 0.5085 - val_accuracy: 0.7643\n",
      "Epoch 31/75\n",
      "5/5 [==============================] - 0s 7ms/step - loss: 0.4721 - accuracy: 0.7727 - val_loss: 0.5086 - val_accuracy: 0.7618\n",
      "Epoch 32/75\n",
      "5/5 [==============================] - 0s 8ms/step - loss: 0.4723 - accuracy: 0.7719 - val_loss: 0.5085 - val_accuracy: 0.7593\n",
      "Epoch 33/75\n",
      "5/5 [==============================] - 0s 6ms/step - loss: 0.4722 - accuracy: 0.7694 - val_loss: 0.5086 - val_accuracy: 0.7618\n",
      "Epoch 34/75\n",
      "5/5 [==============================] - 0s 6ms/step - loss: 0.4730 - accuracy: 0.7769 - val_loss: 0.5079 - val_accuracy: 0.7618\n",
      "Epoch 35/75\n",
      "5/5 [==============================] - 0s 6ms/step - loss: 0.4726 - accuracy: 0.7719 - val_loss: 0.5098 - val_accuracy: 0.7568\n",
      "Epoch 36/75\n",
      "5/5 [==============================] - 0s 7ms/step - loss: 0.4720 - accuracy: 0.7686 - val_loss: 0.5084 - val_accuracy: 0.7593\n",
      "Epoch 37/75\n",
      "5/5 [==============================] - 0s 7ms/step - loss: 0.4721 - accuracy: 0.7769 - val_loss: 0.5077 - val_accuracy: 0.7618\n",
      "Epoch 38/75\n",
      "5/5 [==============================] - 0s 7ms/step - loss: 0.4721 - accuracy: 0.7744 - val_loss: 0.5092 - val_accuracy: 0.7593\n",
      "Epoch 39/75\n",
      "5/5 [==============================] - 0s 7ms/step - loss: 0.4717 - accuracy: 0.7711 - val_loss: 0.5087 - val_accuracy: 0.7618\n",
      "Epoch 40/75\n",
      "5/5 [==============================] - 0s 7ms/step - loss: 0.4720 - accuracy: 0.7736 - val_loss: 0.5089 - val_accuracy: 0.7618\n",
      "Epoch 41/75\n",
      "5/5 [==============================] - 0s 7ms/step - loss: 0.4722 - accuracy: 0.7719 - val_loss: 0.5078 - val_accuracy: 0.7667\n",
      "Epoch 42/75\n",
      "5/5 [==============================] - 0s 7ms/step - loss: 0.4716 - accuracy: 0.7736 - val_loss: 0.5096 - val_accuracy: 0.7618\n",
      "Epoch 43/75\n",
      "5/5 [==============================] - 0s 8ms/step - loss: 0.4718 - accuracy: 0.7736 - val_loss: 0.5085 - val_accuracy: 0.7618\n",
      "Epoch 44/75\n",
      "5/5 [==============================] - 0s 7ms/step - loss: 0.4714 - accuracy: 0.7760 - val_loss: 0.5072 - val_accuracy: 0.7593\n",
      "Epoch 45/75\n",
      "5/5 [==============================] - 0s 8ms/step - loss: 0.4714 - accuracy: 0.7777 - val_loss: 0.5079 - val_accuracy: 0.7593\n",
      "Epoch 46/75\n",
      "5/5 [==============================] - 0s 9ms/step - loss: 0.4711 - accuracy: 0.7727 - val_loss: 0.5099 - val_accuracy: 0.7568\n",
      "Epoch 47/75\n",
      "5/5 [==============================] - 0s 8ms/step - loss: 0.4711 - accuracy: 0.7736 - val_loss: 0.5079 - val_accuracy: 0.7667\n",
      "Epoch 48/75\n",
      "5/5 [==============================] - 0s 8ms/step - loss: 0.4709 - accuracy: 0.7744 - val_loss: 0.5071 - val_accuracy: 0.7643\n",
      "Epoch 49/75\n",
      "5/5 [==============================] - 0s 7ms/step - loss: 0.4709 - accuracy: 0.7769 - val_loss: 0.5077 - val_accuracy: 0.7643\n",
      "Epoch 50/75\n",
      "5/5 [==============================] - 0s 8ms/step - loss: 0.4705 - accuracy: 0.7727 - val_loss: 0.5088 - val_accuracy: 0.7593\n",
      "Epoch 51/75\n",
      "5/5 [==============================] - 0s 7ms/step - loss: 0.4708 - accuracy: 0.7736 - val_loss: 0.5077 - val_accuracy: 0.7643\n",
      "Epoch 52/75\n",
      "5/5 [==============================] - 0s 6ms/step - loss: 0.4705 - accuracy: 0.7736 - val_loss: 0.5077 - val_accuracy: 0.7618\n",
      "Epoch 53/75\n",
      "5/5 [==============================] - 0s 7ms/step - loss: 0.4709 - accuracy: 0.7744 - val_loss: 0.5074 - val_accuracy: 0.7593\n",
      "Epoch 54/75\n",
      "5/5 [==============================] - 0s 7ms/step - loss: 0.4714 - accuracy: 0.7702 - val_loss: 0.5096 - val_accuracy: 0.7593\n",
      "Epoch 55/75\n",
      "5/5 [==============================] - 0s 8ms/step - loss: 0.4702 - accuracy: 0.7736 - val_loss: 0.5072 - val_accuracy: 0.7643\n",
      "Epoch 56/75\n",
      "5/5 [==============================] - 0s 7ms/step - loss: 0.4702 - accuracy: 0.7736 - val_loss: 0.5070 - val_accuracy: 0.7618\n",
      "Epoch 57/75\n",
      "5/5 [==============================] - 0s 7ms/step - loss: 0.4717 - accuracy: 0.7744 - val_loss: 0.5069 - val_accuracy: 0.7618\n",
      "Epoch 58/75\n",
      "5/5 [==============================] - 0s 7ms/step - loss: 0.4726 - accuracy: 0.7736 - val_loss: 0.5109 - val_accuracy: 0.7494\n",
      "Epoch 59/75\n",
      "5/5 [==============================] - 0s 7ms/step - loss: 0.4701 - accuracy: 0.7744 - val_loss: 0.5066 - val_accuracy: 0.7618\n"
     ]
    },
    {
     "name": "stdout",
     "output_type": "stream",
     "text": [
      "Epoch 60/75\n",
      "5/5 [==============================] - 0s 7ms/step - loss: 0.4708 - accuracy: 0.7760 - val_loss: 0.5066 - val_accuracy: 0.7618\n",
      "Epoch 61/75\n",
      "5/5 [==============================] - 0s 7ms/step - loss: 0.4696 - accuracy: 0.7752 - val_loss: 0.5085 - val_accuracy: 0.7593\n",
      "Epoch 62/75\n",
      "5/5 [==============================] - 0s 6ms/step - loss: 0.4701 - accuracy: 0.7760 - val_loss: 0.5087 - val_accuracy: 0.7568\n",
      "Epoch 63/75\n",
      "5/5 [==============================] - 0s 6ms/step - loss: 0.4696 - accuracy: 0.7736 - val_loss: 0.5070 - val_accuracy: 0.7618\n",
      "Epoch 64/75\n",
      "5/5 [==============================] - 0s 6ms/step - loss: 0.4698 - accuracy: 0.7744 - val_loss: 0.5068 - val_accuracy: 0.7618\n",
      "Epoch 65/75\n",
      "5/5 [==============================] - 0s 6ms/step - loss: 0.4693 - accuracy: 0.7727 - val_loss: 0.5084 - val_accuracy: 0.7593\n",
      "Epoch 66/75\n",
      "5/5 [==============================] - 0s 7ms/step - loss: 0.4695 - accuracy: 0.7744 - val_loss: 0.5080 - val_accuracy: 0.7618\n",
      "Epoch 67/75\n",
      "5/5 [==============================] - 0s 7ms/step - loss: 0.4696 - accuracy: 0.7744 - val_loss: 0.5066 - val_accuracy: 0.7618\n",
      "Epoch 68/75\n",
      "5/5 [==============================] - 0s 7ms/step - loss: 0.4699 - accuracy: 0.7727 - val_loss: 0.5072 - val_accuracy: 0.7593\n",
      "Epoch 69/75\n",
      "5/5 [==============================] - 0s 7ms/step - loss: 0.4718 - accuracy: 0.7711 - val_loss: 0.5093 - val_accuracy: 0.7543\n",
      "Epoch 70/75\n",
      "5/5 [==============================] - 0s 7ms/step - loss: 0.4697 - accuracy: 0.7727 - val_loss: 0.5060 - val_accuracy: 0.7692\n",
      "Epoch 71/75\n",
      "5/5 [==============================] - 0s 6ms/step - loss: 0.4703 - accuracy: 0.7802 - val_loss: 0.5064 - val_accuracy: 0.7667\n",
      "Epoch 72/75\n",
      "5/5 [==============================] - 0s 7ms/step - loss: 0.4685 - accuracy: 0.7719 - val_loss: 0.5103 - val_accuracy: 0.7494\n",
      "Epoch 73/75\n",
      "5/5 [==============================] - 0s 6ms/step - loss: 0.4701 - accuracy: 0.7719 - val_loss: 0.5076 - val_accuracy: 0.7593\n",
      "Epoch 74/75\n",
      "5/5 [==============================] - 0s 7ms/step - loss: 0.4684 - accuracy: 0.7760 - val_loss: 0.5058 - val_accuracy: 0.7667\n",
      "Epoch 75/75\n",
      "5/5 [==============================] - 0s 7ms/step - loss: 0.4714 - accuracy: 0.7760 - val_loss: 0.5060 - val_accuracy: 0.7643\n",
      "Done!\n"
     ]
    },
    {
     "data": {
      "text/plain": [
       "Text(0, 0.5, 'accuracy')"
      ]
     },
     "execution_count": 52,
     "metadata": {},
     "output_type": "execute_result"
    },
    {
     "data": {
      "image/png": "[encoded data removed]",
      "text/plain": [
       "<Figure size 432x288 with 2 Axes>"
      ]
     },
     "metadata": {
      "needs_background": "light"
     },
     "output_type": "display_data"
    }
   ],
   "source": [
    "hist2 = train(model1, \n",
    "              train=[x_train, y_train], \n",
    "              test=[x_test, y_test], \n",
    "              batch_size=256, \n",
    "              optimizer='adam', \n",
    "              loss_fn='binary_crossentropy', \n",
    "              epochs=75, \n",
    "              description='dense64relu_dense1sigmoid_adam')\n",
    "\n",
    "losses, accs = hist2['val_loss'], hist2['val_accuracy']\n",
    "f, (ax1, ax2) = plt.subplots(2, 1, sharey=False)\n",
    "ax1.plot(np.arange(len(losses)), losses)\n",
    "ax1.set_xlabel('epochs')\n",
    "ax1.set_ylabel('loss')\n",
    "ax2.plot(np.arange(len(accs)), accs)\n",
    "ax2.set_xlabel('epochs')\n",
    "ax2.set_ylabel('accuracy')"
   ]
  },
  {
   "cell_type": "markdown",
   "metadata": {},
   "source": [
    "### Arquitectura 2"
   ]
  },
  {
   "cell_type": "code",
   "execution_count": 45,
   "metadata": {},
   "outputs": [
    {
     "name": "stdout",
     "output_type": "stream",
     "text": [
      "Model: \"sequential_7\"\n",
      "_________________________________________________________________\n",
      "Layer (type)                 Output Shape              Param #   \n",
      "=================================================================\n",
      "dense_14 (Dense)             (None, 32)                416       \n",
      "_________________________________________________________________\n",
      "dense_15 (Dense)             (None, 16)                528       \n",
      "_________________________________________________________________\n",
      "dense_16 (Dense)             (None, 1)                 17        \n",
      "=================================================================\n",
      "Total params: 961\n",
      "Trainable params: 961\n",
      "Non-trainable params: 0\n",
      "_________________________________________________________________\n"
     ]
    }
   ],
   "source": [
    "model2 = Sequential()\n",
    "model2.add(Dense(32, input_dim=12, activation='tanh', kernel_initializer='uniform'))\n",
    "model2.add(Dense(16, input_dim=12, activation='tanh', kernel_initializer='uniform'))\n",
    "model2.add(Dense(1, activation='sigmoid'))\n",
    "model2.summary()"
   ]
  },
  {
   "cell_type": "markdown",
   "metadata": {},
   "source": [
    "### Experimento 4\n",
    "\n",
    "**Hipotesis:** La arquitectura de unicamente 2 capas ocultas, 1 capa con 32 neuronas, la segunda compuesta por 16 neuronas, ambas activadas por la funcion tanh proveeran una exactitud superior al 70% tras entrenar durante 50 epochs, con un batch size de 32 observaciones, utilizando el optimizador adam y la funcion de costo binary crossentropy."
   ]
  },
  {
   "cell_type": "code",
   "execution_count": 53,
   "metadata": {},
   "outputs": [
    {
     "name": "stdout",
     "output_type": "stream",
     "text": [
      "Epoch 1/50\n",
      "38/38 [==============================] - 1s 5ms/step - loss: 0.6273 - accuracy: 0.6570 - val_loss: 0.6280 - val_accuracy: 0.6203\n",
      "Epoch 2/50\n",
      "38/38 [==============================] - 0s 2ms/step - loss: 0.6244 - accuracy: 0.6570 - val_loss: 0.6235 - val_accuracy: 0.6675\n",
      "Epoch 3/50\n",
      "38/38 [==============================] - 0s 2ms/step - loss: 0.6235 - accuracy: 0.6736 - val_loss: 0.6226 - val_accuracy: 0.6278\n",
      "Epoch 4/50\n",
      "38/38 [==============================] - 0s 2ms/step - loss: 0.6255 - accuracy: 0.6579 - val_loss: 0.6255 - val_accuracy: 0.6774\n",
      "Epoch 5/50\n",
      "38/38 [==============================] - 0s 2ms/step - loss: 0.6247 - accuracy: 0.6636 - val_loss: 0.6289 - val_accuracy: 0.6774\n",
      "Epoch 6/50\n",
      "38/38 [==============================] - 0s 2ms/step - loss: 0.6243 - accuracy: 0.6537 - val_loss: 0.6227 - val_accuracy: 0.6402\n",
      "Epoch 7/50\n",
      "38/38 [==============================] - 0s 2ms/step - loss: 0.6229 - accuracy: 0.6661 - val_loss: 0.6251 - val_accuracy: 0.6700\n",
      "Epoch 8/50\n",
      "38/38 [==============================] - 0s 2ms/step - loss: 0.6255 - accuracy: 0.6636 - val_loss: 0.6230 - val_accuracy: 0.6675\n",
      "Epoch 9/50\n",
      "38/38 [==============================] - 0s 2ms/step - loss: 0.6244 - accuracy: 0.6636 - val_loss: 0.6275 - val_accuracy: 0.6824\n",
      "Epoch 10/50\n",
      "38/38 [==============================] - 0s 2ms/step - loss: 0.6243 - accuracy: 0.6636 - val_loss: 0.6258 - val_accuracy: 0.6749\n",
      "Epoch 11/50\n",
      "38/38 [==============================] - 0s 2ms/step - loss: 0.6253 - accuracy: 0.6669 - val_loss: 0.6310 - val_accuracy: 0.6749\n",
      "Epoch 12/50\n",
      "38/38 [==============================] - 0s 2ms/step - loss: 0.6250 - accuracy: 0.6678 - val_loss: 0.6275 - val_accuracy: 0.6799\n",
      "Epoch 13/50\n",
      "38/38 [==============================] - 0s 3ms/step - loss: 0.6250 - accuracy: 0.6645 - val_loss: 0.6247 - val_accuracy: 0.6700\n",
      "Epoch 14/50\n",
      "38/38 [==============================] - 0s 2ms/step - loss: 0.6257 - accuracy: 0.6620 - val_loss: 0.6294 - val_accuracy: 0.6774\n",
      "Epoch 15/50\n",
      "38/38 [==============================] - 0s 2ms/step - loss: 0.6229 - accuracy: 0.6620 - val_loss: 0.6220 - val_accuracy: 0.6650\n",
      "Epoch 16/50\n",
      "38/38 [==============================] - 0s 2ms/step - loss: 0.6241 - accuracy: 0.6636 - val_loss: 0.6246 - val_accuracy: 0.6675\n",
      "Epoch 17/50\n",
      "38/38 [==============================] - 0s 2ms/step - loss: 0.6249 - accuracy: 0.6612 - val_loss: 0.6256 - val_accuracy: 0.6799\n",
      "Epoch 18/50\n",
      "38/38 [==============================] - 0s 2ms/step - loss: 0.6241 - accuracy: 0.6612 - val_loss: 0.6246 - val_accuracy: 0.6700\n",
      "Epoch 19/50\n",
      "38/38 [==============================] - 0s 2ms/step - loss: 0.6245 - accuracy: 0.6736 - val_loss: 0.6298 - val_accuracy: 0.6774\n",
      "Epoch 20/50\n",
      "38/38 [==============================] - 0s 2ms/step - loss: 0.6262 - accuracy: 0.6545 - val_loss: 0.6216 - val_accuracy: 0.6600\n",
      "Epoch 21/50\n",
      "38/38 [==============================] - 0s 2ms/step - loss: 0.6242 - accuracy: 0.6587 - val_loss: 0.6261 - val_accuracy: 0.6749\n",
      "Epoch 22/50\n",
      "38/38 [==============================] - 0s 2ms/step - loss: 0.6250 - accuracy: 0.6570 - val_loss: 0.6269 - val_accuracy: 0.6749\n",
      "Epoch 23/50\n",
      "38/38 [==============================] - 0s 2ms/step - loss: 0.6246 - accuracy: 0.6570 - val_loss: 0.6377 - val_accuracy: 0.6625\n",
      "Epoch 24/50\n",
      "38/38 [==============================] - 0s 2ms/step - loss: 0.6261 - accuracy: 0.6620 - val_loss: 0.6226 - val_accuracy: 0.6675\n",
      "Epoch 25/50\n",
      "38/38 [==============================] - 0s 2ms/step - loss: 0.6243 - accuracy: 0.6645 - val_loss: 0.6214 - val_accuracy: 0.6650\n",
      "Epoch 26/50\n",
      "38/38 [==============================] - 0s 2ms/step - loss: 0.6277 - accuracy: 0.6479 - val_loss: 0.6217 - val_accuracy: 0.6700\n",
      "Epoch 27/50\n",
      "38/38 [==============================] - 0s 2ms/step - loss: 0.6236 - accuracy: 0.6603 - val_loss: 0.6276 - val_accuracy: 0.6824\n",
      "Epoch 28/50\n",
      "38/38 [==============================] - 0s 2ms/step - loss: 0.6255 - accuracy: 0.6579 - val_loss: 0.6224 - val_accuracy: 0.6700\n",
      "Epoch 29/50\n",
      "38/38 [==============================] - 0s 2ms/step - loss: 0.6270 - accuracy: 0.6636 - val_loss: 0.6233 - val_accuracy: 0.6700\n",
      "Epoch 30/50\n",
      "38/38 [==============================] - 0s 2ms/step - loss: 0.6266 - accuracy: 0.6645 - val_loss: 0.6350 - val_accuracy: 0.6700\n",
      "Epoch 31/50\n",
      "38/38 [==============================] - 0s 2ms/step - loss: 0.6256 - accuracy: 0.6620 - val_loss: 0.6352 - val_accuracy: 0.6650\n",
      "Epoch 32/50\n",
      "38/38 [==============================] - 0s 2ms/step - loss: 0.6247 - accuracy: 0.6686 - val_loss: 0.6220 - val_accuracy: 0.6675\n",
      "Epoch 33/50\n",
      "38/38 [==============================] - 0s 2ms/step - loss: 0.6243 - accuracy: 0.6636 - val_loss: 0.6219 - val_accuracy: 0.6427\n",
      "Epoch 34/50\n",
      "38/38 [==============================] - 0s 2ms/step - loss: 0.6238 - accuracy: 0.6570 - val_loss: 0.6242 - val_accuracy: 0.6749\n",
      "Epoch 35/50\n",
      "38/38 [==============================] - 0s 2ms/step - loss: 0.6244 - accuracy: 0.6488 - val_loss: 0.6254 - val_accuracy: 0.6700\n",
      "Epoch 36/50\n",
      "38/38 [==============================] - 0s 2ms/step - loss: 0.6257 - accuracy: 0.6636 - val_loss: 0.6260 - val_accuracy: 0.6799\n",
      "Epoch 37/50\n",
      "38/38 [==============================] - 0s 2ms/step - loss: 0.6237 - accuracy: 0.6653 - val_loss: 0.6233 - val_accuracy: 0.6749\n",
      "Epoch 38/50\n",
      "38/38 [==============================] - 0s 2ms/step - loss: 0.6239 - accuracy: 0.6620 - val_loss: 0.6236 - val_accuracy: 0.6675\n",
      "Epoch 39/50\n",
      "38/38 [==============================] - 0s 2ms/step - loss: 0.6250 - accuracy: 0.6603 - val_loss: 0.6226 - val_accuracy: 0.6725\n",
      "Epoch 40/50\n",
      "38/38 [==============================] - 0s 2ms/step - loss: 0.6241 - accuracy: 0.6620 - val_loss: 0.6227 - val_accuracy: 0.6675\n",
      "Epoch 41/50\n",
      "38/38 [==============================] - 0s 2ms/step - loss: 0.6229 - accuracy: 0.6628 - val_loss: 0.6216 - val_accuracy: 0.6650\n",
      "Epoch 42/50\n",
      "38/38 [==============================] - 0s 2ms/step - loss: 0.6267 - accuracy: 0.6620 - val_loss: 0.6217 - val_accuracy: 0.6650\n",
      "Epoch 43/50\n",
      "38/38 [==============================] - 0s 2ms/step - loss: 0.6238 - accuracy: 0.6529 - val_loss: 0.6249 - val_accuracy: 0.6700\n",
      "Epoch 44/50\n",
      "38/38 [==============================] - 0s 2ms/step - loss: 0.6227 - accuracy: 0.6669 - val_loss: 0.6213 - val_accuracy: 0.6501\n",
      "Epoch 45/50\n",
      "38/38 [==============================] - 0s 2ms/step - loss: 0.6248 - accuracy: 0.6628 - val_loss: 0.6219 - val_accuracy: 0.6675\n",
      "Epoch 46/50\n",
      "38/38 [==============================] - 0s 2ms/step - loss: 0.6244 - accuracy: 0.6562 - val_loss: 0.6329 - val_accuracy: 0.6675\n",
      "Epoch 47/50\n",
      "38/38 [==============================] - 0s 2ms/step - loss: 0.6246 - accuracy: 0.6620 - val_loss: 0.6241 - val_accuracy: 0.6725\n",
      "Epoch 48/50\n",
      "38/38 [==============================] - 0s 2ms/step - loss: 0.6238 - accuracy: 0.6661 - val_loss: 0.6246 - val_accuracy: 0.6749\n",
      "Epoch 49/50\n",
      "38/38 [==============================] - 0s 2ms/step - loss: 0.6258 - accuracy: 0.6603 - val_loss: 0.6237 - val_accuracy: 0.6625\n",
      "Epoch 50/50\n",
      "38/38 [==============================] - 0s 2ms/step - loss: 0.6239 - accuracy: 0.6661 - val_loss: 0.6215 - val_accuracy: 0.6625\n",
      "Done!\n"
     ]
    },
    {
     "data": {
      "text/plain": [
       "Text(0, 0.5, 'accuracy')"
      ]
     },
     "execution_count": 53,
     "metadata": {},
     "output_type": "execute_result"
    },
    {
     "data": {
      "image/png": "[encoded data removed]",
      "text/plain": [
       "<Figure size 432x288 with 2 Axes>"
      ]
     },
     "metadata": {
      "needs_background": "light"
     },
     "output_type": "display_data"
    }
   ],
   "source": [
    "hist1 = train(model2, \n",
    "              train=[x_train, y_train], \n",
    "              test=[x_test, y_test], \n",
    "              batch_size=32, \n",
    "              optimizer='adam', \n",
    "              loss_fn='binary_crossentropy', \n",
    "              epochs=50, \n",
    "              description='dense32tanh_dense16tanh_dense1sigmoid_adam')\n",
    "\n",
    "losses, accs = hist1['val_loss'], hist1['val_accuracy']\n",
    "f, (ax1, ax2) = plt.subplots(2, 1, sharey=False)\n",
    "ax1.plot(np.arange(len(losses)), losses)\n",
    "ax1.set_xlabel('epochs')\n",
    "ax1.set_ylabel('loss')\n",
    "ax2.plot(np.arange(len(accs)), accs)\n",
    "ax2.set_xlabel('epochs')\n",
    "ax2.set_ylabel('accuracy')"
   ]
  },
  {
   "cell_type": "markdown",
   "metadata": {},
   "source": [
    "### Experimento 5\n",
    "\n",
    "**Hipotesis:** La arquitectura de unicamente 2 capas ocultas, 1 capa con 32 neuronas, la segunda compuesta por 16 neuronas, ambas activadas por la funcion tanh proveeran una exactitud superior al 80% tras entrenar durante 50 epochs, con un batch size de 128 observaciones, utilizando el optimizador adam y la funcion de costo binary crossentropy."
   ]
  },
  {
   "cell_type": "code",
   "execution_count": 54,
   "metadata": {},
   "outputs": [
    {
     "name": "stdout",
     "output_type": "stream",
     "text": [
      "Epoch 1/50\n",
      "10/10 [==============================] - 1s 19ms/step - loss: 0.6234 - accuracy: 0.6636 - val_loss: 0.6255 - val_accuracy: 0.6774\n",
      "Epoch 2/50\n",
      "10/10 [==============================] - 0s 3ms/step - loss: 0.6225 - accuracy: 0.6661 - val_loss: 0.6218 - val_accuracy: 0.6650\n",
      "Epoch 3/50\n",
      "10/10 [==============================] - 0s 4ms/step - loss: 0.6236 - accuracy: 0.6661 - val_loss: 0.6276 - val_accuracy: 0.6749\n",
      "Epoch 4/50\n",
      "10/10 [==============================] - 0s 4ms/step - loss: 0.6218 - accuracy: 0.6711 - val_loss: 0.6219 - val_accuracy: 0.6700\n",
      "Epoch 5/50\n",
      "10/10 [==============================] - 0s 4ms/step - loss: 0.6232 - accuracy: 0.6645 - val_loss: 0.6229 - val_accuracy: 0.6749\n",
      "Epoch 6/50\n",
      "10/10 [==============================] - 0s 4ms/step - loss: 0.6226 - accuracy: 0.6579 - val_loss: 0.6223 - val_accuracy: 0.6725\n",
      "Epoch 7/50\n",
      "10/10 [==============================] - 0s 4ms/step - loss: 0.6241 - accuracy: 0.6645 - val_loss: 0.6252 - val_accuracy: 0.6849\n",
      "Epoch 8/50\n",
      "10/10 [==============================] - 0s 5ms/step - loss: 0.6247 - accuracy: 0.6653 - val_loss: 0.6215 - val_accuracy: 0.6650\n",
      "Epoch 9/50\n",
      "10/10 [==============================] - 0s 4ms/step - loss: 0.6228 - accuracy: 0.6595 - val_loss: 0.6243 - val_accuracy: 0.6774\n",
      "Epoch 10/50\n",
      "10/10 [==============================] - 0s 4ms/step - loss: 0.6222 - accuracy: 0.6702 - val_loss: 0.6242 - val_accuracy: 0.6725\n",
      "Epoch 11/50\n",
      "10/10 [==============================] - 0s 4ms/step - loss: 0.6223 - accuracy: 0.6661 - val_loss: 0.6218 - val_accuracy: 0.6725\n",
      "Epoch 12/50\n",
      "10/10 [==============================] - 0s 7ms/step - loss: 0.6224 - accuracy: 0.6645 - val_loss: 0.6240 - val_accuracy: 0.6749\n",
      "Epoch 13/50\n",
      "10/10 [==============================] - 0s 5ms/step - loss: 0.6223 - accuracy: 0.6694 - val_loss: 0.6235 - val_accuracy: 0.6725\n",
      "Epoch 14/50\n",
      "10/10 [==============================] - 0s 4ms/step - loss: 0.6222 - accuracy: 0.6653 - val_loss: 0.6231 - val_accuracy: 0.6700\n",
      "Epoch 15/50\n",
      "10/10 [==============================] - 0s 4ms/step - loss: 0.6221 - accuracy: 0.6719 - val_loss: 0.6254 - val_accuracy: 0.6824\n",
      "Epoch 16/50\n",
      "10/10 [==============================] - 0s 4ms/step - loss: 0.6222 - accuracy: 0.6702 - val_loss: 0.6223 - val_accuracy: 0.6725\n",
      "Epoch 17/50\n",
      "10/10 [==============================] - 0s 4ms/step - loss: 0.6237 - accuracy: 0.6587 - val_loss: 0.6229 - val_accuracy: 0.6700\n",
      "Epoch 18/50\n",
      "10/10 [==============================] - 0s 4ms/step - loss: 0.6239 - accuracy: 0.6736 - val_loss: 0.6267 - val_accuracy: 0.6774\n",
      "Epoch 19/50\n",
      "10/10 [==============================] - 0s 4ms/step - loss: 0.6225 - accuracy: 0.6661 - val_loss: 0.6220 - val_accuracy: 0.6749\n",
      "Epoch 20/50\n",
      "10/10 [==============================] - 0s 4ms/step - loss: 0.6228 - accuracy: 0.6612 - val_loss: 0.6228 - val_accuracy: 0.6700\n",
      "Epoch 21/50\n",
      "10/10 [==============================] - 0s 4ms/step - loss: 0.6221 - accuracy: 0.6711 - val_loss: 0.6264 - val_accuracy: 0.6799\n",
      "Epoch 22/50\n",
      "10/10 [==============================] - 0s 4ms/step - loss: 0.6222 - accuracy: 0.6595 - val_loss: 0.6216 - val_accuracy: 0.6700\n",
      "Epoch 23/50\n",
      "10/10 [==============================] - 0s 4ms/step - loss: 0.6227 - accuracy: 0.6620 - val_loss: 0.6230 - val_accuracy: 0.6725\n",
      "Epoch 24/50\n",
      "10/10 [==============================] - 0s 4ms/step - loss: 0.6230 - accuracy: 0.6711 - val_loss: 0.6248 - val_accuracy: 0.6774\n",
      "Epoch 25/50\n",
      "10/10 [==============================] - 0s 4ms/step - loss: 0.6219 - accuracy: 0.6694 - val_loss: 0.6218 - val_accuracy: 0.6725\n",
      "Epoch 26/50\n",
      "10/10 [==============================] - 0s 4ms/step - loss: 0.6228 - accuracy: 0.6595 - val_loss: 0.6221 - val_accuracy: 0.6725\n",
      "Epoch 27/50\n",
      "10/10 [==============================] - 0s 4ms/step - loss: 0.6222 - accuracy: 0.6669 - val_loss: 0.6229 - val_accuracy: 0.6749\n",
      "Epoch 28/50\n",
      "10/10 [==============================] - 0s 4ms/step - loss: 0.6222 - accuracy: 0.6669 - val_loss: 0.6243 - val_accuracy: 0.6774\n",
      "Epoch 29/50\n",
      "10/10 [==============================] - 0s 3ms/step - loss: 0.6225 - accuracy: 0.6702 - val_loss: 0.6244 - val_accuracy: 0.6774\n",
      "Epoch 30/50\n",
      "10/10 [==============================] - 0s 4ms/step - loss: 0.6233 - accuracy: 0.6661 - val_loss: 0.6214 - val_accuracy: 0.6625\n",
      "Epoch 31/50\n",
      "10/10 [==============================] - 0s 4ms/step - loss: 0.6227 - accuracy: 0.6661 - val_loss: 0.6270 - val_accuracy: 0.6799\n",
      "Epoch 32/50\n",
      "10/10 [==============================] - 0s 4ms/step - loss: 0.6226 - accuracy: 0.6727 - val_loss: 0.6229 - val_accuracy: 0.6700\n",
      "Epoch 33/50\n",
      "10/10 [==============================] - 0s 4ms/step - loss: 0.6223 - accuracy: 0.6570 - val_loss: 0.6224 - val_accuracy: 0.6700\n",
      "Epoch 34/50\n",
      "10/10 [==============================] - 0s 4ms/step - loss: 0.6221 - accuracy: 0.6645 - val_loss: 0.6250 - val_accuracy: 0.6824\n",
      "Epoch 35/50\n",
      "10/10 [==============================] - 0s 4ms/step - loss: 0.6223 - accuracy: 0.6719 - val_loss: 0.6228 - val_accuracy: 0.6675\n",
      "Epoch 36/50\n",
      "10/10 [==============================] - 0s 4ms/step - loss: 0.6228 - accuracy: 0.6620 - val_loss: 0.6225 - val_accuracy: 0.6700\n",
      "Epoch 37/50\n",
      "10/10 [==============================] - 0s 5ms/step - loss: 0.6227 - accuracy: 0.6595 - val_loss: 0.6220 - val_accuracy: 0.6725\n",
      "Epoch 38/50\n",
      "10/10 [==============================] - 0s 4ms/step - loss: 0.6225 - accuracy: 0.6694 - val_loss: 0.6242 - val_accuracy: 0.6749\n",
      "Epoch 39/50\n",
      "10/10 [==============================] - 0s 5ms/step - loss: 0.6219 - accuracy: 0.6711 - val_loss: 0.6213 - val_accuracy: 0.6700\n",
      "Epoch 40/50\n",
      "10/10 [==============================] - 0s 4ms/step - loss: 0.6228 - accuracy: 0.6636 - val_loss: 0.6231 - val_accuracy: 0.6749\n",
      "Epoch 41/50\n",
      "10/10 [==============================] - 0s 6ms/step - loss: 0.6226 - accuracy: 0.6603 - val_loss: 0.6216 - val_accuracy: 0.6725\n",
      "Epoch 42/50\n",
      "10/10 [==============================] - 0s 4ms/step - loss: 0.6224 - accuracy: 0.6686 - val_loss: 0.6258 - val_accuracy: 0.6824\n",
      "Epoch 43/50\n",
      "10/10 [==============================] - 0s 3ms/step - loss: 0.6228 - accuracy: 0.6686 - val_loss: 0.6221 - val_accuracy: 0.6725\n",
      "Epoch 44/50\n",
      "10/10 [==============================] - 0s 3ms/step - loss: 0.6222 - accuracy: 0.6653 - val_loss: 0.6227 - val_accuracy: 0.6725\n",
      "Epoch 45/50\n",
      "10/10 [==============================] - 0s 3ms/step - loss: 0.6220 - accuracy: 0.6645 - val_loss: 0.6234 - val_accuracy: 0.6749\n",
      "Epoch 46/50\n",
      "10/10 [==============================] - 0s 4ms/step - loss: 0.6222 - accuracy: 0.6719 - val_loss: 0.6240 - val_accuracy: 0.6774\n",
      "Epoch 47/50\n",
      "10/10 [==============================] - 0s 4ms/step - loss: 0.6221 - accuracy: 0.6661 - val_loss: 0.6220 - val_accuracy: 0.6725\n",
      "Epoch 48/50\n",
      "10/10 [==============================] - 0s 4ms/step - loss: 0.6219 - accuracy: 0.6636 - val_loss: 0.6234 - val_accuracy: 0.6749\n",
      "Epoch 49/50\n",
      "10/10 [==============================] - 0s 4ms/step - loss: 0.6219 - accuracy: 0.6686 - val_loss: 0.6240 - val_accuracy: 0.6749\n",
      "Epoch 50/50\n",
      "10/10 [==============================] - 0s 4ms/step - loss: 0.6228 - accuracy: 0.6620 - val_loss: 0.6218 - val_accuracy: 0.6749\n",
      "Done!\n"
     ]
    },
    {
     "data": {
      "text/plain": [
       "Text(0, 0.5, 'accuracy')"
      ]
     },
     "execution_count": 54,
     "metadata": {},
     "output_type": "execute_result"
    },
    {
     "data": {
      "image/png": "[encoded data removed]",
      "text/plain": [
       "<Figure size 432x288 with 2 Axes>"
      ]
     },
     "metadata": {
      "needs_background": "light"
     },
     "output_type": "display_data"
    }
   ],
   "source": [
    "hist1 = train(model2, \n",
    "              train=[x_train, y_train], \n",
    "              test=[x_test, y_test], \n",
    "              batch_size=128, \n",
    "              optimizer='adam', \n",
    "              loss_fn='binary_crossentropy', \n",
    "              epochs=50, \n",
    "              description='dense32tanh_dense16tanh_dense1sigmoid_adam')\n",
    "\n",
    "losses, accs = hist1['val_loss'], hist1['val_accuracy']\n",
    "f, (ax1, ax2) = plt.subplots(2, 1, sharey=False)\n",
    "ax1.plot(np.arange(len(losses)), losses)\n",
    "ax1.set_xlabel('epochs')\n",
    "ax1.set_ylabel('loss')\n",
    "ax2.plot(np.arange(len(accs)), accs)\n",
    "ax2.set_xlabel('epochs')\n",
    "ax2.set_ylabel('accuracy')"
   ]
  },
  {
   "cell_type": "markdown",
   "metadata": {},
   "source": [
    "### Arquitectura 3"
   ]
  },
  {
   "cell_type": "code",
   "execution_count": 48,
   "metadata": {},
   "outputs": [
    {
     "name": "stdout",
     "output_type": "stream",
     "text": [
      "Model: \"sequential_8\"\n",
      "_________________________________________________________________\n",
      "Layer (type)                 Output Shape              Param #   \n",
      "=================================================================\n",
      "dense_17 (Dense)             (None, 64)                832       \n",
      "_________________________________________________________________\n",
      "dense_18 (Dense)             (None, 32)                2080      \n",
      "_________________________________________________________________\n",
      "dense_19 (Dense)             (None, 1)                 33        \n",
      "=================================================================\n",
      "Total params: 2,945\n",
      "Trainable params: 2,945\n",
      "Non-trainable params: 0\n",
      "_________________________________________________________________\n"
     ]
    }
   ],
   "source": [
    "model3 = Sequential()\n",
    "model3.add(Dense(64, input_dim=12, activation='relu', kernel_initializer='uniform'))\n",
    "model3.add(Dense(32, activation='relu', kernel_initializer='uniform'))\n",
    "model3.add(Dense(1, activation='sigmoid'))\n",
    "model3.compile(loss='binary_crossentropy', optimizer='adam', metrics=['accuracy'])\n",
    "model3.summary()"
   ]
  },
  {
   "cell_type": "markdown",
   "metadata": {},
   "source": [
    "### Experimento 6\n",
    "\n",
    "**Hipotesis:** La arquitectura de unicamente 2 capas ocultas, 1 capa con 64 neuronas, la segunda compuesta por 32 neuronas, ambas activadas por la funcion relu proveeran una exactitud superior al 70% tras entrenar durante 50 epochs, con un batch size de 32 observaciones, utilizando el optimizador adam y la funcion de costo binary crossentropy."
   ]
  },
  {
   "cell_type": "code",
   "execution_count": 55,
   "metadata": {},
   "outputs": [
    {
     "name": "stdout",
     "output_type": "stream",
     "text": [
      "Epoch 1/50\n",
      "38/38 [==============================] - 1s 5ms/step - loss: 0.5284 - accuracy: 0.7397 - val_loss: 0.5471 - val_accuracy: 0.7072\n",
      "Epoch 2/50\n",
      "38/38 [==============================] - 0s 2ms/step - loss: 0.5194 - accuracy: 0.7463 - val_loss: 0.5409 - val_accuracy: 0.7270\n",
      "Epoch 3/50\n",
      "38/38 [==============================] - 0s 2ms/step - loss: 0.5215 - accuracy: 0.7421 - val_loss: 0.5370 - val_accuracy: 0.7295\n",
      "Epoch 4/50\n",
      "38/38 [==============================] - 0s 2ms/step - loss: 0.5187 - accuracy: 0.7413 - val_loss: 0.5363 - val_accuracy: 0.7171\n",
      "Epoch 5/50\n",
      "38/38 [==============================] - 0s 2ms/step - loss: 0.5162 - accuracy: 0.7479 - val_loss: 0.5412 - val_accuracy: 0.7246\n",
      "Epoch 6/50\n",
      "38/38 [==============================] - 0s 2ms/step - loss: 0.5174 - accuracy: 0.7488 - val_loss: 0.5332 - val_accuracy: 0.7345\n",
      "Epoch 7/50\n",
      "38/38 [==============================] - 0s 2ms/step - loss: 0.5169 - accuracy: 0.7446 - val_loss: 0.5349 - val_accuracy: 0.7196\n",
      "Epoch 8/50\n",
      "38/38 [==============================] - 0s 2ms/step - loss: 0.5127 - accuracy: 0.7545 - val_loss: 0.5304 - val_accuracy: 0.7395\n",
      "Epoch 9/50\n",
      "38/38 [==============================] - 0s 2ms/step - loss: 0.5115 - accuracy: 0.7496 - val_loss: 0.5318 - val_accuracy: 0.7419\n",
      "Epoch 10/50\n",
      "38/38 [==============================] - 0s 2ms/step - loss: 0.5156 - accuracy: 0.7463 - val_loss: 0.5321 - val_accuracy: 0.7320\n",
      "Epoch 11/50\n",
      "38/38 [==============================] - 0s 2ms/step - loss: 0.5189 - accuracy: 0.7488 - val_loss: 0.5291 - val_accuracy: 0.7494\n",
      "Epoch 12/50\n",
      "38/38 [==============================] - 0s 2ms/step - loss: 0.5078 - accuracy: 0.7529 - val_loss: 0.5348 - val_accuracy: 0.7122\n",
      "Epoch 13/50\n",
      "38/38 [==============================] - 0s 2ms/step - loss: 0.5088 - accuracy: 0.7579 - val_loss: 0.5283 - val_accuracy: 0.7345\n",
      "Epoch 14/50\n",
      "38/38 [==============================] - 0s 2ms/step - loss: 0.5080 - accuracy: 0.7537 - val_loss: 0.5573 - val_accuracy: 0.6998\n",
      "Epoch 15/50\n",
      "38/38 [==============================] - 0s 2ms/step - loss: 0.5111 - accuracy: 0.7521 - val_loss: 0.5290 - val_accuracy: 0.7171\n",
      "Epoch 16/50\n",
      "38/38 [==============================] - 0s 2ms/step - loss: 0.5032 - accuracy: 0.7545 - val_loss: 0.5247 - val_accuracy: 0.7469\n",
      "Epoch 17/50\n",
      "38/38 [==============================] - 0s 2ms/step - loss: 0.5007 - accuracy: 0.7554 - val_loss: 0.5237 - val_accuracy: 0.7444\n",
      "Epoch 18/50\n",
      "38/38 [==============================] - 0s 2ms/step - loss: 0.5006 - accuracy: 0.7554 - val_loss: 0.5431 - val_accuracy: 0.7097\n",
      "Epoch 19/50\n",
      "38/38 [==============================] - 0s 2ms/step - loss: 0.5046 - accuracy: 0.7488 - val_loss: 0.5291 - val_accuracy: 0.7270\n",
      "Epoch 20/50\n",
      "38/38 [==============================] - 0s 2ms/step - loss: 0.5009 - accuracy: 0.7545 - val_loss: 0.5276 - val_accuracy: 0.7469\n",
      "Epoch 21/50\n",
      "38/38 [==============================] - 0s 2ms/step - loss: 0.4976 - accuracy: 0.7496 - val_loss: 0.5252 - val_accuracy: 0.7444\n",
      "Epoch 22/50\n",
      "38/38 [==============================] - 0s 2ms/step - loss: 0.5014 - accuracy: 0.7587 - val_loss: 0.5199 - val_accuracy: 0.7469\n",
      "Epoch 23/50\n",
      "38/38 [==============================] - 0s 2ms/step - loss: 0.5046 - accuracy: 0.7488 - val_loss: 0.5187 - val_accuracy: 0.7494\n",
      "Epoch 24/50\n",
      "38/38 [==============================] - 0s 2ms/step - loss: 0.4935 - accuracy: 0.7579 - val_loss: 0.5287 - val_accuracy: 0.7196\n",
      "Epoch 25/50\n",
      "38/38 [==============================] - 0s 2ms/step - loss: 0.4962 - accuracy: 0.7678 - val_loss: 0.5309 - val_accuracy: 0.7221\n",
      "Epoch 26/50\n",
      "38/38 [==============================] - 0s 2ms/step - loss: 0.4985 - accuracy: 0.7570 - val_loss: 0.5180 - val_accuracy: 0.7543\n",
      "Epoch 27/50\n",
      "38/38 [==============================] - 0s 2ms/step - loss: 0.4935 - accuracy: 0.7562 - val_loss: 0.5208 - val_accuracy: 0.7519\n",
      "Epoch 28/50\n",
      "38/38 [==============================] - 0s 2ms/step - loss: 0.4968 - accuracy: 0.7529 - val_loss: 0.5184 - val_accuracy: 0.7395\n",
      "Epoch 29/50\n",
      "38/38 [==============================] - 0s 2ms/step - loss: 0.4899 - accuracy: 0.7653 - val_loss: 0.5154 - val_accuracy: 0.7494\n",
      "Epoch 30/50\n",
      "38/38 [==============================] - 0s 2ms/step - loss: 0.4892 - accuracy: 0.7628 - val_loss: 0.5165 - val_accuracy: 0.7519\n",
      "Epoch 31/50\n",
      "38/38 [==============================] - 0s 2ms/step - loss: 0.4868 - accuracy: 0.7645 - val_loss: 0.5143 - val_accuracy: 0.7494\n",
      "Epoch 32/50\n",
      "38/38 [==============================] - 0s 2ms/step - loss: 0.4884 - accuracy: 0.7595 - val_loss: 0.5157 - val_accuracy: 0.7568\n",
      "Epoch 33/50\n",
      "38/38 [==============================] - 0s 2ms/step - loss: 0.4938 - accuracy: 0.7620 - val_loss: 0.5157 - val_accuracy: 0.7519\n",
      "Epoch 34/50\n",
      "38/38 [==============================] - 0s 2ms/step - loss: 0.4857 - accuracy: 0.7669 - val_loss: 0.5367 - val_accuracy: 0.7171\n",
      "Epoch 35/50\n",
      "38/38 [==============================] - 0s 2ms/step - loss: 0.4842 - accuracy: 0.7702 - val_loss: 0.5151 - val_accuracy: 0.7270\n",
      "Epoch 36/50\n",
      "38/38 [==============================] - 0s 2ms/step - loss: 0.4935 - accuracy: 0.7579 - val_loss: 0.5111 - val_accuracy: 0.7568\n",
      "Epoch 37/50\n",
      "38/38 [==============================] - 0s 2ms/step - loss: 0.4810 - accuracy: 0.7686 - val_loss: 0.5131 - val_accuracy: 0.7618\n",
      "Epoch 38/50\n",
      "38/38 [==============================] - 0s 2ms/step - loss: 0.4878 - accuracy: 0.7686 - val_loss: 0.5139 - val_accuracy: 0.7494\n",
      "Epoch 39/50\n",
      "38/38 [==============================] - 0s 2ms/step - loss: 0.4897 - accuracy: 0.7702 - val_loss: 0.5141 - val_accuracy: 0.7469\n",
      "Epoch 40/50\n",
      "38/38 [==============================] - 0s 2ms/step - loss: 0.4797 - accuracy: 0.7727 - val_loss: 0.5187 - val_accuracy: 0.7593\n",
      "Epoch 41/50\n",
      "38/38 [==============================] - 0s 2ms/step - loss: 0.4830 - accuracy: 0.7736 - val_loss: 0.5482 - val_accuracy: 0.7047\n",
      "Epoch 42/50\n",
      "38/38 [==============================] - 0s 2ms/step - loss: 0.4838 - accuracy: 0.7719 - val_loss: 0.5091 - val_accuracy: 0.7519\n",
      "Epoch 43/50\n",
      "38/38 [==============================] - 0s 2ms/step - loss: 0.4800 - accuracy: 0.7669 - val_loss: 0.5107 - val_accuracy: 0.7618\n",
      "Epoch 44/50\n",
      "38/38 [==============================] - 0s 2ms/step - loss: 0.4810 - accuracy: 0.7702 - val_loss: 0.5113 - val_accuracy: 0.7469\n",
      "Epoch 45/50\n",
      "38/38 [==============================] - 0s 2ms/step - loss: 0.4856 - accuracy: 0.7628 - val_loss: 0.5249 - val_accuracy: 0.7543\n",
      "Epoch 46/50\n",
      "38/38 [==============================] - 0s 2ms/step - loss: 0.4848 - accuracy: 0.7579 - val_loss: 0.5238 - val_accuracy: 0.7270\n",
      "Epoch 47/50\n",
      "38/38 [==============================] - 0s 2ms/step - loss: 0.4873 - accuracy: 0.7620 - val_loss: 0.5105 - val_accuracy: 0.7444\n",
      "Epoch 48/50\n",
      "38/38 [==============================] - 0s 2ms/step - loss: 0.4745 - accuracy: 0.7793 - val_loss: 0.5073 - val_accuracy: 0.7543\n",
      "Epoch 49/50\n",
      "38/38 [==============================] - 0s 2ms/step - loss: 0.4690 - accuracy: 0.7736 - val_loss: 0.5165 - val_accuracy: 0.7643\n",
      "Epoch 50/50\n",
      "38/38 [==============================] - 0s 2ms/step - loss: 0.4742 - accuracy: 0.7785 - val_loss: 0.5255 - val_accuracy: 0.7246\n",
      "Done!\n"
     ]
    },
    {
     "data": {
      "text/plain": [
       "Text(0, 0.5, 'accuracy')"
      ]
     },
     "execution_count": 55,
     "metadata": {},
     "output_type": "execute_result"
    },
    {
     "data": {
      "image/png": "[encoded data removed]",
      "text/plain": [
       "<Figure size 432x288 with 2 Axes>"
      ]
     },
     "metadata": {
      "needs_background": "light"
     },
     "output_type": "display_data"
    }
   ],
   "source": [
    "hist1 = train(model3, \n",
    "              train=[x_train, y_train], \n",
    "              test=[x_test, y_test], \n",
    "              batch_size=32, \n",
    "              optimizer='adam', \n",
    "              loss_fn='binary_crossentropy', \n",
    "              epochs=50, \n",
    "              description='dense64relu_dense32relu_dense1sigmoid_adam')\n",
    "\n",
    "losses, accs = hist1['val_loss'], hist1['val_accuracy']\n",
    "f, (ax1, ax2) = plt.subplots(2, 1, sharey=False)\n",
    "ax1.plot(np.arange(len(losses)), losses)\n",
    "ax1.set_xlabel('epochs')\n",
    "ax1.set_ylabel('loss')\n",
    "ax2.plot(np.arange(len(accs)), accs)\n",
    "ax2.set_xlabel('epochs')\n",
    "ax2.set_ylabel('accuracy')"
   ]
  },
  {
   "cell_type": "markdown",
   "metadata": {},
   "source": [
    "### Experimento 7\n",
    "\n",
    "**Hipotesis:** La arquitectura de unicamente 2 capas ocultas, 1 capa con 64 neuronas, la segunda compuesta por 32 neuronas, ambas activadas por la funcion relu proveeran una exactitud superior al 70% tras entrenar durante 50 epochs, con un batch size de 128 observaciones, utilizando el optimizador adam y la funcion de costo binary crossentropy."
   ]
  },
  {
   "cell_type": "code",
   "execution_count": 56,
   "metadata": {},
   "outputs": [
    {
     "name": "stdout",
     "output_type": "stream",
     "text": [
      "Epoch 1/50\n",
      "10/10 [==============================] - 1s 20ms/step - loss: 0.4719 - accuracy: 0.7826 - val_loss: 0.5217 - val_accuracy: 0.7295\n",
      "Epoch 2/50\n",
      "10/10 [==============================] - 0s 4ms/step - loss: 0.4703 - accuracy: 0.7777 - val_loss: 0.5078 - val_accuracy: 0.7519\n",
      "Epoch 3/50\n",
      "10/10 [==============================] - 0s 4ms/step - loss: 0.4642 - accuracy: 0.7884 - val_loss: 0.5084 - val_accuracy: 0.7519\n",
      "Epoch 4/50\n",
      "10/10 [==============================] - 0s 4ms/step - loss: 0.4637 - accuracy: 0.7785 - val_loss: 0.5130 - val_accuracy: 0.7444\n",
      "Epoch 5/50\n",
      "10/10 [==============================] - 0s 4ms/step - loss: 0.4651 - accuracy: 0.7694 - val_loss: 0.5159 - val_accuracy: 0.7444\n",
      "Epoch 6/50\n",
      "10/10 [==============================] - 0s 4ms/step - loss: 0.4653 - accuracy: 0.7818 - val_loss: 0.5084 - val_accuracy: 0.7469\n",
      "Epoch 7/50\n",
      "10/10 [==============================] - 0s 4ms/step - loss: 0.4623 - accuracy: 0.7860 - val_loss: 0.5090 - val_accuracy: 0.7469\n",
      "Epoch 8/50\n",
      "10/10 [==============================] - 0s 4ms/step - loss: 0.4618 - accuracy: 0.7826 - val_loss: 0.5083 - val_accuracy: 0.7469\n",
      "Epoch 9/50\n",
      "10/10 [==============================] - 0s 4ms/step - loss: 0.4617 - accuracy: 0.7785 - val_loss: 0.5135 - val_accuracy: 0.7519\n",
      "Epoch 10/50\n",
      "10/10 [==============================] - 0s 4ms/step - loss: 0.4598 - accuracy: 0.7818 - val_loss: 0.5099 - val_accuracy: 0.7469\n",
      "Epoch 11/50\n",
      "10/10 [==============================] - 0s 4ms/step - loss: 0.4601 - accuracy: 0.7826 - val_loss: 0.5073 - val_accuracy: 0.7419\n",
      "Epoch 12/50\n",
      "10/10 [==============================] - 0s 4ms/step - loss: 0.4594 - accuracy: 0.7785 - val_loss: 0.5149 - val_accuracy: 0.7444\n",
      "Epoch 13/50\n",
      "10/10 [==============================] - 0s 4ms/step - loss: 0.4590 - accuracy: 0.7818 - val_loss: 0.5098 - val_accuracy: 0.7444\n",
      "Epoch 14/50\n",
      "10/10 [==============================] - 0s 4ms/step - loss: 0.4589 - accuracy: 0.7802 - val_loss: 0.5187 - val_accuracy: 0.7370\n",
      "Epoch 15/50\n",
      "10/10 [==============================] - 0s 4ms/step - loss: 0.4604 - accuracy: 0.7860 - val_loss: 0.5072 - val_accuracy: 0.7469\n",
      "Epoch 16/50\n",
      "10/10 [==============================] - 0s 4ms/step - loss: 0.4638 - accuracy: 0.7785 - val_loss: 0.5097 - val_accuracy: 0.7444\n",
      "Epoch 17/50\n",
      "10/10 [==============================] - 0s 4ms/step - loss: 0.4602 - accuracy: 0.7760 - val_loss: 0.5349 - val_accuracy: 0.7221\n",
      "Epoch 18/50\n",
      "10/10 [==============================] - 0s 4ms/step - loss: 0.4623 - accuracy: 0.7835 - val_loss: 0.5071 - val_accuracy: 0.7519\n",
      "Epoch 19/50\n",
      "10/10 [==============================] - 0s 4ms/step - loss: 0.4580 - accuracy: 0.7893 - val_loss: 0.5078 - val_accuracy: 0.7469\n",
      "Epoch 20/50\n",
      "10/10 [==============================] - 0s 4ms/step - loss: 0.4619 - accuracy: 0.7752 - val_loss: 0.5163 - val_accuracy: 0.7395\n",
      "Epoch 21/50\n",
      "10/10 [==============================] - 0s 4ms/step - loss: 0.4564 - accuracy: 0.7868 - val_loss: 0.5086 - val_accuracy: 0.7419\n",
      "Epoch 22/50\n",
      "10/10 [==============================] - 0s 4ms/step - loss: 0.4559 - accuracy: 0.7868 - val_loss: 0.5094 - val_accuracy: 0.7320\n",
      "Epoch 23/50\n",
      "10/10 [==============================] - 0s 4ms/step - loss: 0.4531 - accuracy: 0.7777 - val_loss: 0.5215 - val_accuracy: 0.7345\n",
      "Epoch 24/50\n",
      "10/10 [==============================] - 0s 5ms/step - loss: 0.4575 - accuracy: 0.7818 - val_loss: 0.5116 - val_accuracy: 0.7568\n",
      "Epoch 25/50\n",
      "10/10 [==============================] - 0s 5ms/step - loss: 0.4558 - accuracy: 0.7926 - val_loss: 0.5179 - val_accuracy: 0.7370\n",
      "Epoch 26/50\n",
      "10/10 [==============================] - 0s 4ms/step - loss: 0.4531 - accuracy: 0.7884 - val_loss: 0.5087 - val_accuracy: 0.7395\n",
      "Epoch 27/50\n",
      "10/10 [==============================] - 0s 3ms/step - loss: 0.4518 - accuracy: 0.7868 - val_loss: 0.5175 - val_accuracy: 0.7395\n",
      "Epoch 28/50\n",
      "10/10 [==============================] - 0s 4ms/step - loss: 0.4505 - accuracy: 0.7926 - val_loss: 0.5100 - val_accuracy: 0.7519\n",
      "Epoch 29/50\n",
      "10/10 [==============================] - 0s 4ms/step - loss: 0.4541 - accuracy: 0.7876 - val_loss: 0.5146 - val_accuracy: 0.7469\n",
      "Epoch 30/50\n",
      "10/10 [==============================] - 0s 4ms/step - loss: 0.4507 - accuracy: 0.7851 - val_loss: 0.5103 - val_accuracy: 0.7494\n",
      "Epoch 31/50\n",
      "10/10 [==============================] - 0s 4ms/step - loss: 0.4508 - accuracy: 0.7860 - val_loss: 0.5147 - val_accuracy: 0.7370\n",
      "Epoch 32/50\n",
      "10/10 [==============================] - 0s 4ms/step - loss: 0.4512 - accuracy: 0.7868 - val_loss: 0.5118 - val_accuracy: 0.7370\n",
      "Epoch 33/50\n",
      "10/10 [==============================] - 0s 4ms/step - loss: 0.4547 - accuracy: 0.7884 - val_loss: 0.5084 - val_accuracy: 0.7395\n",
      "Epoch 34/50\n",
      "10/10 [==============================] - 0s 4ms/step - loss: 0.4517 - accuracy: 0.7826 - val_loss: 0.5101 - val_accuracy: 0.7444\n",
      "Epoch 35/50\n",
      "10/10 [==============================] - 0s 4ms/step - loss: 0.4496 - accuracy: 0.7884 - val_loss: 0.5137 - val_accuracy: 0.7469\n",
      "Epoch 36/50\n",
      "10/10 [==============================] - 0s 4ms/step - loss: 0.4484 - accuracy: 0.7868 - val_loss: 0.5116 - val_accuracy: 0.7395\n",
      "Epoch 37/50\n",
      "10/10 [==============================] - 0s 4ms/step - loss: 0.4490 - accuracy: 0.7851 - val_loss: 0.5126 - val_accuracy: 0.7395\n",
      "Epoch 38/50\n",
      "10/10 [==============================] - 0s 4ms/step - loss: 0.4480 - accuracy: 0.7893 - val_loss: 0.5137 - val_accuracy: 0.7395\n",
      "Epoch 39/50\n",
      "10/10 [==============================] - 0s 4ms/step - loss: 0.4477 - accuracy: 0.7893 - val_loss: 0.5086 - val_accuracy: 0.7469\n",
      "Epoch 40/50\n",
      "10/10 [==============================] - 0s 4ms/step - loss: 0.4482 - accuracy: 0.7926 - val_loss: 0.5102 - val_accuracy: 0.7469\n",
      "Epoch 41/50\n",
      "10/10 [==============================] - 0s 4ms/step - loss: 0.4501 - accuracy: 0.7909 - val_loss: 0.5287 - val_accuracy: 0.7295\n",
      "Epoch 42/50\n",
      "10/10 [==============================] - 0s 4ms/step - loss: 0.4513 - accuracy: 0.7868 - val_loss: 0.5099 - val_accuracy: 0.7345\n",
      "Epoch 43/50\n",
      "10/10 [==============================] - 0s 4ms/step - loss: 0.4455 - accuracy: 0.7917 - val_loss: 0.5297 - val_accuracy: 0.7295\n",
      "Epoch 44/50\n",
      "10/10 [==============================] - 0s 4ms/step - loss: 0.4516 - accuracy: 0.7884 - val_loss: 0.5107 - val_accuracy: 0.7395\n",
      "Epoch 45/50\n",
      "10/10 [==============================] - 0s 3ms/step - loss: 0.4450 - accuracy: 0.7909 - val_loss: 0.5125 - val_accuracy: 0.7469\n",
      "Epoch 46/50\n",
      "10/10 [==============================] - 0s 4ms/step - loss: 0.4464 - accuracy: 0.7884 - val_loss: 0.5103 - val_accuracy: 0.7419\n",
      "Epoch 47/50\n",
      "10/10 [==============================] - 0s 4ms/step - loss: 0.4450 - accuracy: 0.7934 - val_loss: 0.5169 - val_accuracy: 0.7419\n",
      "Epoch 48/50\n",
      "10/10 [==============================] - 0s 4ms/step - loss: 0.4469 - accuracy: 0.7917 - val_loss: 0.5202 - val_accuracy: 0.7395\n",
      "Epoch 49/50\n",
      "10/10 [==============================] - 0s 4ms/step - loss: 0.4502 - accuracy: 0.7950 - val_loss: 0.5110 - val_accuracy: 0.7395\n",
      "Epoch 50/50\n",
      "10/10 [==============================] - 0s 4ms/step - loss: 0.4470 - accuracy: 0.7909 - val_loss: 0.5099 - val_accuracy: 0.7395\n",
      "Done!\n"
     ]
    },
    {
     "data": {
      "text/plain": [
       "Text(0, 0.5, 'accuracy')"
      ]
     },
     "execution_count": 56,
     "metadata": {},
     "output_type": "execute_result"
    },
    {
     "data": {
      "image/png": "[encoded data removed]",
      "text/plain": [
       "<Figure size 432x288 with 2 Axes>"
      ]
     },
     "metadata": {
      "needs_background": "light"
     },
     "output_type": "display_data"
    }
   ],
   "source": [
    "hist1 = train(model3, \n",
    "              train=[x_train, y_train], \n",
    "              test=[x_test, y_test], \n",
    "              batch_size=128, \n",
    "              optimizer='adam', \n",
    "              loss_fn='binary_crossentropy', \n",
    "              epochs=50, \n",
    "              description='dense64relu_dense32relu_dense1sigmoid_adam')\n",
    "\n",
    "losses, accs = hist1['val_loss'], hist1['val_accuracy']\n",
    "f, (ax1, ax2) = plt.subplots(2, 1, sharey=False)\n",
    "ax1.plot(np.arange(len(losses)), losses)\n",
    "ax1.set_xlabel('epochs')\n",
    "ax1.set_ylabel('loss')\n",
    "ax2.plot(np.arange(len(accs)), accs)\n",
    "ax2.set_xlabel('epochs')\n",
    "ax2.set_ylabel('accuracy')"
   ]
  },
  {
   "cell_type": "markdown",
   "metadata": {},
   "source": [
    "### Experimento 8\n",
    "\n",
    "**Hipotesis:** La arquitectura de unicamente 2 capas ocultas, 1 capa con 64 neuronas, la segunda compuesta por 32 neuronas, ambas activadas por la funcion relu proveeran una exactitud superior al 70% tras entrenar durante 50 epochs, con un batch size de 256 observaciones, utilizando el optimizador adam y la funcion de costo binary crossentropy."
   ]
  },
  {
   "cell_type": "code",
   "execution_count": 57,
   "metadata": {},
   "outputs": [
    {
     "name": "stdout",
     "output_type": "stream",
     "text": [
      "Epoch 1/50\n",
      "5/5 [==============================] - 1s 41ms/step - loss: 0.4508 - accuracy: 0.7917 - val_loss: 0.5154 - val_accuracy: 0.7419\n",
      "Epoch 2/50\n",
      "5/5 [==============================] - 0s 7ms/step - loss: 0.4475 - accuracy: 0.7926 - val_loss: 0.5096 - val_accuracy: 0.7444\n",
      "Epoch 3/50\n",
      "5/5 [==============================] - 0s 7ms/step - loss: 0.4429 - accuracy: 0.7967 - val_loss: 0.5141 - val_accuracy: 0.7494\n",
      "Epoch 4/50\n",
      "5/5 [==============================] - 0s 7ms/step - loss: 0.4429 - accuracy: 0.7917 - val_loss: 0.5097 - val_accuracy: 0.7444\n",
      "Epoch 5/50\n",
      "5/5 [==============================] - 0s 7ms/step - loss: 0.4412 - accuracy: 0.7934 - val_loss: 0.5135 - val_accuracy: 0.7519\n",
      "Epoch 6/50\n",
      "5/5 [==============================] - 0s 7ms/step - loss: 0.4420 - accuracy: 0.7950 - val_loss: 0.5101 - val_accuracy: 0.7419\n",
      "Epoch 7/50\n",
      "5/5 [==============================] - 0s 7ms/step - loss: 0.4424 - accuracy: 0.7934 - val_loss: 0.5143 - val_accuracy: 0.7494\n",
      "Epoch 8/50\n",
      "5/5 [==============================] - 0s 9ms/step - loss: 0.4425 - accuracy: 0.7926 - val_loss: 0.5100 - val_accuracy: 0.7419\n",
      "Epoch 9/50\n",
      "5/5 [==============================] - 0s 9ms/step - loss: 0.4413 - accuracy: 0.7926 - val_loss: 0.5127 - val_accuracy: 0.7494\n",
      "Epoch 10/50\n",
      "5/5 [==============================] - 0s 9ms/step - loss: 0.4394 - accuracy: 0.7967 - val_loss: 0.5086 - val_accuracy: 0.7419\n",
      "Epoch 11/50\n",
      "5/5 [==============================] - 0s 8ms/step - loss: 0.4425 - accuracy: 0.7992 - val_loss: 0.5127 - val_accuracy: 0.7519\n",
      "Epoch 12/50\n",
      "5/5 [==============================] - 0s 8ms/step - loss: 0.4405 - accuracy: 0.7967 - val_loss: 0.5117 - val_accuracy: 0.7494\n",
      "Epoch 13/50\n",
      "5/5 [==============================] - 0s 7ms/step - loss: 0.4390 - accuracy: 0.7942 - val_loss: 0.5099 - val_accuracy: 0.7444\n",
      "Epoch 14/50\n",
      "5/5 [==============================] - 0s 6ms/step - loss: 0.4398 - accuracy: 0.7934 - val_loss: 0.5111 - val_accuracy: 0.7469\n",
      "Epoch 15/50\n",
      "5/5 [==============================] - 0s 6ms/step - loss: 0.4394 - accuracy: 0.7975 - val_loss: 0.5120 - val_accuracy: 0.7444\n",
      "Epoch 16/50\n",
      "5/5 [==============================] - 0s 7ms/step - loss: 0.4410 - accuracy: 0.7967 - val_loss: 0.5124 - val_accuracy: 0.7469\n",
      "Epoch 17/50\n",
      "5/5 [==============================] - 0s 8ms/step - loss: 0.4412 - accuracy: 0.7975 - val_loss: 0.5105 - val_accuracy: 0.7469\n",
      "Epoch 18/50\n",
      "5/5 [==============================] - 0s 14ms/step - loss: 0.4379 - accuracy: 0.7942 - val_loss: 0.5165 - val_accuracy: 0.7444\n",
      "Epoch 19/50\n",
      "5/5 [==============================] - 0s 8ms/step - loss: 0.4382 - accuracy: 0.7942 - val_loss: 0.5097 - val_accuracy: 0.7419\n",
      "Epoch 20/50\n",
      "5/5 [==============================] - 0s 8ms/step - loss: 0.4382 - accuracy: 0.7975 - val_loss: 0.5166 - val_accuracy: 0.7444\n",
      "Epoch 21/50\n",
      "5/5 [==============================] - 0s 7ms/step - loss: 0.4391 - accuracy: 0.7942 - val_loss: 0.5107 - val_accuracy: 0.7419\n",
      "Epoch 22/50\n",
      "5/5 [==============================] - 0s 7ms/step - loss: 0.4403 - accuracy: 0.7975 - val_loss: 0.5125 - val_accuracy: 0.7494\n",
      "Epoch 23/50\n",
      "5/5 [==============================] - 0s 7ms/step - loss: 0.4404 - accuracy: 0.7975 - val_loss: 0.5110 - val_accuracy: 0.7469\n",
      "Epoch 24/50\n",
      "5/5 [==============================] - 0s 7ms/step - loss: 0.4379 - accuracy: 0.7967 - val_loss: 0.5105 - val_accuracy: 0.7444\n",
      "Epoch 25/50\n",
      "5/5 [==============================] - 0s 7ms/step - loss: 0.4381 - accuracy: 0.7959 - val_loss: 0.5169 - val_accuracy: 0.7444\n",
      "Epoch 26/50\n",
      "5/5 [==============================] - 0s 6ms/step - loss: 0.4389 - accuracy: 0.7884 - val_loss: 0.5091 - val_accuracy: 0.7395\n",
      "Epoch 27/50\n",
      "5/5 [==============================] - 0s 7ms/step - loss: 0.4369 - accuracy: 0.7975 - val_loss: 0.5180 - val_accuracy: 0.7444\n",
      "Epoch 28/50\n",
      "5/5 [==============================] - 0s 7ms/step - loss: 0.4381 - accuracy: 0.7959 - val_loss: 0.5095 - val_accuracy: 0.7444\n",
      "Epoch 29/50\n",
      "5/5 [==============================] - 0s 7ms/step - loss: 0.4367 - accuracy: 0.7975 - val_loss: 0.5152 - val_accuracy: 0.7494\n",
      "Epoch 30/50\n",
      "5/5 [==============================] - 0s 7ms/step - loss: 0.4363 - accuracy: 0.8008 - val_loss: 0.5114 - val_accuracy: 0.7444\n",
      "Epoch 31/50\n",
      "5/5 [==============================] - 0s 8ms/step - loss: 0.4387 - accuracy: 0.7983 - val_loss: 0.5159 - val_accuracy: 0.7469\n",
      "Epoch 32/50\n",
      "5/5 [==============================] - 0s 6ms/step - loss: 0.4368 - accuracy: 0.7967 - val_loss: 0.5116 - val_accuracy: 0.7494\n",
      "Epoch 33/50\n",
      "5/5 [==============================] - 0s 6ms/step - loss: 0.4362 - accuracy: 0.8066 - val_loss: 0.5111 - val_accuracy: 0.7494\n",
      "Epoch 34/50\n",
      "5/5 [==============================] - 0s 7ms/step - loss: 0.4363 - accuracy: 0.7975 - val_loss: 0.5133 - val_accuracy: 0.7543\n",
      "Epoch 35/50\n",
      "5/5 [==============================] - 0s 7ms/step - loss: 0.4375 - accuracy: 0.8000 - val_loss: 0.5114 - val_accuracy: 0.7469\n",
      "Epoch 36/50\n",
      "5/5 [==============================] - 0s 7ms/step - loss: 0.4380 - accuracy: 0.7959 - val_loss: 0.5150 - val_accuracy: 0.7494\n",
      "Epoch 37/50\n",
      "5/5 [==============================] - 0s 7ms/step - loss: 0.4402 - accuracy: 0.7893 - val_loss: 0.5112 - val_accuracy: 0.7419\n",
      "Epoch 38/50\n",
      "5/5 [==============================] - 0s 7ms/step - loss: 0.4466 - accuracy: 0.7860 - val_loss: 0.5176 - val_accuracy: 0.7469\n",
      "Epoch 39/50\n",
      "5/5 [==============================] - 0s 7ms/step - loss: 0.4370 - accuracy: 0.7959 - val_loss: 0.5094 - val_accuracy: 0.7370\n",
      "Epoch 40/50\n",
      "5/5 [==============================] - 0s 7ms/step - loss: 0.4355 - accuracy: 0.8008 - val_loss: 0.5183 - val_accuracy: 0.7444\n",
      "Epoch 41/50\n",
      "5/5 [==============================] - 0s 7ms/step - loss: 0.4343 - accuracy: 0.8033 - val_loss: 0.5105 - val_accuracy: 0.7419\n",
      "Epoch 42/50\n",
      "5/5 [==============================] - 0s 7ms/step - loss: 0.4342 - accuracy: 0.8017 - val_loss: 0.5148 - val_accuracy: 0.7469\n",
      "Epoch 43/50\n",
      "5/5 [==============================] - 0s 7ms/step - loss: 0.4332 - accuracy: 0.8025 - val_loss: 0.5112 - val_accuracy: 0.7444\n",
      "Epoch 44/50\n",
      "5/5 [==============================] - 0s 7ms/step - loss: 0.4333 - accuracy: 0.8033 - val_loss: 0.5136 - val_accuracy: 0.7469\n",
      "Epoch 45/50\n",
      "5/5 [==============================] - 0s 7ms/step - loss: 0.4322 - accuracy: 0.8033 - val_loss: 0.5116 - val_accuracy: 0.7469\n",
      "Epoch 46/50\n",
      "5/5 [==============================] - 0s 7ms/step - loss: 0.4326 - accuracy: 0.8033 - val_loss: 0.5139 - val_accuracy: 0.7444\n",
      "Epoch 47/50\n",
      "5/5 [==============================] - 0s 8ms/step - loss: 0.4319 - accuracy: 0.8033 - val_loss: 0.5146 - val_accuracy: 0.7469\n",
      "Epoch 48/50\n",
      "5/5 [==============================] - 0s 6ms/step - loss: 0.4330 - accuracy: 0.8025 - val_loss: 0.5125 - val_accuracy: 0.7494\n",
      "Epoch 49/50\n",
      "5/5 [==============================] - 0s 6ms/step - loss: 0.4327 - accuracy: 0.8017 - val_loss: 0.5133 - val_accuracy: 0.7494\n",
      "Epoch 50/50\n",
      "5/5 [==============================] - 0s 6ms/step - loss: 0.4324 - accuracy: 0.7992 - val_loss: 0.5107 - val_accuracy: 0.7494\n",
      "Done!\n"
     ]
    },
    {
     "data": {
      "text/plain": [
       "Text(0, 0.5, 'accuracy')"
      ]
     },
     "execution_count": 57,
     "metadata": {},
     "output_type": "execute_result"
    },
    {
     "data": {
      "image/png": "[encoded data removed]",
      "text/plain": [
       "<Figure size 432x288 with 2 Axes>"
      ]
     },
     "metadata": {
      "needs_background": "light"
     },
     "output_type": "display_data"
    }
   ],
   "source": [
    "hist1 = train(model3, \n",
    "              train=[x_train, y_train], \n",
    "              test=[x_test, y_test], \n",
    "              batch_size=256, \n",
    "              optimizer='adam', \n",
    "              loss_fn='binary_crossentropy', \n",
    "              epochs=50, \n",
    "              description='dense64relu_dense32relu_dense1sigmoid_adam')\n",
    "\n",
    "losses, accs = hist1['val_loss'], hist1['val_accuracy']\n",
    "f, (ax1, ax2) = plt.subplots(2, 1, sharey=False)\n",
    "ax1.plot(np.arange(len(losses)), losses)\n",
    "ax1.set_xlabel('epochs')\n",
    "ax1.set_ylabel('loss')\n",
    "ax2.plot(np.arange(len(accs)), accs)\n",
    "ax2.set_xlabel('epochs')\n",
    "ax2.set_ylabel('accuracy')"
   ]
  },
  {
   "cell_type": "markdown",
   "metadata": {},
   "source": [
    "### Arquitectura 4"
   ]
  },
  {
   "cell_type": "code",
   "execution_count": 155,
   "metadata": {},
   "outputs": [
    {
     "name": "stdout",
     "output_type": "stream",
     "text": [
      "Model: \"sequential_49\"\n",
      "_________________________________________________________________\n",
      "Layer (type)                 Output Shape              Param #   \n",
      "=================================================================\n",
      "dense_207 (Dense)            (None, 128)               1664      \n",
      "_________________________________________________________________\n",
      "batch_normalization_19 (Batc (None, 128)               512       \n",
      "_________________________________________________________________\n",
      "dense_208 (Dense)            (None, 64)                8256      \n",
      "_________________________________________________________________\n",
      "batch_normalization_20 (Batc (None, 64)                256       \n",
      "_________________________________________________________________\n",
      "dense_209 (Dense)            (None, 32)                2080      \n",
      "_________________________________________________________________\n",
      "dropout_19 (Dropout)         (None, 32)                0         \n",
      "_________________________________________________________________\n",
      "dense_210 (Dense)            (None, 1)                 33        \n",
      "=================================================================\n",
      "Total params: 12,801\n",
      "Trainable params: 12,417\n",
      "Non-trainable params: 384\n",
      "_________________________________________________________________\n"
     ]
    }
   ],
   "source": [
    "init = tf.keras.initializers.GlorotNormal(seed=None)\n",
    "model4 = Sequential()\n",
    "model4.add(Dense(128, input_dim=12, activation='relu', kernel_initializer=init))\n",
    "model4.add(BatchNormalization())\n",
    "model4.add(Dense(64, activation='relu', kernel_initializer=init))\n",
    "model4.add(BatchNormalization())\n",
    "model4.add(Dense(32, activation='relu', kernel_initializer=init))\n",
    "model4.add(Dropout(0.1))\n",
    "model4.add(Dense(1, activation='sigmoid'))\n",
    "model4.summary()"
   ]
  },
  {
   "cell_type": "markdown",
   "metadata": {},
   "source": [
    "### Experimento 9\n",
    "\n",
    "**Hipotesis:** La arquitectura descrita a continuacion tras entrenar durante 175 epochs, con un batch size de 1000 observaciones, utilizando el optimizador adamax y la funcion de costo binary crossentropy proveeran una exactitud superior al 80% .\n",
    "* 3 capas ocultas, 1 capa con 128 neuronas, la segunda compuesta por 64 neuronas y 32 neuronas en la tercera, ambas activadas por la funcion relu .\n",
    "* 2 capas de normalizacion del output continuas a las salidas de las capas densas\n",
    "* 1 capa de dropout para castigar el sobre ajuste al desactivar el 10% de las salidas de la ultima capa oculta"
   ]
  },
  {
   "cell_type": "code",
   "execution_count": 165,
   "metadata": {},
   "outputs": [
    {
     "name": "stdout",
     "output_type": "stream",
     "text": [
      "Epoch 1/175\n",
      "2/2 [==============================] - 1s 255ms/step - loss: 0.1702 - accuracy: 0.9355 - val_loss: 1.0162 - val_accuracy: 0.7976\n",
      "Epoch 2/175\n",
      "2/2 [==============================] - 0s 31ms/step - loss: 0.2552 - accuracy: 0.9077 - val_loss: 0.9211 - val_accuracy: 0.8155\n",
      "Epoch 3/175\n",
      "2/2 [==============================] - 0s 27ms/step - loss: 0.1713 - accuracy: 0.9365 - val_loss: 0.8813 - val_accuracy: 0.8135\n",
      "Epoch 4/175\n",
      "2/2 [==============================] - 0s 31ms/step - loss: 0.1657 - accuracy: 0.9355 - val_loss: 0.8511 - val_accuracy: 0.8135\n",
      "Epoch 5/175\n",
      "2/2 [==============================] - 0s 28ms/step - loss: 0.1990 - accuracy: 0.9236 - val_loss: 0.8238 - val_accuracy: 0.8234\n",
      "Epoch 6/175\n",
      "2/2 [==============================] - 0s 25ms/step - loss: 0.1981 - accuracy: 0.9177 - val_loss: 0.8432 - val_accuracy: 0.8234\n",
      "Epoch 7/175\n",
      "2/2 [==============================] - 0s 46ms/step - loss: 0.1973 - accuracy: 0.9147 - val_loss: 0.8761 - val_accuracy: 0.8214\n",
      "Epoch 8/175\n",
      "2/2 [==============================] - 0s 25ms/step - loss: 0.1657 - accuracy: 0.9345 - val_loss: 0.9116 - val_accuracy: 0.8095\n",
      "Epoch 9/175\n",
      "2/2 [==============================] - 0s 25ms/step - loss: 0.1780 - accuracy: 0.9246 - val_loss: 0.9775 - val_accuracy: 0.7857\n",
      "Epoch 10/175\n",
      "2/2 [==============================] - 0s 36ms/step - loss: 0.1673 - accuracy: 0.9325 - val_loss: 1.0533 - val_accuracy: 0.7837\n",
      "Epoch 11/175\n",
      "2/2 [==============================] - 0s 28ms/step - loss: 0.1890 - accuracy: 0.9266 - val_loss: 1.1273 - val_accuracy: 0.7579\n",
      "Epoch 12/175\n",
      "2/2 [==============================] - 0s 27ms/step - loss: 0.2056 - accuracy: 0.9206 - val_loss: 1.1868 - val_accuracy: 0.7480\n",
      "Epoch 13/175\n",
      "2/2 [==============================] - 0s 42ms/step - loss: 0.2069 - accuracy: 0.9147 - val_loss: 1.2001 - val_accuracy: 0.7460\n",
      "Epoch 14/175\n",
      "2/2 [==============================] - 0s 23ms/step - loss: 0.2365 - accuracy: 0.9048 - val_loss: 1.1841 - val_accuracy: 0.7540\n",
      "Epoch 15/175\n",
      "2/2 [==============================] - 0s 23ms/step - loss: 0.2321 - accuracy: 0.9107 - val_loss: 1.1644 - val_accuracy: 0.7599\n",
      "Epoch 16/175\n",
      "2/2 [==============================] - 0s 23ms/step - loss: 0.2346 - accuracy: 0.9087 - val_loss: 1.1024 - val_accuracy: 0.7659\n",
      "Epoch 17/175\n",
      "2/2 [==============================] - 0s 26ms/step - loss: 0.2122 - accuracy: 0.9107 - val_loss: 1.0310 - val_accuracy: 0.7619\n",
      "Epoch 18/175\n",
      "2/2 [==============================] - 0s 25ms/step - loss: 0.2170 - accuracy: 0.9107 - val_loss: 0.9848 - val_accuracy: 0.7619\n",
      "Epoch 19/175\n",
      "2/2 [==============================] - 0s 28ms/step - loss: 0.2055 - accuracy: 0.9117 - val_loss: 0.9442 - val_accuracy: 0.7718\n",
      "Epoch 20/175\n",
      "2/2 [==============================] - 0s 31ms/step - loss: 0.2046 - accuracy: 0.9117 - val_loss: 0.9123 - val_accuracy: 0.7758\n",
      "Epoch 21/175\n",
      "2/2 [==============================] - 0s 30ms/step - loss: 0.1902 - accuracy: 0.9236 - val_loss: 0.8865 - val_accuracy: 0.7837\n",
      "Epoch 22/175\n",
      "2/2 [==============================] - 0s 30ms/step - loss: 0.1814 - accuracy: 0.9167 - val_loss: 0.8715 - val_accuracy: 0.7917\n",
      "Epoch 23/175\n",
      "2/2 [==============================] - 0s 35ms/step - loss: 0.1979 - accuracy: 0.9206 - val_loss: 0.8757 - val_accuracy: 0.7976\n",
      "Epoch 24/175\n",
      "2/2 [==============================] - 0s 31ms/step - loss: 0.2021 - accuracy: 0.9196 - val_loss: 0.8904 - val_accuracy: 0.7976\n",
      "Epoch 25/175\n",
      "2/2 [==============================] - 0s 30ms/step - loss: 0.1972 - accuracy: 0.9196 - val_loss: 0.8926 - val_accuracy: 0.7976\n",
      "Epoch 26/175\n",
      "2/2 [==============================] - 0s 28ms/step - loss: 0.2271 - accuracy: 0.9067 - val_loss: 0.9020 - val_accuracy: 0.7857\n",
      "Epoch 27/175\n",
      "2/2 [==============================] - 0s 27ms/step - loss: 0.2336 - accuracy: 0.8998 - val_loss: 0.9092 - val_accuracy: 0.7917\n",
      "Epoch 28/175\n",
      "2/2 [==============================] - 0s 28ms/step - loss: 0.2356 - accuracy: 0.9077 - val_loss: 0.9170 - val_accuracy: 0.7897\n",
      "Epoch 29/175\n",
      "2/2 [==============================] - 0s 26ms/step - loss: 0.2345 - accuracy: 0.9087 - val_loss: 0.9264 - val_accuracy: 0.7897\n",
      "Epoch 30/175\n",
      "2/2 [==============================] - 0s 25ms/step - loss: 0.2075 - accuracy: 0.9167 - val_loss: 0.9252 - val_accuracy: 0.7917\n",
      "Epoch 31/175\n",
      "2/2 [==============================] - 0s 24ms/step - loss: 0.2124 - accuracy: 0.9127 - val_loss: 0.9284 - val_accuracy: 0.7897\n",
      "Epoch 32/175\n",
      "2/2 [==============================] - 0s 24ms/step - loss: 0.2323 - accuracy: 0.9117 - val_loss: 0.9311 - val_accuracy: 0.7917\n",
      "Epoch 33/175\n",
      "2/2 [==============================] - 0s 24ms/step - loss: 0.2019 - accuracy: 0.9256 - val_loss: 0.9312 - val_accuracy: 0.7897\n",
      "Epoch 34/175\n",
      "2/2 [==============================] - 0s 25ms/step - loss: 0.2317 - accuracy: 0.9058 - val_loss: 0.9171 - val_accuracy: 0.7837\n",
      "Epoch 35/175\n",
      "2/2 [==============================] - 0s 24ms/step - loss: 0.2094 - accuracy: 0.9236 - val_loss: 0.9114 - val_accuracy: 0.7937\n",
      "Epoch 36/175\n",
      "2/2 [==============================] - 0s 29ms/step - loss: 0.2041 - accuracy: 0.9196 - val_loss: 0.9061 - val_accuracy: 0.7956\n",
      "Epoch 37/175\n",
      "2/2 [==============================] - 0s 37ms/step - loss: 0.1904 - accuracy: 0.9236 - val_loss: 0.9018 - val_accuracy: 0.7976\n",
      "Epoch 38/175\n",
      "2/2 [==============================] - 0s 30ms/step - loss: 0.1805 - accuracy: 0.9276 - val_loss: 0.8953 - val_accuracy: 0.7976\n",
      "Epoch 39/175\n",
      "2/2 [==============================] - 0s 30ms/step - loss: 0.1753 - accuracy: 0.9286 - val_loss: 0.8801 - val_accuracy: 0.7976\n",
      "Epoch 40/175\n",
      "2/2 [==============================] - 0s 27ms/step - loss: 0.1657 - accuracy: 0.9256 - val_loss: 0.8660 - val_accuracy: 0.8056\n",
      "Epoch 41/175\n",
      "2/2 [==============================] - 0s 25ms/step - loss: 0.1844 - accuracy: 0.9276 - val_loss: 0.8528 - val_accuracy: 0.8075\n",
      "Epoch 42/175\n",
      "2/2 [==============================] - 0s 32ms/step - loss: 0.1774 - accuracy: 0.9266 - val_loss: 0.8372 - val_accuracy: 0.8056\n",
      "Epoch 43/175\n",
      "2/2 [==============================] - 0s 24ms/step - loss: 0.1986 - accuracy: 0.9196 - val_loss: 0.8315 - val_accuracy: 0.8075\n",
      "Epoch 44/175\n",
      "2/2 [==============================] - 0s 25ms/step - loss: 0.1744 - accuracy: 0.9315 - val_loss: 0.8385 - val_accuracy: 0.8155\n",
      "Epoch 45/175\n",
      "2/2 [==============================] - 0s 25ms/step - loss: 0.1996 - accuracy: 0.9177 - val_loss: 0.8501 - val_accuracy: 0.8135\n",
      "Epoch 46/175\n",
      "2/2 [==============================] - 0s 23ms/step - loss: 0.2139 - accuracy: 0.9107 - val_loss: 0.8647 - val_accuracy: 0.8056\n",
      "Epoch 47/175\n",
      "2/2 [==============================] - 0s 23ms/step - loss: 0.2148 - accuracy: 0.9167 - val_loss: 0.8763 - val_accuracy: 0.8115\n",
      "Epoch 48/175\n",
      "2/2 [==============================] - 0s 24ms/step - loss: 0.2411 - accuracy: 0.9097 - val_loss: 0.8874 - val_accuracy: 0.8095\n",
      "Epoch 49/175\n",
      "2/2 [==============================] - 0s 25ms/step - loss: 0.2184 - accuracy: 0.8998 - val_loss: 0.9002 - val_accuracy: 0.8036\n",
      "Epoch 50/175\n",
      "2/2 [==============================] - 0s 25ms/step - loss: 0.2650 - accuracy: 0.8978 - val_loss: 0.8978 - val_accuracy: 0.8016\n",
      "Epoch 51/175\n",
      "2/2 [==============================] - 0s 67ms/step - loss: 0.2574 - accuracy: 0.8948 - val_loss: 0.8878 - val_accuracy: 0.8075\n",
      "Epoch 52/175\n",
      "2/2 [==============================] - 0s 29ms/step - loss: 0.2464 - accuracy: 0.9077 - val_loss: 0.8858 - val_accuracy: 0.8056\n",
      "Epoch 53/175\n",
      "2/2 [==============================] - 0s 23ms/step - loss: 0.2387 - accuracy: 0.8978 - val_loss: 0.8862 - val_accuracy: 0.8036\n",
      "Epoch 54/175\n",
      "2/2 [==============================] - 0s 24ms/step - loss: 0.2341 - accuracy: 0.9058 - val_loss: 0.8819 - val_accuracy: 0.8095\n",
      "Epoch 55/175\n",
      "2/2 [==============================] - 0s 25ms/step - loss: 0.2659 - accuracy: 0.8938 - val_loss: 0.8827 - val_accuracy: 0.8095\n",
      "Epoch 56/175\n",
      "2/2 [==============================] - 0s 25ms/step - loss: 0.2705 - accuracy: 0.9137 - val_loss: 0.8868 - val_accuracy: 0.8095\n",
      "Epoch 57/175\n",
      "2/2 [==============================] - 0s 26ms/step - loss: 0.2583 - accuracy: 0.9067 - val_loss: 0.8890 - val_accuracy: 0.8095\n",
      "Epoch 58/175\n",
      "2/2 [==============================] - 0s 23ms/step - loss: 0.2430 - accuracy: 0.9077 - val_loss: 0.8901 - val_accuracy: 0.8016\n",
      "Epoch 59/175\n"
     ]
    },
    {
     "name": "stdout",
     "output_type": "stream",
     "text": [
      "2/2 [==============================] - 0s 25ms/step - loss: 0.2382 - accuracy: 0.9157 - val_loss: 0.8885 - val_accuracy: 0.7956\n",
      "Epoch 60/175\n",
      "2/2 [==============================] - 0s 25ms/step - loss: 0.2406 - accuracy: 0.9216 - val_loss: 0.8848 - val_accuracy: 0.7897\n",
      "Epoch 61/175\n",
      "2/2 [==============================] - 0s 23ms/step - loss: 0.2593 - accuracy: 0.8978 - val_loss: 0.8803 - val_accuracy: 0.7937\n",
      "Epoch 62/175\n",
      "2/2 [==============================] - 0s 24ms/step - loss: 0.2406 - accuracy: 0.9137 - val_loss: 0.8797 - val_accuracy: 0.7996\n",
      "Epoch 63/175\n",
      "2/2 [==============================] - 0s 23ms/step - loss: 0.2149 - accuracy: 0.9177 - val_loss: 0.8681 - val_accuracy: 0.8036\n",
      "Epoch 64/175\n",
      "2/2 [==============================] - 0s 23ms/step - loss: 0.2172 - accuracy: 0.9147 - val_loss: 0.8475 - val_accuracy: 0.8056\n",
      "Epoch 65/175\n",
      "2/2 [==============================] - 0s 24ms/step - loss: 0.2102 - accuracy: 0.9187 - val_loss: 0.8259 - val_accuracy: 0.8095\n",
      "Epoch 66/175\n",
      "2/2 [==============================] - 0s 24ms/step - loss: 0.2096 - accuracy: 0.9216 - val_loss: 0.8037 - val_accuracy: 0.8135\n",
      "Epoch 67/175\n",
      "2/2 [==============================] - 0s 23ms/step - loss: 0.1836 - accuracy: 0.9335 - val_loss: 0.7879 - val_accuracy: 0.8135\n",
      "Epoch 68/175\n",
      "2/2 [==============================] - 0s 23ms/step - loss: 0.1855 - accuracy: 0.9256 - val_loss: 0.7740 - val_accuracy: 0.8194\n",
      "Epoch 69/175\n",
      "2/2 [==============================] - 0s 24ms/step - loss: 0.1825 - accuracy: 0.9226 - val_loss: 0.7705 - val_accuracy: 0.8254\n",
      "Epoch 70/175\n",
      "2/2 [==============================] - 0s 23ms/step - loss: 0.1960 - accuracy: 0.9196 - val_loss: 0.7714 - val_accuracy: 0.8194\n",
      "Epoch 71/175\n",
      "2/2 [==============================] - 0s 23ms/step - loss: 0.1798 - accuracy: 0.9315 - val_loss: 0.7728 - val_accuracy: 0.8135\n",
      "Epoch 72/175\n",
      "2/2 [==============================] - 0s 22ms/step - loss: 0.1745 - accuracy: 0.9315 - val_loss: 0.7818 - val_accuracy: 0.8155\n",
      "Epoch 73/175\n",
      "2/2 [==============================] - 0s 23ms/step - loss: 0.1768 - accuracy: 0.9335 - val_loss: 0.7938 - val_accuracy: 0.8095\n",
      "Epoch 74/175\n",
      "2/2 [==============================] - 0s 29ms/step - loss: 0.1938 - accuracy: 0.9315 - val_loss: 0.8088 - val_accuracy: 0.8036\n",
      "Epoch 75/175\n",
      "2/2 [==============================] - 0s 28ms/step - loss: 0.1825 - accuracy: 0.9345 - val_loss: 0.8138 - val_accuracy: 0.8135\n",
      "Epoch 76/175\n",
      "2/2 [==============================] - 0s 29ms/step - loss: 0.1804 - accuracy: 0.9286 - val_loss: 0.8257 - val_accuracy: 0.8115\n",
      "Epoch 77/175\n",
      "2/2 [==============================] - 0s 29ms/step - loss: 0.1747 - accuracy: 0.9256 - val_loss: 0.8543 - val_accuracy: 0.8095\n",
      "Epoch 78/175\n",
      "2/2 [==============================] - 0s 25ms/step - loss: 0.1761 - accuracy: 0.9306 - val_loss: 0.8794 - val_accuracy: 0.8036\n",
      "Epoch 79/175\n",
      "2/2 [==============================] - 0s 25ms/step - loss: 0.1525 - accuracy: 0.9365 - val_loss: 0.9189 - val_accuracy: 0.8056\n",
      "Epoch 80/175\n",
      "2/2 [==============================] - 0s 26ms/step - loss: 0.1785 - accuracy: 0.9286 - val_loss: 0.9544 - val_accuracy: 0.8016\n",
      "Epoch 81/175\n",
      "2/2 [==============================] - 0s 24ms/step - loss: 0.1718 - accuracy: 0.9306 - val_loss: 0.9809 - val_accuracy: 0.7996\n",
      "Epoch 82/175\n",
      "2/2 [==============================] - 0s 24ms/step - loss: 0.1771 - accuracy: 0.9276 - val_loss: 1.0075 - val_accuracy: 0.7897\n",
      "Epoch 83/175\n",
      "2/2 [==============================] - 0s 23ms/step - loss: 0.1946 - accuracy: 0.9256 - val_loss: 1.0271 - val_accuracy: 0.7857\n",
      "Epoch 84/175\n",
      "2/2 [==============================] - 0s 24ms/step - loss: 0.1973 - accuracy: 0.9256 - val_loss: 1.0362 - val_accuracy: 0.7897\n",
      "Epoch 85/175\n",
      "2/2 [==============================] - 0s 50ms/step - loss: 0.2180 - accuracy: 0.9147 - val_loss: 1.0306 - val_accuracy: 0.7857\n",
      "Epoch 86/175\n",
      "2/2 [==============================] - 0s 27ms/step - loss: 0.1952 - accuracy: 0.9286 - val_loss: 1.0007 - val_accuracy: 0.7897\n",
      "Epoch 87/175\n",
      "2/2 [==============================] - 0s 27ms/step - loss: 0.2148 - accuracy: 0.9196 - val_loss: 0.9695 - val_accuracy: 0.7917\n",
      "Epoch 88/175\n",
      "2/2 [==============================] - 0s 22ms/step - loss: 0.2015 - accuracy: 0.9177 - val_loss: 0.9563 - val_accuracy: 0.7877\n",
      "Epoch 89/175\n",
      "2/2 [==============================] - 0s 23ms/step - loss: 0.2053 - accuracy: 0.9246 - val_loss: 0.9649 - val_accuracy: 0.7817\n",
      "Epoch 90/175\n",
      "2/2 [==============================] - 0s 25ms/step - loss: 0.2064 - accuracy: 0.9127 - val_loss: 0.9526 - val_accuracy: 0.7778\n",
      "Epoch 91/175\n",
      "2/2 [==============================] - 0s 22ms/step - loss: 0.2408 - accuracy: 0.9028 - val_loss: 0.9428 - val_accuracy: 0.7718\n",
      "Epoch 92/175\n",
      "2/2 [==============================] - 0s 23ms/step - loss: 0.2417 - accuracy: 0.9048 - val_loss: 0.9455 - val_accuracy: 0.7718\n",
      "Epoch 93/175\n",
      "2/2 [==============================] - 0s 23ms/step - loss: 0.2599 - accuracy: 0.8998 - val_loss: 0.9455 - val_accuracy: 0.7778\n",
      "Epoch 94/175\n",
      "2/2 [==============================] - 0s 23ms/step - loss: 0.2696 - accuracy: 0.9018 - val_loss: 0.9408 - val_accuracy: 0.7817\n",
      "Epoch 95/175\n",
      "2/2 [==============================] - 0s 25ms/step - loss: 0.2757 - accuracy: 0.8968 - val_loss: 0.9348 - val_accuracy: 0.7837\n",
      "Epoch 96/175\n",
      "2/2 [==============================] - 0s 22ms/step - loss: 0.2804 - accuracy: 0.8998 - val_loss: 0.9187 - val_accuracy: 0.7917\n",
      "Epoch 97/175\n",
      "2/2 [==============================] - 0s 23ms/step - loss: 0.2809 - accuracy: 0.9008 - val_loss: 0.8921 - val_accuracy: 0.7976\n",
      "Epoch 98/175\n",
      "2/2 [==============================] - 0s 23ms/step - loss: 0.2714 - accuracy: 0.8909 - val_loss: 0.8659 - val_accuracy: 0.7996\n",
      "Epoch 99/175\n",
      "2/2 [==============================] - 0s 21ms/step - loss: 0.2681 - accuracy: 0.9028 - val_loss: 0.8515 - val_accuracy: 0.7976\n",
      "Epoch 100/175\n",
      "2/2 [==============================] - 0s 22ms/step - loss: 0.2570 - accuracy: 0.9038 - val_loss: 0.8458 - val_accuracy: 0.8075\n",
      "Epoch 101/175\n",
      "2/2 [==============================] - 0s 22ms/step - loss: 0.2762 - accuracy: 0.9028 - val_loss: 0.8475 - val_accuracy: 0.8056\n",
      "Epoch 102/175\n",
      "2/2 [==============================] - 0s 23ms/step - loss: 0.2370 - accuracy: 0.9117 - val_loss: 0.8396 - val_accuracy: 0.8095\n",
      "Epoch 103/175\n",
      "2/2 [==============================] - 0s 23ms/step - loss: 0.2665 - accuracy: 0.9018 - val_loss: 0.8322 - val_accuracy: 0.8115\n",
      "Epoch 104/175\n",
      "2/2 [==============================] - 0s 23ms/step - loss: 0.2517 - accuracy: 0.9097 - val_loss: 0.8239 - val_accuracy: 0.8095\n",
      "Epoch 105/175\n",
      "2/2 [==============================] - 0s 23ms/step - loss: 0.2344 - accuracy: 0.9107 - val_loss: 0.8153 - val_accuracy: 0.8075\n",
      "Epoch 106/175\n",
      "2/2 [==============================] - 0s 23ms/step - loss: 0.2542 - accuracy: 0.9038 - val_loss: 0.8102 - val_accuracy: 0.8056\n",
      "Epoch 107/175\n",
      "2/2 [==============================] - 0s 22ms/step - loss: 0.2353 - accuracy: 0.9187 - val_loss: 0.8061 - val_accuracy: 0.8135\n",
      "Epoch 108/175\n",
      "2/2 [==============================] - 0s 23ms/step - loss: 0.2531 - accuracy: 0.9236 - val_loss: 0.8033 - val_accuracy: 0.8155\n",
      "Epoch 109/175\n",
      "2/2 [==============================] - 0s 22ms/step - loss: 0.2179 - accuracy: 0.9177 - val_loss: 0.7987 - val_accuracy: 0.8175\n",
      "Epoch 110/175\n",
      "2/2 [==============================] - 0s 23ms/step - loss: 0.2049 - accuracy: 0.9246 - val_loss: 0.7923 - val_accuracy: 0.8155\n",
      "Epoch 111/175\n",
      "2/2 [==============================] - 0s 22ms/step - loss: 0.1975 - accuracy: 0.9286 - val_loss: 0.7883 - val_accuracy: 0.8115\n",
      "Epoch 112/175\n",
      "2/2 [==============================] - 0s 23ms/step - loss: 0.1653 - accuracy: 0.9365 - val_loss: 0.7897 - val_accuracy: 0.8155\n",
      "Epoch 113/175\n",
      "2/2 [==============================] - 0s 23ms/step - loss: 0.1674 - accuracy: 0.9375 - val_loss: 0.7956 - val_accuracy: 0.8155\n",
      "Epoch 114/175\n",
      "2/2 [==============================] - 0s 24ms/step - loss: 0.1843 - accuracy: 0.9325 - val_loss: 0.8012 - val_accuracy: 0.8155\n",
      "Epoch 115/175\n",
      "2/2 [==============================] - 0s 24ms/step - loss: 0.1774 - accuracy: 0.9335 - val_loss: 0.8033 - val_accuracy: 0.8115\n",
      "Epoch 116/175\n",
      "2/2 [==============================] - 0s 24ms/step - loss: 0.1804 - accuracy: 0.9286 - val_loss: 0.7988 - val_accuracy: 0.8115\n",
      "Epoch 117/175\n"
     ]
    },
    {
     "name": "stdout",
     "output_type": "stream",
     "text": [
      "2/2 [==============================] - 0s 23ms/step - loss: 0.1662 - accuracy: 0.9355 - val_loss: 0.7928 - val_accuracy: 0.8115\n",
      "Epoch 118/175\n",
      "2/2 [==============================] - 0s 23ms/step - loss: 0.1616 - accuracy: 0.9375 - val_loss: 0.7906 - val_accuracy: 0.8135\n",
      "Epoch 119/175\n",
      "2/2 [==============================] - 0s 23ms/step - loss: 0.1558 - accuracy: 0.9415 - val_loss: 0.7858 - val_accuracy: 0.8115\n",
      "Epoch 120/175\n",
      "2/2 [==============================] - 0s 23ms/step - loss: 0.1596 - accuracy: 0.9395 - val_loss: 0.7863 - val_accuracy: 0.8016\n",
      "Epoch 121/175\n",
      "2/2 [==============================] - 0s 23ms/step - loss: 0.1687 - accuracy: 0.9375 - val_loss: 0.7783 - val_accuracy: 0.8016\n",
      "Epoch 122/175\n",
      "2/2 [==============================] - 0s 23ms/step - loss: 0.1408 - accuracy: 0.9464 - val_loss: 0.7836 - val_accuracy: 0.7956\n",
      "Epoch 123/175\n",
      "2/2 [==============================] - 0s 26ms/step - loss: 0.1434 - accuracy: 0.9425 - val_loss: 0.7836 - val_accuracy: 0.7996\n",
      "Epoch 124/175\n",
      "2/2 [==============================] - 0s 24ms/step - loss: 0.1549 - accuracy: 0.9315 - val_loss: 0.7879 - val_accuracy: 0.8036\n",
      "Epoch 125/175\n",
      "2/2 [==============================] - 0s 23ms/step - loss: 0.1573 - accuracy: 0.9385 - val_loss: 0.7927 - val_accuracy: 0.8016\n",
      "Epoch 126/175\n",
      "2/2 [==============================] - 0s 22ms/step - loss: 0.1425 - accuracy: 0.9405 - val_loss: 0.7931 - val_accuracy: 0.8036\n",
      "Epoch 127/175\n",
      "2/2 [==============================] - 0s 22ms/step - loss: 0.1449 - accuracy: 0.9405 - val_loss: 0.7947 - val_accuracy: 0.8016\n",
      "Epoch 128/175\n",
      "2/2 [==============================] - 0s 24ms/step - loss: 0.1383 - accuracy: 0.9415 - val_loss: 0.7963 - val_accuracy: 0.8056\n",
      "Epoch 129/175\n",
      "2/2 [==============================] - 0s 23ms/step - loss: 0.1387 - accuracy: 0.9395 - val_loss: 0.7995 - val_accuracy: 0.8095\n",
      "Epoch 130/175\n",
      "2/2 [==============================] - 0s 23ms/step - loss: 0.1410 - accuracy: 0.9494 - val_loss: 0.8012 - val_accuracy: 0.8075\n",
      "Epoch 131/175\n",
      "2/2 [==============================] - 0s 22ms/step - loss: 0.1332 - accuracy: 0.9474 - val_loss: 0.8167 - val_accuracy: 0.8115\n",
      "Epoch 132/175\n",
      "2/2 [==============================] - 0s 24ms/step - loss: 0.1548 - accuracy: 0.9405 - val_loss: 0.8302 - val_accuracy: 0.8075\n",
      "Epoch 133/175\n",
      "2/2 [==============================] - 0s 23ms/step - loss: 0.1573 - accuracy: 0.9415 - val_loss: 0.8356 - val_accuracy: 0.8036\n",
      "Epoch 134/175\n",
      "2/2 [==============================] - 0s 23ms/step - loss: 0.1382 - accuracy: 0.9385 - val_loss: 0.8499 - val_accuracy: 0.7976\n",
      "Epoch 135/175\n",
      "2/2 [==============================] - 0s 22ms/step - loss: 0.1507 - accuracy: 0.9335 - val_loss: 0.8735 - val_accuracy: 0.7956\n",
      "Epoch 136/175\n",
      "2/2 [==============================] - 0s 22ms/step - loss: 0.1552 - accuracy: 0.9355 - val_loss: 0.8883 - val_accuracy: 0.7897\n",
      "Epoch 137/175\n",
      "2/2 [==============================] - 0s 23ms/step - loss: 0.1568 - accuracy: 0.9365 - val_loss: 0.9084 - val_accuracy: 0.7857\n",
      "Epoch 138/175\n",
      "2/2 [==============================] - 0s 23ms/step - loss: 0.1695 - accuracy: 0.9266 - val_loss: 0.9135 - val_accuracy: 0.7937\n",
      "Epoch 139/175\n",
      "2/2 [==============================] - 0s 23ms/step - loss: 0.1445 - accuracy: 0.9345 - val_loss: 0.9258 - val_accuracy: 0.7917\n",
      "Epoch 140/175\n",
      "2/2 [==============================] - 0s 23ms/step - loss: 0.1633 - accuracy: 0.9236 - val_loss: 0.9119 - val_accuracy: 0.7956\n",
      "Epoch 141/175\n",
      "2/2 [==============================] - 0s 24ms/step - loss: 0.1607 - accuracy: 0.9236 - val_loss: 0.9129 - val_accuracy: 0.7917\n",
      "Epoch 142/175\n",
      "2/2 [==============================] - 0s 23ms/step - loss: 0.1706 - accuracy: 0.9315 - val_loss: 0.9052 - val_accuracy: 0.7897\n",
      "Epoch 143/175\n",
      "2/2 [==============================] - 0s 23ms/step - loss: 0.1510 - accuracy: 0.9395 - val_loss: 0.9034 - val_accuracy: 0.7917\n",
      "Epoch 144/175\n",
      "2/2 [==============================] - 0s 24ms/step - loss: 0.1723 - accuracy: 0.9306 - val_loss: 0.9054 - val_accuracy: 0.7937\n",
      "Epoch 145/175\n",
      "2/2 [==============================] - 0s 23ms/step - loss: 0.1551 - accuracy: 0.9315 - val_loss: 0.9051 - val_accuracy: 0.7937\n",
      "Epoch 146/175\n",
      "2/2 [==============================] - 0s 23ms/step - loss: 0.1494 - accuracy: 0.9355 - val_loss: 0.9075 - val_accuracy: 0.7976\n",
      "Epoch 147/175\n",
      "2/2 [==============================] - 0s 26ms/step - loss: 0.1525 - accuracy: 0.9335 - val_loss: 0.9070 - val_accuracy: 0.7976\n",
      "Epoch 148/175\n",
      "2/2 [==============================] - 0s 26ms/step - loss: 0.1620 - accuracy: 0.9325 - val_loss: 0.8979 - val_accuracy: 0.7976\n",
      "Epoch 149/175\n",
      "2/2 [==============================] - 0s 27ms/step - loss: 0.1492 - accuracy: 0.9375 - val_loss: 0.8783 - val_accuracy: 0.8016\n",
      "Epoch 150/175\n",
      "2/2 [==============================] - 0s 26ms/step - loss: 0.1551 - accuracy: 0.9325 - val_loss: 0.8588 - val_accuracy: 0.7976\n",
      "Epoch 151/175\n",
      "2/2 [==============================] - 0s 25ms/step - loss: 0.1366 - accuracy: 0.9425 - val_loss: 0.8427 - val_accuracy: 0.8036\n",
      "Epoch 152/175\n",
      "2/2 [==============================] - 0s 25ms/step - loss: 0.1343 - accuracy: 0.9464 - val_loss: 0.8331 - val_accuracy: 0.8095\n",
      "Epoch 153/175\n",
      "2/2 [==============================] - 0s 25ms/step - loss: 0.1354 - accuracy: 0.9435 - val_loss: 0.8317 - val_accuracy: 0.8075\n",
      "Epoch 154/175\n",
      "2/2 [==============================] - 0s 26ms/step - loss: 0.1346 - accuracy: 0.9415 - val_loss: 0.8294 - val_accuracy: 0.8056\n",
      "Epoch 155/175\n",
      "2/2 [==============================] - 0s 24ms/step - loss: 0.1245 - accuracy: 0.9454 - val_loss: 0.8279 - val_accuracy: 0.8056\n",
      "Epoch 156/175\n",
      "2/2 [==============================] - 0s 24ms/step - loss: 0.1306 - accuracy: 0.9454 - val_loss: 0.8252 - val_accuracy: 0.8075\n",
      "Epoch 157/175\n",
      "2/2 [==============================] - 0s 23ms/step - loss: 0.1381 - accuracy: 0.9454 - val_loss: 0.8237 - val_accuracy: 0.8036\n",
      "Epoch 158/175\n",
      "2/2 [==============================] - 0s 24ms/step - loss: 0.1284 - accuracy: 0.9474 - val_loss: 0.8233 - val_accuracy: 0.8016\n",
      "Epoch 159/175\n",
      "2/2 [==============================] - 0s 26ms/step - loss: 0.1402 - accuracy: 0.9365 - val_loss: 0.8222 - val_accuracy: 0.8036\n",
      "Epoch 160/175\n",
      "2/2 [==============================] - 0s 24ms/step - loss: 0.1529 - accuracy: 0.9325 - val_loss: 0.8157 - val_accuracy: 0.7996\n",
      "Epoch 161/175\n",
      "2/2 [==============================] - 0s 23ms/step - loss: 0.1583 - accuracy: 0.9385 - val_loss: 0.8040 - val_accuracy: 0.7976\n",
      "Epoch 162/175\n",
      "2/2 [==============================] - 0s 23ms/step - loss: 0.1292 - accuracy: 0.9484 - val_loss: 0.7836 - val_accuracy: 0.7976\n",
      "Epoch 163/175\n",
      "2/2 [==============================] - 0s 22ms/step - loss: 0.1304 - accuracy: 0.9454 - val_loss: 0.7659 - val_accuracy: 0.7996\n",
      "Epoch 164/175\n",
      "2/2 [==============================] - 0s 28ms/step - loss: 0.1372 - accuracy: 0.9435 - val_loss: 0.7496 - val_accuracy: 0.8036\n",
      "Epoch 165/175\n",
      "2/2 [==============================] - 0s 27ms/step - loss: 0.1420 - accuracy: 0.9425 - val_loss: 0.7409 - val_accuracy: 0.8056\n",
      "Epoch 166/175\n",
      "2/2 [==============================] - 0s 32ms/step - loss: 0.1364 - accuracy: 0.9385 - val_loss: 0.7326 - val_accuracy: 0.8056\n",
      "Epoch 167/175\n",
      "2/2 [==============================] - 0s 23ms/step - loss: 0.1393 - accuracy: 0.9375 - val_loss: 0.7257 - val_accuracy: 0.8135\n",
      "Epoch 168/175\n",
      "2/2 [==============================] - 0s 27ms/step - loss: 0.1431 - accuracy: 0.9355 - val_loss: 0.7263 - val_accuracy: 0.8115\n",
      "Epoch 169/175\n",
      "2/2 [==============================] - 0s 28ms/step - loss: 0.1517 - accuracy: 0.9325 - val_loss: 0.7277 - val_accuracy: 0.8115\n",
      "Epoch 170/175\n",
      "2/2 [==============================] - 0s 23ms/step - loss: 0.1422 - accuracy: 0.9385 - val_loss: 0.7273 - val_accuracy: 0.8135\n",
      "Epoch 171/175\n",
      "2/2 [==============================] - 0s 21ms/step - loss: 0.1848 - accuracy: 0.9286 - val_loss: 0.7233 - val_accuracy: 0.8135\n",
      "Epoch 172/175\n",
      "2/2 [==============================] - 0s 20ms/step - loss: 0.1291 - accuracy: 0.9454 - val_loss: 0.7174 - val_accuracy: 0.8115\n",
      "Epoch 173/175\n",
      "2/2 [==============================] - 0s 20ms/step - loss: 0.1496 - accuracy: 0.9306 - val_loss: 0.7164 - val_accuracy: 0.8115\n",
      "Epoch 174/175\n",
      "2/2 [==============================] - 0s 20ms/step - loss: 0.1389 - accuracy: 0.9355 - val_loss: 0.7186 - val_accuracy: 0.8115\n"
     ]
    },
    {
     "name": "stdout",
     "output_type": "stream",
     "text": [
      "Epoch 175/175\n",
      "2/2 [==============================] - 0s 21ms/step - loss: 0.1578 - accuracy: 0.9296 - val_loss: 0.7193 - val_accuracy: 0.8036\n",
      "Done!\n"
     ]
    },
    {
     "data": {
      "text/plain": [
       "Text(0, 0.5, 'accuracy')"
      ]
     },
     "execution_count": 165,
     "metadata": {},
     "output_type": "execute_result"
    },
    {
     "data": {
      "image/png": "[encoded data removed]",
      "text/plain": [
       "<Figure size 432x288 with 2 Axes>"
      ]
     },
     "metadata": {
      "needs_background": "light"
     },
     "output_type": "display_data"
    }
   ],
   "source": [
    "hist1 = train(model4, \n",
    "              train=[x_train, y_train], \n",
    "              test=[x_test, y_test], \n",
    "              batch_size=1000, \n",
    "              optimizer='adamax', \n",
    "              loss_fn='binary_crossentropy', \n",
    "              epochs=175, \n",
    "              description='dense128relu_dense64relu_dense32relu_dense1sigmoid_adam')\n",
    "\n",
    "losses, accs = hist1['val_loss'], hist1['val_accuracy']\n",
    "f, (ax1, ax2) = plt.subplots(2, 1, sharey=False)\n",
    "ax1.plot(np.arange(len(losses)), losses)\n",
    "ax1.set_xlabel('epochs')\n",
    "ax1.set_ylabel('loss')\n",
    "ax2.plot(np.arange(len(accs)), accs)\n",
    "ax2.set_xlabel('epochs')\n",
    "ax2.set_ylabel('accuracy')"
   ]
  },
  {
   "cell_type": "markdown",
   "metadata": {},
   "source": [
    "#### Validation"
   ]
  },
  {
   "cell_type": "markdown",
   "metadata": {},
   "source": [
    "Para la validacion se utilizara el mejor modelo obtenido por la experimentacion anterior, el mejor modelo es el de la arquitectura numero 4."
   ]
  },
  {
   "cell_type": "code",
   "execution_count": 170,
   "metadata": {},
   "outputs": [
    {
     "name": "stdout",
     "output_type": "stream",
     "text": [
      "VALIDATION ACCURACY: 0.8035714030265808\n"
     ]
    }
   ],
   "source": [
    "loss, acc = model4.evaluate(x_validation, y_validation, verbose=None)\n",
    "print(f\"VALIDATION ACCURACY: {acc}\")"
   ]
  },
  {
   "cell_type": "code",
   "execution_count": null,
   "metadata": {},
   "outputs": [],
   "source": []
  },
  {
   "cell_type": "markdown",
   "metadata": {},
   "source": [
    "#### Conclusiones"
   ]
  },
  {
   "cell_type": "markdown",
   "metadata": {},
   "source": [
    "## Parte 2"
   ]
  },
  {
   "cell_type": "markdown",
   "metadata": {},
   "source": [
    "#### librerias"
   ]
  },
  {
   "cell_type": "code",
   "execution_count": null,
   "metadata": {},
   "outputs": [],
   "source": [
    "from tensorflow.keras.layers     import Conv2D, Flatten, Dense, MaxPool2D\n",
    "from sklearn.metrics             import classification_report\n",
    "from sklearn.model_selection     import train_test_split\n",
    "from tensorflow.keras            import Sequential\n",
    "from sklearn.metrics             import confusion_matrix\n",
    "\n",
    "\n",
    "import matplotlib.pyplot as plt\n",
    "import pandas            as pd\n",
    "import numpy             as np\n",
    "import cv2\n",
    "import os"
   ]
  },
  {
   "cell_type": "code",
   "execution_count": null,
   "metadata": {},
   "outputs": [],
   "source": [
    "image = cv2.imread('../paris.png')\n",
    "image = cv2.cvtColor(image, cv2.COLOR_BGR2RGB)"
   ]
  },
  {
   "cell_type": "markdown",
   "metadata": {},
   "source": [
    "#### Dataset"
   ]
  },
  {
   "cell_type": "markdown",
   "metadata": {},
   "source": [
    "#### Data Preparation"
   ]
  },
  {
   "cell_type": "code",
   "execution_count": null,
   "metadata": {},
   "outputs": [],
   "source": [
    "labels = pd.read_csv('./parte2/data/labels.csv')"
   ]
  },
  {
   "cell_type": "code",
   "execution_count": null,
   "metadata": {},
   "outputs": [],
   "source": [
    "dataset = []\n",
    "lbls = []\n",
    "\n",
    "def rescale_frame(frame, percent=75):\n",
    "    dim = (536, 356)\n",
    "    return cv2.resize(frame, dim, interpolation=cv2.INTER_AREA)\n",
    "\n",
    "for asset in os.listdir('./parte2/data/photos'):\n",
    "    label = labels[labels['ID'] == int(asset.replace(\".png\", \"\"))] \\\n",
    "                .drop(columns=['ID', 'Disease_Risk']) \\\n",
    "                .to_numpy()[0]\n",
    "    tmp = cv2.imread(f'./parte2/data/photos/{asset}')\n",
    "    rescaled_tmp = rescale_frame(tmp, 25)\n",
    "    dataset.append(rescaled_tmp)\n",
    "    lbls.append(label)\n",
    "    \n",
    "dataset = np.array(dataset)\n",
    "lbls = np.array(lbls)\n",
    "\n",
    "np.save('D:/parte2/data/features.npy', dataset)\n",
    "np.save('D:/parte2/data/labels.npy', lbls)\n",
    "print('Done!')"
   ]
  },
  {
   "cell_type": "code",
   "execution_count": null,
   "metadata": {},
   "outputs": [],
   "source": [
    "features = np.load('D:/parte2/data/features.npy', allow_pickle=True)\n",
    "labels = np.load('D:/parte2/data/labels.npy', allow_pickle=True)\n",
    "features.shape, labels.shape"
   ]
  },
  {
   "cell_type": "code",
   "execution_count": null,
   "metadata": {},
   "outputs": [],
   "source": [
    "plt.imshow(features[0])\n",
    "plt.show()"
   ]
  },
  {
   "cell_type": "markdown",
   "metadata": {},
   "source": [
    "#### Definicion arquitectura"
   ]
  },
  {
   "cell_type": "code",
   "execution_count": null,
   "metadata": {},
   "outputs": [],
   "source": [
    "x_train, x_temp, y_train, y_temp = train_test_split(features, labels, test_size=0.4, random_state=42)\n",
    "x_test, x_validation, y_test, y_validation = train_test_split(x_temp, y_temp, test_size=0.5, random_state=42)\n",
    "x_train.shape, x_test.shape, x_validation.shape, y_train.shape, y_test.shape, y_validation.shape"
   ]
  },
  {
   "cell_type": "code",
   "execution_count": null,
   "metadata": {},
   "outputs": [],
   "source": [
    "cnn = Sequential()\n",
    "cnn.add(Conv2D(filters=64, kernel_size=(3,3), input_shape=(356, 536, 3), activation='relu'))\n",
    "cnn.add(MaxPool2D(pool_size=(2,2)))\n",
    "cnn.add(Conv2D(filters=32, kernel_size=(3,3), activation='relu'))\n",
    "cnn.add(MaxPool2D(pool_size=(2,2)))\n",
    "cnn.add(Flatten())\n",
    "cnn.add(Dense(units=64, activation='relu'))\n",
    "cnn.add(Dense(units=45, activation='sigmoid'))\n",
    "# cnn.compile(optimizer='adam', loss='categorical_crossentropy', metrics=['accuracy'])"
   ]
  },
  {
   "cell_type": "code",
   "execution_count": null,
   "metadata": {},
   "outputs": [],
   "source": [
    "cnn.fit(x_train, y_train, epochs=2)"
   ]
  },
  {
   "cell_type": "code",
   "execution_count": null,
   "metadata": {},
   "outputs": [],
   "source": [
    "import tensorflow as tf\n",
    "print(\"Num GPUs Available: \", len(tf.config.list_physical_devices('GPU')))"
   ]
  },
  {
   "cell_type": "markdown",
   "metadata": {},
   "source": [
    "#### Experimentacion"
   ]
  },
  {
   "cell_type": "code",
   "execution_count": null,
   "metadata": {},
   "outputs": [],
   "source": [
    "def train(model, train, test, batch_size, optimizer, loss_fn, epochs, description):\n",
    "    filepath = f'./parte2/experiments/{description}_batch={batch_size}_epochs={epochs}'\n",
    "    checkpoint_callback = tf.keras.callbacks.ModelCheckpoint(filepath, monitor='val_loss', save_best_only=1, save_weights_only=1, mode='max')\n",
    "    \n",
    "    model.compile(optimizer=optimizer, loss=loss_fn, metrics=['accuracy'])\n",
    "    x_train, y_train = train[0], train[1]\n",
    "    x_test, y_test = test[0], test[1]\n",
    "    \n",
    "    history = model.fit(x_train, y_train, validation_data=(x_test, y_test), batch_size=batch_size, epochs=epochs, callbacks=[checkpoint_callback])\n",
    "    \n",
    "    print(\"Done!\")\n",
    "    return history.history"
   ]
  },
  {
   "cell_type": "code",
   "execution_count": null,
   "metadata": {},
   "outputs": [],
   "source": [
    "train_params = train(cnn, [x_train, y_train], [x_test, y_test], 64, 'adam', 'categorical_crossentropy', 1, \n",
    "      'conv64_maxpool2_conv32_maxpool2_relu64_sigmoid45')"
   ]
  },
  {
   "cell_type": "code",
   "execution_count": null,
   "metadata": {},
   "outputs": [],
   "source": [
    "train_params.keys()"
   ]
  },
  {
   "cell_type": "markdown",
   "metadata": {},
   "source": [
    "#### Conclusiones"
   ]
  },
  {
   "cell_type": "markdown",
   "metadata": {},
   "source": [
    "## Parte 3"
   ]
  },
  {
   "cell_type": "code",
   "execution_count": null,
   "metadata": {},
   "outputs": [],
   "source": [
    "import tensorflow as tf\n",
    "import pandas as pd\n",
    "import numpy as np\n",
    "import matplotlib.pyplot as plt\n",
    "import os\n",
    "\n",
    "from tensorflow import keras\n",
    "from tensorflow.keras import layers\n",
    "from sklearn.model_selection import train_test_split\n",
    "\n",
    "from keras.models import Sequential\n",
    "from keras.layers import Dense, LSTM, Dropout\n",
    "\n",
    "from sklearn.preprocessing import MinMaxScaler\n",
    "from sklearn.metrics import mean_squared_error"
   ]
  },
  {
   "cell_type": "markdown",
   "metadata": {},
   "source": [
    "#### Dataset"
   ]
  },
  {
   "cell_type": "code",
   "execution_count": null,
   "metadata": {
    "scrolled": true
   },
   "outputs": [],
   "source": [
    "for coin in os.listdir('./parte3/data/'):\n",
    "    print(f'./parte3/data/{coin}')\n",
    "    raw = pd.read_csv(f'./parte3/data/{coin}')\n",
    "    dataset = raw[['Date', 'Close']].rename(columns={'Close': 'Price'})\n",
    "    dataset['Date'] = dataset['Date'].apply(lambda x: str(x)[:10])\n",
    "    plt.figure(figsize=(15, 5))\n",
    "    plt.plot(dataset['Price'])\n",
    "    plt.xlabel('Date')\n",
    "    plt.ylabel('Price in dollars')\n",
    "    plt.title(f'{coin[6:]} All history price')\n",
    "    plt.show()"
   ]
  },
  {
   "cell_type": "code",
   "execution_count": null,
   "metadata": {},
   "outputs": [],
   "source": [
    "raw = pd.read_csv(\"./parte3/data/data.csv\")\n",
    "dataset = raw[['Date', 'Close']].rename(columns={'Close': 'Price'})\n",
    "dataset['Date'] = dataset['Date'].apply(lambda x: str(x)[:10])\n",
    "dataset.head()"
   ]
  },
  {
   "cell_type": "code",
   "execution_count": null,
   "metadata": {},
   "outputs": [],
   "source": [
    "scaler = MinMaxScaler(feature_range=(0, 1))\n",
    "dataset['Price'] = scaler.fit_transform(dataset[['Price']])\n",
    "dataset.head()"
   ]
  },
  {
   "cell_type": "code",
   "execution_count": null,
   "metadata": {},
   "outputs": [],
   "source": [
    "window = 50\n",
    "plt.figure(figsize=(15, 5))\n",
    "plt.plot(dataset['Date'][-window:], dataset['Price'][-window:])\n",
    "plt.xlabel('Date')\n",
    "plt.ylabel('Price in dollars')\n",
    "plt.xticks(rotation=45)\n",
    "plt.title(f'Bitcoin price in a {window} day history window')\n",
    "plt.show()"
   ]
  },
  {
   "cell_type": "code",
   "execution_count": null,
   "metadata": {},
   "outputs": [],
   "source": [
    "plt.figure(figsize=(15, 5))\n",
    "plt.plot(dataset['Price'])\n",
    "plt.xlabel('Date')\n",
    "plt.ylabel('Price in dollars')\n",
    "plt.title(f'Bitcoin All history price')\n",
    "plt.show()"
   ]
  },
  {
   "cell_type": "code",
   "execution_count": null,
   "metadata": {},
   "outputs": [],
   "source": [
    "x_window = 5\n",
    "y_window = 1\n",
    "x = []\n",
    "y = []\n",
    "\n",
    "for x_w in range(0, len(dataset['Price']) - x_window - y_window - 1, x_window + y_window):\n",
    "    x.append(dataset['Price'][x_w: x_w + x_window])\n",
    "    y.append(dataset['Price'][x_w + x_window: x_w + x_window + y_window])\n",
    "    \n",
    "x, y = np.array(x), np.array(y)\n",
    "x = x.reshape((x.shape[0], 1, x_window))\n",
    "x_train, x_temp, y_train, y_temp = train_test_split(x, y, test_size=0.4, shuffle = False, stratify = None)\n",
    "x_test, x_validation, y_test, y_validation = train_test_split(x_temp, y_temp, test_size=0.5, shuffle = False, stratify = None)"
   ]
  },
  {
   "cell_type": "markdown",
   "metadata": {},
   "source": [
    "#### Definicion arquitectura"
   ]
  },
  {
   "cell_type": "code",
   "execution_count": null,
   "metadata": {},
   "outputs": [],
   "source": [
    "model = Sequential()\n",
    "model.add(LSTM(5, input_shape=(1, x_window)))\n",
    "model.add(Dropout(0.1))\n",
    "model.add(Dense(64, activation = 'relu'))\n",
    "model.add(Dropout(0.1))\n",
    "model.add(Dense(16, activation = 'relu'))\n",
    "model.add(Dropout(0.1))\n",
    "model.add(Dense(1, activation='linear'))\n",
    "model.compile(loss='mean_squared_error', optimizer='adam')"
   ]
  },
  {
   "cell_type": "code",
   "execution_count": null,
   "metadata": {},
   "outputs": [],
   "source": [
    "hist = model.fit(x_train, y_train, epochs=100, batch_size=128, verbose=1, validation_data=(x_test, y_test))\n",
    "plt.plot(hist.history['loss'], label='train')\n",
    "plt.plot(hist.history['val_loss'], label='val')\n",
    "plt.legend()\n",
    "plt.show()"
   ]
  },
  {
   "cell_type": "code",
   "execution_count": null,
   "metadata": {},
   "outputs": [],
   "source": [
    "test_predictions = model.predict(x_test)\n",
    "plt.plot(y_test)\n",
    "plt.plot(test_predictions)\n",
    "plt.show()"
   ]
  },
  {
   "cell_type": "markdown",
   "metadata": {},
   "source": [
    "#### Experimentacion"
   ]
  },
  {
   "cell_type": "markdown",
   "metadata": {},
   "source": [
    "#### Conclusiones"
   ]
  },
  {
   "cell_type": "code",
   "execution_count": null,
   "metadata": {},
   "outputs": [],
   "source": []
  }
 ],
 "metadata": {
  "kernelspec": {
   "display_name": "Python 3",
   "language": "python",
   "name": "python3"
  },
  "language_info": {
   "codemirror_mode": {
    "name": "ipython",
    "version": 3
   },
   "file_extension": ".py",
   "mimetype": "text/x-python",
   "name": "python",
   "nbconvert_exporter": "python",
   "pygments_lexer": "ipython3",
   "version": "3.8.5"
  }
 },
 "nbformat": 4,
 "nbformat_minor": 4
}
