{
 "cells": [
  {
   "cell_type": "code",
   "execution_count": 117,
   "metadata": {},
   "outputs": [],
   "source": [
    "from sklearn.model_selection import train_test_split\n",
    "from sklearn.model_selection import KFold\n",
    "from sklearn.metrics import f1_score\n",
    "\n",
    "import pandas as pd\n",
    "import numpy as np"
   ]
  },
  {
   "cell_type": "code",
   "execution_count": 105,
   "metadata": {},
   "outputs": [],
   "source": [
    "training_set = pd.read_csv('estaturas.xlsx - normales.csv')\n",
    "valtest_normales = pd.read_csv('estaturas.xlsx - valtest(normales).csv')\n",
    "valtest_anomalias = pd.read_csv('estaturas.xlsx - valtest(anomalias).csv')\n",
    "valtest_normales.columns = valtest_anomalias.columns\n",
    "training_set.columns = valtest_anomalias.columns\n",
    "training_set['response'] = 0\n",
    "valtest_anomalias['response'] = 1\n",
    "valtest_normales['response'] = 0\n",
    "\n",
    "x_training_set = training_set[['Estatura', 'Edad']]\n",
    "y_training_set = training_set['response']\n",
    "x_valtest_normales = valtest_normales[['Estatura', 'Edad']]\n",
    "y_valtest_normales = valtest_normales['response']\n",
    "x_valtest_anomalias = valtest_anomalias[['Estatura', 'Edad']]\n",
    "y_valtest_anomalias = valtest_anomalias['response']\n",
    "\n",
    "\n",
    "x_cross_validation_vn, x_test_vn, y_cross_validation_vn, y_test_vn = train_test_split(x_valtest_normales, y_valtest_normales, test_size=0.5)\n",
    "x_cross_validation_va, x_test_va, y_cross_validation_va, y_test_va = train_test_split(x_valtest_anomalias, y_valtest_anomalias, test_size=0.5)\n",
    "\n",
    "\n",
    "x_cross_validation_set = pd.concat([x_cross_validation_vn, x_cross_validation_va])\n",
    "y_cross_validation_set = pd.concat([y_cross_validation_vn, y_cross_validation_va])\n",
    "\n",
    "x_test_set = pd.concat([x_test_vn, x_test_va])\n",
    "y_test_set = pd.concat([y_test_vn, y_test_va])"
   ]
  },
  {
   "cell_type": "code",
   "execution_count": 58,
   "metadata": {},
   "outputs": [],
   "source": [
    "def calculate_params(data):\n",
    "    means = {col: np.mean(data[col]) for col in data.columns}\n",
    "    stds = {col: np.std(data[col]) for col in data.columns}\n",
    "    return means, stds"
   ]
  },
  {
   "cell_type": "code",
   "execution_count": 144,
   "metadata": {},
   "outputs": [
    {
     "ename": "KeyError",
     "evalue": "0",
     "output_type": "error",
     "traceback": [
      "\u001b[1;31m---------------------------------------------------------------------------\u001b[0m",
      "\u001b[1;31mKeyError\u001b[0m                                  Traceback (most recent call last)",
      "\u001b[1;32m<ipython-input-144-49de995a394a>\u001b[0m in \u001b[0;36m<module>\u001b[1;34m\u001b[0m\n\u001b[0;32m     26\u001b[0m         \u001b[0mpredictions\u001b[0m \u001b[1;33m=\u001b[0m \u001b[0mpredict\u001b[0m\u001b[1;33m(\u001b[0m\u001b[0mtemp_test_x\u001b[0m\u001b[1;33m,\u001b[0m \u001b[0mtemp_means\u001b[0m\u001b[1;33m,\u001b[0m \u001b[0mtemp_stds\u001b[0m\u001b[1;33m,\u001b[0m \u001b[0mumbral\u001b[0m\u001b[1;33m)\u001b[0m\u001b[1;33m\u001b[0m\u001b[1;33m\u001b[0m\u001b[0m\n\u001b[0;32m     27\u001b[0m \u001b[1;33m\u001b[0m\u001b[0m\n\u001b[1;32m---> 28\u001b[1;33m \u001b[0mtrain\u001b[0m\u001b[1;33m(\u001b[0m\u001b[0mx_training_set\u001b[0m\u001b[1;33m,\u001b[0m \u001b[0my_training_set\u001b[0m\u001b[1;33m,\u001b[0m \u001b[0mx_cross_validation_set\u001b[0m\u001b[1;33m,\u001b[0m \u001b[0my_cross_validation_set\u001b[0m\u001b[1;33m,\u001b[0m \u001b[0mx_test_set\u001b[0m\u001b[1;33m,\u001b[0m \u001b[0my_test_set\u001b[0m\u001b[1;33m,\u001b[0m \u001b[1;36m2\u001b[0m\u001b[1;33m)\u001b[0m\u001b[1;33m\u001b[0m\u001b[1;33m\u001b[0m\u001b[0m\n\u001b[0m",
      "\u001b[1;32m<ipython-input-144-49de995a394a>\u001b[0m in \u001b[0;36mtrain\u001b[1;34m(x_train_data, y_train_data, x_validate_data, y_validate_data, x_test_data, y_test_data, umbral)\u001b[0m\n\u001b[0;32m     24\u001b[0m         \u001b[0mtemp_test_y\u001b[0m \u001b[1;33m=\u001b[0m \u001b[0mnp\u001b[0m\u001b[1;33m.\u001b[0m\u001b[0marray\u001b[0m\u001b[1;33m(\u001b[0m\u001b[0my_validate_data\u001b[0m\u001b[1;33m)\u001b[0m\u001b[1;33m[\u001b[0m\u001b[0mtest_index\u001b[0m\u001b[1;33m]\u001b[0m\u001b[1;33m\u001b[0m\u001b[1;33m\u001b[0m\u001b[0m\n\u001b[0;32m     25\u001b[0m \u001b[1;33m\u001b[0m\u001b[0m\n\u001b[1;32m---> 26\u001b[1;33m         \u001b[0mpredictions\u001b[0m \u001b[1;33m=\u001b[0m \u001b[0mpredict\u001b[0m\u001b[1;33m(\u001b[0m\u001b[0mtemp_test_x\u001b[0m\u001b[1;33m,\u001b[0m \u001b[0mtemp_means\u001b[0m\u001b[1;33m,\u001b[0m \u001b[0mtemp_stds\u001b[0m\u001b[1;33m,\u001b[0m \u001b[0mumbral\u001b[0m\u001b[1;33m)\u001b[0m\u001b[1;33m\u001b[0m\u001b[1;33m\u001b[0m\u001b[0m\n\u001b[0m\u001b[0;32m     27\u001b[0m \u001b[1;33m\u001b[0m\u001b[0m\n\u001b[0;32m     28\u001b[0m \u001b[0mtrain\u001b[0m\u001b[1;33m(\u001b[0m\u001b[0mx_training_set\u001b[0m\u001b[1;33m,\u001b[0m \u001b[0my_training_set\u001b[0m\u001b[1;33m,\u001b[0m \u001b[0mx_cross_validation_set\u001b[0m\u001b[1;33m,\u001b[0m \u001b[0my_cross_validation_set\u001b[0m\u001b[1;33m,\u001b[0m \u001b[0mx_test_set\u001b[0m\u001b[1;33m,\u001b[0m \u001b[0my_test_set\u001b[0m\u001b[1;33m,\u001b[0m \u001b[1;36m2\u001b[0m\u001b[1;33m)\u001b[0m\u001b[1;33m\u001b[0m\u001b[1;33m\u001b[0m\u001b[0m\n",
      "\u001b[1;32m<ipython-input-144-49de995a394a>\u001b[0m in \u001b[0;36mpredict\u001b[1;34m(data, means, stds, umbral)\u001b[0m\n\u001b[0;32m      6\u001b[0m     \u001b[0mresults\u001b[0m \u001b[1;33m=\u001b[0m \u001b[1;33m[\u001b[0m\u001b[1;33m]\u001b[0m\u001b[1;33m\u001b[0m\u001b[1;33m\u001b[0m\u001b[0m\n\u001b[0;32m      7\u001b[0m     \u001b[1;32mfor\u001b[0m \u001b[0mindex\u001b[0m \u001b[1;32min\u001b[0m \u001b[0mrange\u001b[0m\u001b[1;33m(\u001b[0m\u001b[0mlen\u001b[0m\u001b[1;33m(\u001b[0m\u001b[0mmeans\u001b[0m\u001b[1;33m)\u001b[0m\u001b[1;33m)\u001b[0m\u001b[1;33m:\u001b[0m\u001b[1;33m\u001b[0m\u001b[1;33m\u001b[0m\u001b[0m\n\u001b[1;32m----> 8\u001b[1;33m         \u001b[0mintrs\u001b[0m \u001b[1;33m=\u001b[0m \u001b[0mintervals\u001b[0m\u001b[1;33m(\u001b[0m\u001b[0mmeans\u001b[0m\u001b[1;33m[\u001b[0m\u001b[0mindex\u001b[0m\u001b[1;33m]\u001b[0m\u001b[1;33m,\u001b[0m \u001b[0mstds\u001b[0m\u001b[1;33m[\u001b[0m\u001b[0mindex\u001b[0m\u001b[1;33m]\u001b[0m\u001b[1;33m,\u001b[0m \u001b[0mumbral\u001b[0m\u001b[1;33m)\u001b[0m\u001b[1;33m\u001b[0m\u001b[1;33m\u001b[0m\u001b[0m\n\u001b[0m\u001b[0;32m      9\u001b[0m         \u001b[0mtemp_results\u001b[0m \u001b[1;33m=\u001b[0m \u001b[0mdata\u001b[0m\u001b[1;33m.\u001b[0m\u001b[0mapply\u001b[0m\u001b[1;33m(\u001b[0m\u001b[1;32mlambda\u001b[0m \u001b[0mx\u001b[0m\u001b[1;33m:\u001b[0m \u001b[1;32mFalse\u001b[0m \u001b[1;32mif\u001b[0m \u001b[1;33m(\u001b[0m\u001b[0mx\u001b[0m\u001b[1;33m[\u001b[0m\u001b[1;36m0\u001b[0m\u001b[1;33m]\u001b[0m \u001b[1;33m>=\u001b[0m \u001b[0mintrs\u001b[0m\u001b[1;33m[\u001b[0m\u001b[1;36m0\u001b[0m\u001b[1;33m]\u001b[0m \u001b[1;32mand\u001b[0m \u001b[0mx\u001b[0m\u001b[1;33m[\u001b[0m\u001b[1;36m0\u001b[0m\u001b[1;33m]\u001b[0m \u001b[1;33m<=\u001b[0m \u001b[0mintrs\u001b[0m\u001b[1;33m[\u001b[0m\u001b[1;36m1\u001b[0m\u001b[1;33m]\u001b[0m\u001b[1;33m)\u001b[0m \u001b[1;32melse\u001b[0m \u001b[1;36m1\u001b[0m\u001b[1;33m,\u001b[0m \u001b[0maxis\u001b[0m\u001b[1;33m=\u001b[0m\u001b[1;36m0\u001b[0m\u001b[1;33m)\u001b[0m\u001b[1;33m\u001b[0m\u001b[1;33m\u001b[0m\u001b[0m\n\u001b[0;32m     10\u001b[0m         \u001b[0mprint\u001b[0m\u001b[1;33m(\u001b[0m\u001b[0mtemp_results\u001b[0m\u001b[1;33m)\u001b[0m\u001b[1;33m\u001b[0m\u001b[1;33m\u001b[0m\u001b[0m\n",
      "\u001b[1;31mKeyError\u001b[0m: 0"
     ]
    }
   ],
   "source": [
    "def predict(data, means, stds, umbral):\n",
    "    \n",
    "    def intervals(mean, std, umbral):\n",
    "        return mean-(umbral*std), mean+(umbral*std)\n",
    "        \n",
    "    results = []\n",
    "    for index in range(len(means)):\n",
    "        intrs = intervals(means[index], stds[index], umbral)\n",
    "        temp_results = data.apply(lambda x: 0 if (x[0] >= intrs[0] and x[0] <= intrs[1]) else 1, axis=0)\n",
    "        print(temp_results)\n",
    "        \n",
    "def train(x_train_data, y_train_data, x_validate_data, y_validate_data, x_test_data, y_test_data, umbral):\n",
    "    means, stds = calculate_params(x_train_data)\n",
    "    \n",
    "    kf = KFold(n_splits=4)\n",
    "    folds = kf.get_n_splits(x_validate_data)\n",
    "    results = []\n",
    "    for train_index, test_index in kf.split(x_validate_data):\n",
    "        temp_train_x = x_validate_data.iloc[train_index]\n",
    "        temp_train_y = np.array(y_validate_data)[train_index]\n",
    "        \n",
    "        temp_means, temp_stds = calculate_params(temp_train_x)\n",
    "        temp_test_x = x_validate_data.iloc[test_index]\n",
    "        temp_test_y = np.array(y_validate_data)[test_index]\n",
    "        \n",
    "        predictions = predict(temp_test_x, temp_means, temp_stds, umbral)\n",
    "    \n",
    "train(x_training_set, y_training_set, x_cross_validation_set, y_cross_validation_set, x_test_set, y_test_set, 2)"
   ]
  },
  {
   "cell_type": "code",
   "execution_count": null,
   "metadata": {},
   "outputs": [],
   "source": []
  }
 ],
 "metadata": {
  "kernelspec": {
   "display_name": "Python 3",
   "language": "python",
   "name": "python3"
  },
  "language_info": {
   "codemirror_mode": {
    "name": "ipython",
    "version": 3
   },
   "file_extension": ".py",
   "mimetype": "text/x-python",
   "name": "python",
   "nbconvert_exporter": "python",
   "pygments_lexer": "ipython3",
   "version": "3.8.5"
  }
 },
 "nbformat": 4,
 "nbformat_minor": 4
}
