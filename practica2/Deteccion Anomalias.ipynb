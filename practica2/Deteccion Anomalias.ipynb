{
 "cells": [
  {
   "cell_type": "code",
   "execution_count": 18,
   "metadata": {},
   "outputs": [],
   "source": [
    "from sklearn.model_selection import train_test_split\n",
    "from sklearn.model_selection import KFold\n",
    "from sklearn.metrics import f1_score\n",
    "\n",
    "from scipy.stats import multivariate_normal\n",
    "\n",
    "import pandas as pd\n",
    "import numpy as np"
   ]
  },
  {
   "cell_type": "code",
   "execution_count": 11,
   "metadata": {},
   "outputs": [],
   "source": [
    "training_set = pd.read_csv('estaturas.xlsx - normales.csv')\n",
    "valtest_normales = pd.read_csv('estaturas.xlsx - valtest(normales).csv')\n",
    "valtest_anomalias = pd.read_csv('estaturas.xlsx - valtest(anomalias).csv')\n",
    "valtest_normales.columns = valtest_anomalias.columns\n",
    "training_set.columns = valtest_anomalias.columns\n",
    "training_set['response'] = 0\n",
    "valtest_anomalias['response'] = 1\n",
    "valtest_normales['response'] = 0\n",
    "\n",
    "x_training_set = training_set[['Estatura', 'Edad']]\n",
    "y_training_set = training_set['response']\n",
    "x_valtest_normales = valtest_normales[['Estatura', 'Edad']]\n",
    "y_valtest_normales = valtest_normales['response']\n",
    "x_valtest_anomalias = valtest_anomalias[['Estatura', 'Edad']]\n",
    "y_valtest_anomalias = valtest_anomalias['response']\n",
    "\n",
    "\n",
    "x_cross_validation_vn, x_test_vn, y_cross_validation_vn, y_test_vn = train_test_split(x_valtest_normales, y_valtest_normales, test_size=0.5)\n",
    "x_cross_validation_va, x_test_va, y_cross_validation_va, y_test_va = train_test_split(x_valtest_anomalias, y_valtest_anomalias, test_size=0.5)\n",
    "\n",
    "\n",
    "x_cross_validation_set = pd.concat([x_cross_validation_vn, x_cross_validation_va])\n",
    "y_cross_validation_set = pd.concat([y_cross_validation_vn, y_cross_validation_va])\n",
    "\n",
    "x_test_set = pd.concat([x_test_vn, x_test_va])\n",
    "y_test_set = pd.concat([y_test_vn, y_test_va])"
   ]
  },
  {
   "cell_type": "code",
   "execution_count": 23,
   "metadata": {},
   "outputs": [],
   "source": [
    "def calculate_params(data):\n",
    "    return np.mean(data, axis=0), np.cov(data.T)\n",
    "\n",
    "def calculate_function(data, mean, cv):\n",
    "    return multivariate_normal(mean, cv).pdf(data)"
   ]
  },
  {
   "cell_type": "code",
   "execution_count": 26,
   "metadata": {},
   "outputs": [
    {
     "data": {
      "text/plain": [
       "array([2.02151133e-05, 2.08473714e-05, 1.99386186e-05, 2.12126462e-05,\n",
       "       2.09535265e-05, 2.05844408e-05, 2.03240350e-05, 2.12245759e-05,\n",
       "       2.02288438e-05, 1.95292244e-05, 1.98038002e-05, 2.00854743e-05,\n",
       "       1.99557929e-05, 2.00614063e-05, 2.00854743e-05, 2.12024077e-05,\n",
       "       2.02030831e-05, 2.00476268e-05, 2.01962020e-05, 2.03429489e-05,\n",
       "       2.09740765e-05, 2.18733868e-05, 2.00957710e-05, 1.99557929e-05,\n",
       "       2.16550145e-05, 2.12041149e-05, 2.05655140e-05, 2.04740879e-05,\n",
       "       2.03309171e-05, 2.07083209e-05, 2.02065219e-05, 1.99695109e-05,\n",
       "       2.12058219e-05, 2.10867320e-05, 2.29953596e-05, 2.04551850e-05,\n",
       "       1.99403374e-05, 1.96656026e-05, 1.98038002e-05, 2.21450575e-05,\n",
       "       2.02065219e-05, 2.08285040e-05, 2.13193379e-05, 2.27028595e-05,\n",
       "       2.04655004e-05, 2.04637819e-05])"
      ]
     },
     "execution_count": 26,
     "metadata": {},
     "output_type": "execute_result"
    }
   ],
   "source": [
    "media, cv = calculate_params(x_test_set)\n",
    "func = calculate_function(x_test_set, media, cv)\n",
    "func"
   ]
  },
  {
   "cell_type": "code",
   "execution_count": null,
   "metadata": {},
   "outputs": [],
   "source": [
    "def predict(data, means, stds, umbral):\n",
    "    \n",
    "    def intervals(mean, std, umbral):\n",
    "        return [mean-(umbral*std), mean+(umbral*std)]\n",
    "        \n",
    "    results = []\n",
    "    for index in range(len(means)):\n",
    "        intrs = intervals(means[index], stds[index], umbral)\n",
    "        temp_results = data.apply(lambda x: 0 if (x[0] >= intrs[0] and x[0] <= intrs[1]) else 1, axis=0)\n",
    "        print(temp_results)\n",
    "        \n",
    "def train(x_train_data, y_train_data, x_validate_data, y_validate_data, x_test_data, y_test_data, umbral):\n",
    "    means, stds = calculate_params(x_train_data)\n",
    "    \n",
    "    kf = KFold(n_splits=4)\n",
    "    folds = kf.get_n_splits(x_validate_data)\n",
    "    results = []\n",
    "    for train_index, test_index in kf.split(x_validate_data):\n",
    "        temp_train_x = x_validate_data.iloc[train_index]\n",
    "        temp_train_y = np.array(y_validate_data)[train_index]\n",
    "        \n",
    "        temp_means, temp_stds = calculate_params(temp_train_x)\n",
    "        temp_test_x = x_validate_data.iloc[test_index]\n",
    "        temp_test_y = np.array(y_validate_data)[test_index]\n",
    "        \n",
    "        predictions = predict(temp_test_x, temp_means, temp_stds, umbral)\n",
    "    \n",
    "train(x_training_set, y_training_set, x_cross_validation_set, y_cross_validation_set, x_test_set, y_test_set, 2)"
   ]
  },
  {
   "cell_type": "code",
   "execution_count": null,
   "metadata": {},
   "outputs": [],
   "source": []
  }
 ],
 "metadata": {
  "kernelspec": {
   "display_name": "Python 3",
   "language": "python",
   "name": "python3"
  },
  "language_info": {
   "codemirror_mode": {
    "name": "ipython",
    "version": 3
   },
   "file_extension": ".py",
   "mimetype": "text/x-python",
   "name": "python",
   "nbconvert_exporter": "python",
   "pygments_lexer": "ipython3",
   "version": "3.8.5"
  }
 },
 "nbformat": 4,
 "nbformat_minor": 4
}
